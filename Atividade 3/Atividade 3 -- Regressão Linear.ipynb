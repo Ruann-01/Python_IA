{
 "cells": [
  {
   "cell_type": "markdown",
   "metadata": {},
   "source": [
    "# PARTE 1 - REGRESSÃO LINEAR SIMPLES\n",
    "\n",
    "Carregue o conjunto de dados de gorjetas. Faça o que se pede:\n",
    "1. Utilizando a biblioteca scikit-learn, treine um modelo de regressão linear que receba como entrada o valor total da conta (total_bill) e faça a predição do valor da gorjeta (tip).\n",
    "2. Mostre na tela o valor da função custo (erro médio quadrático / MSE) para o modelo treinado\n",
    "3. Mostre na tela os valores dos pesos (parâmetros).\n",
    "4. Para um valor de entrada de 30, qual a predição do modelo?\n",
    "5. Crie uma visualização que mostra no mesmo plot o scatterplot entre a entrada e a saída e a linha de regressão aprendida pelo modelo. E.g.:"
   ]
  },
  {
   "cell_type": "code",
   "execution_count": 1516,
   "metadata": {},
   "outputs": [],
   "source": [
    "import pandas as pd\n",
    "import numpy as np\n",
    "from sklearn.linear_model import LinearRegression\n",
    "from sklearn.metrics import mean_squared_error\n",
    "import matplotlib.pyplot as plt\n",
    "import seaborn as sns\n",
    "%matplotlib inline"
   ]
  },
  {
   "cell_type": "code",
   "execution_count": 1517,
   "metadata": {},
   "outputs": [
    {
     "data": {
      "text/html": [
       "<div>\n",
       "<style scoped>\n",
       "    .dataframe tbody tr th:only-of-type {\n",
       "        vertical-align: middle;\n",
       "    }\n",
       "\n",
       "    .dataframe tbody tr th {\n",
       "        vertical-align: top;\n",
       "    }\n",
       "\n",
       "    .dataframe thead th {\n",
       "        text-align: right;\n",
       "    }\n",
       "</style>\n",
       "<table border=\"1\" class=\"dataframe\">\n",
       "  <thead>\n",
       "    <tr style=\"text-align: right;\">\n",
       "      <th></th>\n",
       "      <th>total_bill</th>\n",
       "      <th>tip</th>\n",
       "      <th>sex</th>\n",
       "      <th>smoker</th>\n",
       "      <th>day</th>\n",
       "      <th>time</th>\n",
       "      <th>size</th>\n",
       "    </tr>\n",
       "  </thead>\n",
       "  <tbody>\n",
       "    <tr>\n",
       "      <th>0</th>\n",
       "      <td>16.99</td>\n",
       "      <td>1.01</td>\n",
       "      <td>Female</td>\n",
       "      <td>No</td>\n",
       "      <td>Sun</td>\n",
       "      <td>Dinner</td>\n",
       "      <td>2</td>\n",
       "    </tr>\n",
       "    <tr>\n",
       "      <th>1</th>\n",
       "      <td>10.34</td>\n",
       "      <td>1.66</td>\n",
       "      <td>Male</td>\n",
       "      <td>No</td>\n",
       "      <td>Sun</td>\n",
       "      <td>Dinner</td>\n",
       "      <td>3</td>\n",
       "    </tr>\n",
       "    <tr>\n",
       "      <th>2</th>\n",
       "      <td>21.01</td>\n",
       "      <td>3.50</td>\n",
       "      <td>Male</td>\n",
       "      <td>No</td>\n",
       "      <td>Sun</td>\n",
       "      <td>Dinner</td>\n",
       "      <td>3</td>\n",
       "    </tr>\n",
       "    <tr>\n",
       "      <th>3</th>\n",
       "      <td>23.68</td>\n",
       "      <td>3.31</td>\n",
       "      <td>Male</td>\n",
       "      <td>No</td>\n",
       "      <td>Sun</td>\n",
       "      <td>Dinner</td>\n",
       "      <td>2</td>\n",
       "    </tr>\n",
       "    <tr>\n",
       "      <th>4</th>\n",
       "      <td>24.59</td>\n",
       "      <td>3.61</td>\n",
       "      <td>Female</td>\n",
       "      <td>No</td>\n",
       "      <td>Sun</td>\n",
       "      <td>Dinner</td>\n",
       "      <td>4</td>\n",
       "    </tr>\n",
       "    <tr>\n",
       "      <th>...</th>\n",
       "      <td>...</td>\n",
       "      <td>...</td>\n",
       "      <td>...</td>\n",
       "      <td>...</td>\n",
       "      <td>...</td>\n",
       "      <td>...</td>\n",
       "      <td>...</td>\n",
       "    </tr>\n",
       "    <tr>\n",
       "      <th>239</th>\n",
       "      <td>29.03</td>\n",
       "      <td>5.92</td>\n",
       "      <td>Male</td>\n",
       "      <td>No</td>\n",
       "      <td>Sat</td>\n",
       "      <td>Dinner</td>\n",
       "      <td>3</td>\n",
       "    </tr>\n",
       "    <tr>\n",
       "      <th>240</th>\n",
       "      <td>27.18</td>\n",
       "      <td>2.00</td>\n",
       "      <td>Female</td>\n",
       "      <td>Yes</td>\n",
       "      <td>Sat</td>\n",
       "      <td>Dinner</td>\n",
       "      <td>2</td>\n",
       "    </tr>\n",
       "    <tr>\n",
       "      <th>241</th>\n",
       "      <td>22.67</td>\n",
       "      <td>2.00</td>\n",
       "      <td>Male</td>\n",
       "      <td>Yes</td>\n",
       "      <td>Sat</td>\n",
       "      <td>Dinner</td>\n",
       "      <td>2</td>\n",
       "    </tr>\n",
       "    <tr>\n",
       "      <th>242</th>\n",
       "      <td>17.82</td>\n",
       "      <td>1.75</td>\n",
       "      <td>Male</td>\n",
       "      <td>No</td>\n",
       "      <td>Sat</td>\n",
       "      <td>Dinner</td>\n",
       "      <td>2</td>\n",
       "    </tr>\n",
       "    <tr>\n",
       "      <th>243</th>\n",
       "      <td>18.78</td>\n",
       "      <td>3.00</td>\n",
       "      <td>Female</td>\n",
       "      <td>No</td>\n",
       "      <td>Thur</td>\n",
       "      <td>Dinner</td>\n",
       "      <td>2</td>\n",
       "    </tr>\n",
       "  </tbody>\n",
       "</table>\n",
       "<p>244 rows × 7 columns</p>\n",
       "</div>"
      ],
      "text/plain": [
       "     total_bill   tip     sex smoker   day    time  size\n",
       "0         16.99  1.01  Female     No   Sun  Dinner     2\n",
       "1         10.34  1.66    Male     No   Sun  Dinner     3\n",
       "2         21.01  3.50    Male     No   Sun  Dinner     3\n",
       "3         23.68  3.31    Male     No   Sun  Dinner     2\n",
       "4         24.59  3.61  Female     No   Sun  Dinner     4\n",
       "..          ...   ...     ...    ...   ...     ...   ...\n",
       "239       29.03  5.92    Male     No   Sat  Dinner     3\n",
       "240       27.18  2.00  Female    Yes   Sat  Dinner     2\n",
       "241       22.67  2.00    Male    Yes   Sat  Dinner     2\n",
       "242       17.82  1.75    Male     No   Sat  Dinner     2\n",
       "243       18.78  3.00  Female     No  Thur  Dinner     2\n",
       "\n",
       "[244 rows x 7 columns]"
      ]
     },
     "execution_count": 1517,
     "metadata": {},
     "output_type": "execute_result"
    }
   ],
   "source": [
    "df = pd.read_csv('https://raw.githubusercontent.com/mwaskom/seaborn-data/master/tips.csv')\n",
    "df"
   ]
  },
  {
   "cell_type": "markdown",
   "metadata": {},
   "source": [
    "### Questão 1\n",
    "Utilizando a biblioteca scikit-learn, treine um modelo de regressão linear que receba como entrada o valor total da conta (total_bill) e faça a predição do valor da gorjeta (tip)."
   ]
  },
  {
   "cell_type": "code",
   "execution_count": 1518,
   "metadata": {},
   "outputs": [],
   "source": [
    "x = df[['total_bill']]\n",
    "y = df['tip']"
   ]
  },
  {
   "cell_type": "code",
   "execution_count": 1519,
   "metadata": {},
   "outputs": [
    {
     "data": {
      "text/plain": [
       "(244, 1)"
      ]
     },
     "execution_count": 1519,
     "metadata": {},
     "output_type": "execute_result"
    }
   ],
   "source": [
    "x.shape"
   ]
  },
  {
   "cell_type": "code",
   "execution_count": 1520,
   "metadata": {},
   "outputs": [
    {
     "data": {
      "text/plain": [
       "(244,)"
      ]
     },
     "execution_count": 1520,
     "metadata": {},
     "output_type": "execute_result"
    }
   ],
   "source": [
    "y.shape"
   ]
  },
  {
   "cell_type": "code",
   "execution_count": 1521,
   "metadata": {},
   "outputs": [
    {
     "data": {
      "text/plain": [
       "LinearRegression()"
      ]
     },
     "execution_count": 1521,
     "metadata": {},
     "output_type": "execute_result"
    }
   ],
   "source": [
    "# criando e treinando o modelo\n",
    "model = LinearRegression()\n",
    "model.fit(x, y)"
   ]
  },
  {
   "cell_type": "code",
   "execution_count": 1522,
   "metadata": {},
   "outputs": [
    {
     "name": "stdout",
     "output_type": "stream",
     "text": [
      "[2.70463616 2.00622312 3.12683472 3.40725019 3.5028225  3.57633966\n",
      " 1.84133463 3.74332864 2.49983836 2.47253198 1.99887141 4.6234341\n",
      " 2.53974767 2.85587147 2.47778321 3.1866987  2.00517288 2.631119\n",
      " 2.70253567 3.0890259 ]\n"
     ]
    }
   ],
   "source": [
    "# Construindo a predição do modelo\n",
    "y_pred_model = model.predict(x)\n",
    "print(y_pred_model[:20])"
   ]
  },
  {
   "cell_type": "markdown",
   "metadata": {},
   "source": [
    "### Questão 2\n",
    "Mostre na tela o valor da função custo (erro médio quadrático / MSE) para o modelo treinado"
   ]
  },
  {
   "cell_type": "code",
   "execution_count": 1523,
   "metadata": {},
   "outputs": [
    {
     "name": "stdout",
     "output_type": "stream",
     "text": [
      "Erro médio quadrático: 1.04\n"
     ]
    }
   ],
   "source": [
    "#Erro médio quadrático\n",
    "print('Erro médio quadrático: %.2f' % mean_squared_error(y, y_pred_model))"
   ]
  },
  {
   "cell_type": "markdown",
   "metadata": {},
   "source": [
    "Complemento"
   ]
  },
  {
   "cell_type": "code",
   "execution_count": 1524,
   "metadata": {},
   "outputs": [
    {
     "data": {
      "text/plain": [
       "0.45661658635167657"
      ]
     },
     "execution_count": 1524,
     "metadata": {},
     "output_type": "execute_result"
    }
   ],
   "source": [
    "# para visualizar o Coeficiente de Determinação\n",
    "model.score(x,y)"
   ]
  },
  {
   "cell_type": "markdown",
   "metadata": {},
   "source": [
    "### Questão 3\n",
    "Mostre na tela os valores dos pesos (parâmetros)."
   ]
  },
  {
   "cell_type": "code",
   "execution_count": 1525,
   "metadata": {},
   "outputs": [
    {
     "name": "stdout",
     "output_type": "stream",
     "text": [
      "Coeficiente de interceptação(Peso w0): 0.9203\n",
      "Coeficiente de inclinação(Peso w1):    [0.10502]\n"
     ]
    }
   ],
   "source": [
    "#Imprimindo Coeficiente de interceptação, ou seja, peso w0.\n",
    "w0 = model.intercept_\n",
    "print(f'Coeficiente de interceptação(Peso w0): {w0:.4f}')\n",
    "\n",
    "#Imprimindo Coeficiente de Inclinação, ou seja, peso w1.\n",
    "w1 = model.coef_\n",
    "print(f'Coeficiente de inclinação(Peso w1):    {w1.round(5)}')"
   ]
  },
  {
   "cell_type": "markdown",
   "metadata": {},
   "source": [
    "### Questão 4\n",
    "Para um valor de entrada de 30, qual a predição do modelo?"
   ]
  },
  {
   "cell_type": "code",
   "execution_count": 1526,
   "metadata": {},
   "outputs": [
    {
     "data": {
      "text/plain": [
       "array([4.07100514])"
      ]
     },
     "execution_count": 1526,
     "metadata": {},
     "output_type": "execute_result"
    }
   ],
   "source": [
    "#Predição do modelo com o valor de entrada 30\n",
    "model.predict([[30]])"
   ]
  },
  {
   "cell_type": "markdown",
   "metadata": {},
   "source": [
    "### Questão 5\n",
    "Crie uma visualização que mostra no mesmo plot o scatterplot entre a entrada e a saída e a linha de regressão aprendida pelo modelo."
   ]
  },
  {
   "attachments": {
    "image.png": {
     "image/png": "[encoded data removed]"
    }
   },
   "cell_type": "markdown",
   "metadata": {},
   "source": [
    "![image.png](attachment:image.png)"
   ]
  },
  {
   "cell_type": "code",
   "execution_count": 1527,
   "metadata": {},
   "outputs": [
    {
     "data": {
      "image/png": "[encoded data removed]",
      "text/plain": [
       "<Figure size 432x288 with 1 Axes>"
      ]
     },
     "metadata": {
      "needs_background": "light"
     },
     "output_type": "display_data"
    }
   ],
   "source": [
    "# Plotar com scatterplot\n",
    "plt.scatter(x, y,  color='black')\n",
    "plt.plot(x, y_pred_model, color='blue', linewidth=3)\n",
    "plt.xlabel('Valor da Conta')\n",
    "plt.ylabel('Gorjeta')\n",
    "plt.show()"
   ]
  },
  {
   "cell_type": "markdown",
   "metadata": {},
   "source": [
    "# === Desafio === \n",
    "1. Para o mesmo conjunto de dados de gorjetas, treine um modelo de regressão linear implementando o algoritmo de gradiente descendente utilizando Numpy. Pode ser utilizado o gradiente descendente em batch ou o estocástico.\n",
    "2. Crie um gráfico que mostre o valor da função custo decaindo após cada iteração do treinamento. Plote ao menos 3 exemplos de treinamento com diferentes passos de aprendizagem. E.g.:\n",
    "3. Mostre as mesmas informações pedidas nas questões anteriores sobre a regressão linear criada com scikit-learn: MSE, pesos, predição para o valor 30 e o plot da reta aprendida. Compare com os resultados do modelo treinado com o scikit-learn.\n"
   ]
  },
  {
   "cell_type": "markdown",
   "metadata": {},
   "source": [
    "# Gradiente descedente Estocástico"
   ]
  },
  {
   "cell_type": "markdown",
   "metadata": {},
   "source": [
    "### Questão 1\n",
    "Para o mesmo conjunto de dados de gorjetas, treine um modelo de regressão linear implementando o algoritmo de gradiente descendente utilizando Numpy. Pode ser utilizado o gradiente descendente em batch ou o estocástico."
   ]
  },
  {
   "cell_type": "code",
   "execution_count": 1528,
   "metadata": {},
   "outputs": [],
   "source": [
    "X = df['total_bill']\n",
    "y = df['tip']\n",
    "#Definindo a função custo\n",
    "def  cal_cost(theta,X,y):\n",
    "    \n",
    "    m = len(y)\n",
    "    \n",
    "    predictions = X.dot(theta)\n",
    "    cost = (1/2*m) * np.sum(np.square(predictions-y)) #Definição do cálculo da função de custo\n",
    "    return cost"
   ]
  },
  {
   "cell_type": "code",
   "execution_count": 1529,
   "metadata": {},
   "outputs": [],
   "source": [
    "def stocashtic_gradient_descent(X,y,theta,learning_rate=0.01,iterations=10):\n",
    "    m = len(y)\n",
    "    cost_history = np.zeros(iterations)\n",
    "    \n",
    "    \n",
    "    for it in range(iterations): #qtd de vezes que passa pelos dados\n",
    "        cost =0.0\n",
    "        for i in range(m): #Vai de dado em dado\n",
    "            rand_ind = np.random.randint(0,m) #definindo dado aleatório randomicamente\n",
    "            X_i = X[rand_ind,:].reshape(1,X.shape[1]) #entrada randômica\n",
    "            y_i = y[rand_ind].reshape(1,1) #saída randômica\n",
    "            prediction = np.dot(X_i,theta) #multiplicação \n",
    "\n",
    "            theta = theta -(1/m)*learning_rate*( X_i.T.dot((prediction - y_i))) #atualizando os coeficientes(pesos)\n",
    "            cost += cal_cost(theta,X_i,y_i)\n",
    "        cost_history[it]  = cost\n",
    "        \n",
    "    return theta, cost_history"
   ]
  },
  {
   "cell_type": "markdown",
   "metadata": {},
   "source": [
    "### Questão 2\n",
    "Crie um gráfico que mostre o valor da função custo decaindo após cada iteração do treinamento. Plote ao menos 3 exemplos de treinamento com diferentes passos de aprendizagem."
   ]
  },
  {
   "cell_type": "code",
   "execution_count": 1530,
   "metadata": {},
   "outputs": [
    {
     "name": "stdout",
     "output_type": "stream",
     "text": [
      "Theta0:          0.096\n",
      "Theta1:          0.135\n",
      "Final cost/MSE:  107.576\n"
     ]
    }
   ],
   "source": [
    "lr =0.0001 #Definindo a taxa de aprendizagem\n",
    "n_iter1 = 100 #Definindo número de interações\n",
    "\n",
    "theta = np.random.randn(2,1) #Gerando o teta(pesos) randomicamente\n",
    "\n",
    "X_b = np.c_[np.ones((len(X),1)),X] #Criando uma matriz de 1's para fazer a multiplicação com o peso w0\n",
    "theta,cost_history1 = stocashtic_gradient_descent(X_b,y,theta,lr,n_iter1)\n",
    "\n",
    "\n",
    "print('Theta0:          {:0.3f}\\nTheta1:          {:0.3f}'.format(theta[0][0],theta[1][0]))\n",
    "print('Final cost/MSE:  {:0.3f}'.format(cost_history1[-1]))"
   ]
  },
  {
   "cell_type": "code",
   "execution_count": 1531,
   "metadata": {},
   "outputs": [
    {
     "data": {
      "image/png": "[encoded data removed]",
      "text/plain": [
       "<Figure size 720x576 with 1 Axes>"
      ]
     },
     "metadata": {
      "needs_background": "light"
     },
     "output_type": "display_data"
    }
   ],
   "source": [
    "fig,ax = plt.subplots(figsize=(10,8))\n",
    "\n",
    "ax.set_ylabel('Custo')\n",
    "ax.set_xlabel('Interações')\n",
    "\n",
    "ax.plot(range(n_iter1),cost_history1,'b.');"
   ]
  },
  {
   "cell_type": "code",
   "execution_count": 1532,
   "metadata": {},
   "outputs": [
    {
     "name": "stdout",
     "output_type": "stream",
     "text": [
      "Theta0:          -1.173\n",
      "Theta1:          0.191\n",
      "Final cost/MSE:  214.371\n"
     ]
    }
   ],
   "source": [
    "lr =0.001 #Definindo a taxa de aprendizagem\n",
    "n_iter2 = 100 #Definindo número de interações\n",
    "\n",
    "theta = np.random.randn(2,1) #Gerando o teta(pesos) randomicamente\n",
    "\n",
    "X_b = np.c_[np.ones((len(X),1)),X]#Criando uma matriz de 1's para fazer a multiplicação com o peso w0\n",
    "theta,cost_history2 = stocashtic_gradient_descent(X_b,y,theta,lr,n_iter2)\n",
    "\n",
    "\n",
    "print('Theta0:          {:0.3f}\\nTheta1:          {:0.3f}'.format(theta[0][0],theta[1][0]))\n",
    "print('Final cost/MSE:  {:0.3f}'.format(cost_history2[-1]))"
   ]
  },
  {
   "cell_type": "code",
   "execution_count": 1533,
   "metadata": {},
   "outputs": [
    {
     "data": {
      "image/png": "[encoded data removed]",
      "text/plain": [
       "<Figure size 720x576 with 1 Axes>"
      ]
     },
     "metadata": {
      "needs_background": "light"
     },
     "output_type": "display_data"
    }
   ],
   "source": [
    "fig,ax = plt.subplots(figsize=(10,8))\n",
    "\n",
    "ax.set_ylabel('Custo')\n",
    "ax.set_xlabel('Interações')\n",
    "\n",
    "\n",
    "ax.plot(range(n_iter2),cost_history2,'b.');"
   ]
  },
  {
   "cell_type": "code",
   "execution_count": 1534,
   "metadata": {},
   "outputs": [
    {
     "name": "stdout",
     "output_type": "stream",
     "text": [
      "Theta0:          -0.042\n",
      "Theta1:          0.147\n",
      "Final cost/MSE:  164.818\n"
     ]
    }
   ],
   "source": [
    "lr =0.0003 #Definindo taxa de aprendizagem\n",
    "n_iter3 = 100 #Definindo número de interações\n",
    "\n",
    "theta = np.random.randn(2,1) #Gerando o teta(pesos) randomicamente\n",
    "\n",
    "X_b = np.c_[np.ones((len(X),1)),X]#Criando uma matriz de 1's para fazer a multiplicação com o peso w0\n",
    "theta,cost_history3 = stocashtic_gradient_descent(X_b,y,theta,lr,n_iter3)\n",
    "\n",
    "\n",
    "print('Theta0:          {:0.3f}\\nTheta1:          {:0.3f}'.format(theta[0][0],theta[1][0]))\n",
    "print('Final cost/MSE:  {:0.3f}'.format(cost_history3[-1]))"
   ]
  },
  {
   "cell_type": "code",
   "execution_count": 1535,
   "metadata": {},
   "outputs": [
    {
     "data": {
      "image/png": "[encoded data removed]",
      "text/plain": [
       "<Figure size 720x576 with 1 Axes>"
      ]
     },
     "metadata": {
      "needs_background": "light"
     },
     "output_type": "display_data"
    }
   ],
   "source": [
    "fig,ax = plt.subplots(figsize=(10,8))\n",
    "\n",
    "ax.set_ylabel('Custo')\n",
    "ax.set_xlabel('Interações')\n",
    "\n",
    "ax.plot(range(n_iter3),cost_history3,'b.');"
   ]
  },
  {
   "cell_type": "markdown",
   "metadata": {},
   "source": [
    "# PARTE 2 - Regressão Linear Múltipla\n",
    "Considere o conjunto de dados disponibilizado neste link. Os dados referem-se às casas encontradas em um determinado distrito da Califórnia e a algumas estatísticas resumidas sobre elas com base nos dados do censo de 1990. Considere que haja um problema de regressão no qual desejamos criar um modelo que faça a predição do valor mediano das casas de um distrito ('median_house_value') com base em outras informações. Crie pelo menos 3 modelos que façam essa predição utilizando mais de uma variável de entrada e compare a diferença de MSE. Qual o melhor modelo encontrado? Justifique a escolha das variáveis."
   ]
  },
  {
   "cell_type": "code",
   "execution_count": 1536,
   "metadata": {},
   "outputs": [
    {
     "data": {
      "text/html": [
       "<div>\n",
       "<style scoped>\n",
       "    .dataframe tbody tr th:only-of-type {\n",
       "        vertical-align: middle;\n",
       "    }\n",
       "\n",
       "    .dataframe tbody tr th {\n",
       "        vertical-align: top;\n",
       "    }\n",
       "\n",
       "    .dataframe thead th {\n",
       "        text-align: right;\n",
       "    }\n",
       "</style>\n",
       "<table border=\"1\" class=\"dataframe\">\n",
       "  <thead>\n",
       "    <tr style=\"text-align: right;\">\n",
       "      <th></th>\n",
       "      <th>longitude</th>\n",
       "      <th>latitude</th>\n",
       "      <th>housing_median_age</th>\n",
       "      <th>total_rooms</th>\n",
       "      <th>total_bedrooms</th>\n",
       "      <th>population</th>\n",
       "      <th>households</th>\n",
       "      <th>median_income</th>\n",
       "      <th>median_house_value</th>\n",
       "    </tr>\n",
       "  </thead>\n",
       "  <tbody>\n",
       "    <tr>\n",
       "      <th>0</th>\n",
       "      <td>-114.31</td>\n",
       "      <td>34.19</td>\n",
       "      <td>15.0</td>\n",
       "      <td>5612.0</td>\n",
       "      <td>1283.0</td>\n",
       "      <td>1015.0</td>\n",
       "      <td>472.0</td>\n",
       "      <td>1.4936</td>\n",
       "      <td>66900.0</td>\n",
       "    </tr>\n",
       "    <tr>\n",
       "      <th>1</th>\n",
       "      <td>-114.47</td>\n",
       "      <td>34.40</td>\n",
       "      <td>19.0</td>\n",
       "      <td>7650.0</td>\n",
       "      <td>1901.0</td>\n",
       "      <td>1129.0</td>\n",
       "      <td>463.0</td>\n",
       "      <td>1.8200</td>\n",
       "      <td>80100.0</td>\n",
       "    </tr>\n",
       "    <tr>\n",
       "      <th>2</th>\n",
       "      <td>-114.56</td>\n",
       "      <td>33.69</td>\n",
       "      <td>17.0</td>\n",
       "      <td>720.0</td>\n",
       "      <td>174.0</td>\n",
       "      <td>333.0</td>\n",
       "      <td>117.0</td>\n",
       "      <td>1.6509</td>\n",
       "      <td>85700.0</td>\n",
       "    </tr>\n",
       "    <tr>\n",
       "      <th>3</th>\n",
       "      <td>-114.57</td>\n",
       "      <td>33.64</td>\n",
       "      <td>14.0</td>\n",
       "      <td>1501.0</td>\n",
       "      <td>337.0</td>\n",
       "      <td>515.0</td>\n",
       "      <td>226.0</td>\n",
       "      <td>3.1917</td>\n",
       "      <td>73400.0</td>\n",
       "    </tr>\n",
       "    <tr>\n",
       "      <th>4</th>\n",
       "      <td>-114.57</td>\n",
       "      <td>33.57</td>\n",
       "      <td>20.0</td>\n",
       "      <td>1454.0</td>\n",
       "      <td>326.0</td>\n",
       "      <td>624.0</td>\n",
       "      <td>262.0</td>\n",
       "      <td>1.9250</td>\n",
       "      <td>65500.0</td>\n",
       "    </tr>\n",
       "    <tr>\n",
       "      <th>...</th>\n",
       "      <td>...</td>\n",
       "      <td>...</td>\n",
       "      <td>...</td>\n",
       "      <td>...</td>\n",
       "      <td>...</td>\n",
       "      <td>...</td>\n",
       "      <td>...</td>\n",
       "      <td>...</td>\n",
       "      <td>...</td>\n",
       "    </tr>\n",
       "    <tr>\n",
       "      <th>16995</th>\n",
       "      <td>-124.26</td>\n",
       "      <td>40.58</td>\n",
       "      <td>52.0</td>\n",
       "      <td>2217.0</td>\n",
       "      <td>394.0</td>\n",
       "      <td>907.0</td>\n",
       "      <td>369.0</td>\n",
       "      <td>2.3571</td>\n",
       "      <td>111400.0</td>\n",
       "    </tr>\n",
       "    <tr>\n",
       "      <th>16996</th>\n",
       "      <td>-124.27</td>\n",
       "      <td>40.69</td>\n",
       "      <td>36.0</td>\n",
       "      <td>2349.0</td>\n",
       "      <td>528.0</td>\n",
       "      <td>1194.0</td>\n",
       "      <td>465.0</td>\n",
       "      <td>2.5179</td>\n",
       "      <td>79000.0</td>\n",
       "    </tr>\n",
       "    <tr>\n",
       "      <th>16997</th>\n",
       "      <td>-124.30</td>\n",
       "      <td>41.84</td>\n",
       "      <td>17.0</td>\n",
       "      <td>2677.0</td>\n",
       "      <td>531.0</td>\n",
       "      <td>1244.0</td>\n",
       "      <td>456.0</td>\n",
       "      <td>3.0313</td>\n",
       "      <td>103600.0</td>\n",
       "    </tr>\n",
       "    <tr>\n",
       "      <th>16998</th>\n",
       "      <td>-124.30</td>\n",
       "      <td>41.80</td>\n",
       "      <td>19.0</td>\n",
       "      <td>2672.0</td>\n",
       "      <td>552.0</td>\n",
       "      <td>1298.0</td>\n",
       "      <td>478.0</td>\n",
       "      <td>1.9797</td>\n",
       "      <td>85800.0</td>\n",
       "    </tr>\n",
       "    <tr>\n",
       "      <th>16999</th>\n",
       "      <td>-124.35</td>\n",
       "      <td>40.54</td>\n",
       "      <td>52.0</td>\n",
       "      <td>1820.0</td>\n",
       "      <td>300.0</td>\n",
       "      <td>806.0</td>\n",
       "      <td>270.0</td>\n",
       "      <td>3.0147</td>\n",
       "      <td>94600.0</td>\n",
       "    </tr>\n",
       "  </tbody>\n",
       "</table>\n",
       "<p>17000 rows × 9 columns</p>\n",
       "</div>"
      ],
      "text/plain": [
       "       longitude  latitude  housing_median_age  total_rooms  total_bedrooms  \\\n",
       "0        -114.31     34.19                15.0       5612.0          1283.0   \n",
       "1        -114.47     34.40                19.0       7650.0          1901.0   \n",
       "2        -114.56     33.69                17.0        720.0           174.0   \n",
       "3        -114.57     33.64                14.0       1501.0           337.0   \n",
       "4        -114.57     33.57                20.0       1454.0           326.0   \n",
       "...          ...       ...                 ...          ...             ...   \n",
       "16995    -124.26     40.58                52.0       2217.0           394.0   \n",
       "16996    -124.27     40.69                36.0       2349.0           528.0   \n",
       "16997    -124.30     41.84                17.0       2677.0           531.0   \n",
       "16998    -124.30     41.80                19.0       2672.0           552.0   \n",
       "16999    -124.35     40.54                52.0       1820.0           300.0   \n",
       "\n",
       "       population  households  median_income  median_house_value  \n",
       "0          1015.0       472.0         1.4936             66900.0  \n",
       "1          1129.0       463.0         1.8200             80100.0  \n",
       "2           333.0       117.0         1.6509             85700.0  \n",
       "3           515.0       226.0         3.1917             73400.0  \n",
       "4           624.0       262.0         1.9250             65500.0  \n",
       "...           ...         ...            ...                 ...  \n",
       "16995       907.0       369.0         2.3571            111400.0  \n",
       "16996      1194.0       465.0         2.5179             79000.0  \n",
       "16997      1244.0       456.0         3.0313            103600.0  \n",
       "16998      1298.0       478.0         1.9797             85800.0  \n",
       "16999       806.0       270.0         3.0147             94600.0  \n",
       "\n",
       "[17000 rows x 9 columns]"
      ]
     },
     "execution_count": 1536,
     "metadata": {},
     "output_type": "execute_result"
    }
   ],
   "source": [
    "df_house = pd.read_csv('california_housing_train.csv')\n",
    "df_house"
   ]
  },
  {
   "cell_type": "code",
   "execution_count": 1537,
   "metadata": {},
   "outputs": [],
   "source": [
    "df_house.describe();"
   ]
  },
  {
   "cell_type": "code",
   "execution_count": 1538,
   "metadata": {},
   "outputs": [
    {
     "data": {
      "image/png": "[encoded data removed]",
      "text/plain": [
       "<Figure size 720x504 with 2 Axes>"
      ]
     },
     "metadata": {
      "needs_background": "light"
     },
     "output_type": "display_data"
    }
   ],
   "source": [
    "import matplotlib.pyplot as plt\n",
    "import seaborn as sns\n",
    "plt.figure(figsize=(10, 7))\n",
    "sns.heatmap(df_house.corr(),\n",
    "            annot = True,\n",
    "            fmt = '.2f',#deixando em duas casas decimais\n",
    "            cmap='Blues')\n",
    "plt.title('Correlação entre variáveis do dataset de um distrito da Califórnia')\n",
    "plt.show()"
   ]
  },
  {
   "cell_type": "markdown",
   "metadata": {},
   "source": [
    "### Modelo 1\n",
    "No primeiro modelo escolhido, as features de entrada serão: 'media_income' e 'hounsing_median_age' por apresentarem na matriz de correlação, uma correlação relevante com a variável de saída 'median_house_value'."
   ]
  },
  {
   "cell_type": "code",
   "execution_count": 1539,
   "metadata": {},
   "outputs": [],
   "source": [
    "X = df_house[['median_income','housing_median_age']]\n",
    "y = df_house['median_house_value']"
   ]
  },
  {
   "cell_type": "code",
   "execution_count": 1540,
   "metadata": {},
   "outputs": [],
   "source": [
    "# criando e treinando o modelo\n",
    "model = LinearRegression()\n",
    "model.fit(X, y)\n",
    "# Construindo a predição do modelo\n",
    "y_pred_model = model.predict(X)"
   ]
  },
  {
   "cell_type": "code",
   "execution_count": 1541,
   "metadata": {},
   "outputs": [
    {
     "name": "stdout",
     "output_type": "stream",
     "text": [
      "Erro médio quadrático: 6535814191.46\n",
      "Raiz do erro médio quadrático: 80844.38\n",
      "Coeficiente de interceptação(Peso w0): -11131.3643\n",
      "Coeficiente de inclinação(Peso w1):  [43389.52463  1746.30287]\n",
      "Coeficiente de determinação: 0.5141179623105907\n"
     ]
    }
   ],
   "source": [
    "#Erro médio quadrático\n",
    "\n",
    "print('Erro médio quadrático: %.2f' % mean_squared_error(y_pred_model,y))\n",
    "print('Raiz do erro médio quadrático: %.2f' % mean_squared_error(y_pred_model,y,squared=False))\n",
    "#Imprimindo Coeficiente de interceptação, ou seja, peso w0.\n",
    "w0 = model.intercept_\n",
    "print(f'Coeficiente de interceptação(Peso w0): {w0:.4f}')\n",
    "\n",
    "#Imprimindo Coeficiente de Inclinação, ou seja, peso w1.\n",
    "w1 = model.coef_\n",
    "print(f'Coeficiente de inclinação(Peso w1):  {w1.round(5)}')\n",
    "\n",
    "print('Coeficiente de determinação:', model.score(X, y))"
   ]
  },
  {
   "cell_type": "markdown",
   "metadata": {},
   "source": [
    "### Modelo 2\n",
    "Aqui utilizarei todas as features possíveis como entrada para ver o comportamento do modelo com todas elas como entrada.\n",
    "Obviamente, tendo como saída a predição valor mediano das casas de um distrito ('median_house_value').\n"
   ]
  },
  {
   "cell_type": "code",
   "execution_count": 1542,
   "metadata": {},
   "outputs": [],
   "source": [
    "X = df_house.drop(['median_house_value'], axis = 1) \n",
    "y = df_house.median_house_value #Definindo somente a 'median_house_value' como saída\n",
    "X;"
   ]
  },
  {
   "cell_type": "code",
   "execution_count": 1543,
   "metadata": {},
   "outputs": [],
   "source": [
    "# criando e treinando o modelo\n",
    "model = LinearRegression()\n",
    "model.fit(X, y)\n",
    "# Construindo a predição do modelo\n",
    "y_pred_model = model.predict(X)"
   ]
  },
  {
   "cell_type": "code",
   "execution_count": 1544,
   "metadata": {},
   "outputs": [
    {
     "name": "stdout",
     "output_type": "stream",
     "text": [
      "Erro médio quadrático: 4824523173.93\n",
      "Raiz do erro médio quadrático: 69458.79\n",
      "Coeficiente de interceptação(Peso w0): -3620600.8930\n",
      "Coeficiente de inclinação(Peso w1):  [-4.31396373e+04 -4.29256731e+04  1.15069493e+03 -8.37825000e+00\n",
      "  1.17648540e+02 -3.84887700e+01  4.54360000e+01  4.05070684e+04]\n",
      "Coeficiente de determinação: 0.6413378529502689\n"
     ]
    }
   ],
   "source": [
    "#Erro médio quadrático\n",
    "print('Erro médio quadrático: %.2f' % mean_squared_error(y_pred_model,y))\n",
    "print('Raiz do erro médio quadrático: %.2f' % mean_squared_error(y_pred_model,y,squared=False))\n",
    "#Imprimindo Coeficiente de interceptação, ou seja, peso w0.\n",
    "w0 = model.intercept_\n",
    "print(f'Coeficiente de interceptação(Peso w0): {w0:.4f}')\n",
    "\n",
    "#Imprimindo Coeficiente de Inclinação, ou seja, peso w1.\n",
    "w1 = model.coef_\n",
    "print(f'Coeficiente de inclinação(Peso w1):  {w1.round(5)}')\n",
    "\n",
    "print('Coeficiente de determinação:', model.score(X, y))"
   ]
  },
  {
   "cell_type": "markdown",
   "metadata": {},
   "source": [
    "### Modelo 3\n",
    "Aplicando o Recursive Feature Elimination - RFE para definição das features escolhidas:\n",
    "- O RFE constrói modelos à partir da remoções de features\n",
    "- Utiliza a acurácia do modelo para identificar atributos ou a combinação destes que melhor contribui para se ter uma melhor perfomance \n",
    "- Em grandes bases de dados o tempo de processamento pode ser um problema "
   ]
  },
  {
   "cell_type": "code",
   "execution_count": 1545,
   "metadata": {},
   "outputs": [],
   "source": [
    "from sklearn.feature_selection import RFE\n",
    "X = df_house.drop(['median_house_value'], axis = 1)\n",
    "y = df_house.median_house_value\n",
    "X;\n",
    "model = LinearRegression()\n",
    "rfe = RFE(model, n_features_to_select=4) #Definindo a quantidade de atributos(features) que devem ser selecionadas pelo RFE e também a instanciação, no caso o model(regressão linear)"
   ]
  },
  {
   "cell_type": "code",
   "execution_count": 1546,
   "metadata": {},
   "outputs": [],
   "source": [
    "fit = rfe.fit(X,y) #Entregando os dados para o rfe, que vai fazer a criação do modelo e fazer os testes levando em consideração, a acurácia. Definindo isso tudo na variável fit"
   ]
  },
  {
   "cell_type": "code",
   "execution_count": 1547,
   "metadata": {},
   "outputs": [
    {
     "name": "stdout",
     "output_type": "stream",
     "text": [
      "Número de features escolhidas: 4\n"
     ]
    }
   ],
   "source": [
    "print(\"Número de features escolhidas: {}\".format(fit.n_features_))"
   ]
  },
  {
   "cell_type": "code",
   "execution_count": 1548,
   "metadata": {},
   "outputs": [
    {
     "data": {
      "text/html": [
       "<div>\n",
       "<style scoped>\n",
       "    .dataframe tbody tr th:only-of-type {\n",
       "        vertical-align: middle;\n",
       "    }\n",
       "\n",
       "    .dataframe tbody tr th {\n",
       "        vertical-align: top;\n",
       "    }\n",
       "\n",
       "    .dataframe thead th {\n",
       "        text-align: right;\n",
       "    }\n",
       "</style>\n",
       "<table border=\"1\" class=\"dataframe\">\n",
       "  <thead>\n",
       "    <tr style=\"text-align: right;\">\n",
       "      <th></th>\n",
       "      <th>longitude</th>\n",
       "      <th>latitude</th>\n",
       "      <th>housing_median_age</th>\n",
       "      <th>median_income</th>\n",
       "    </tr>\n",
       "  </thead>\n",
       "  <tbody>\n",
       "    <tr>\n",
       "      <th>0</th>\n",
       "      <td>-114.31</td>\n",
       "      <td>34.19</td>\n",
       "      <td>15.0</td>\n",
       "      <td>1.4936</td>\n",
       "    </tr>\n",
       "    <tr>\n",
       "      <th>1</th>\n",
       "      <td>-114.47</td>\n",
       "      <td>34.40</td>\n",
       "      <td>19.0</td>\n",
       "      <td>1.8200</td>\n",
       "    </tr>\n",
       "    <tr>\n",
       "      <th>2</th>\n",
       "      <td>-114.56</td>\n",
       "      <td>33.69</td>\n",
       "      <td>17.0</td>\n",
       "      <td>1.6509</td>\n",
       "    </tr>\n",
       "    <tr>\n",
       "      <th>3</th>\n",
       "      <td>-114.57</td>\n",
       "      <td>33.64</td>\n",
       "      <td>14.0</td>\n",
       "      <td>3.1917</td>\n",
       "    </tr>\n",
       "    <tr>\n",
       "      <th>4</th>\n",
       "      <td>-114.57</td>\n",
       "      <td>33.57</td>\n",
       "      <td>20.0</td>\n",
       "      <td>1.9250</td>\n",
       "    </tr>\n",
       "    <tr>\n",
       "      <th>...</th>\n",
       "      <td>...</td>\n",
       "      <td>...</td>\n",
       "      <td>...</td>\n",
       "      <td>...</td>\n",
       "    </tr>\n",
       "    <tr>\n",
       "      <th>16995</th>\n",
       "      <td>-124.26</td>\n",
       "      <td>40.58</td>\n",
       "      <td>52.0</td>\n",
       "      <td>2.3571</td>\n",
       "    </tr>\n",
       "    <tr>\n",
       "      <th>16996</th>\n",
       "      <td>-124.27</td>\n",
       "      <td>40.69</td>\n",
       "      <td>36.0</td>\n",
       "      <td>2.5179</td>\n",
       "    </tr>\n",
       "    <tr>\n",
       "      <th>16997</th>\n",
       "      <td>-124.30</td>\n",
       "      <td>41.84</td>\n",
       "      <td>17.0</td>\n",
       "      <td>3.0313</td>\n",
       "    </tr>\n",
       "    <tr>\n",
       "      <th>16998</th>\n",
       "      <td>-124.30</td>\n",
       "      <td>41.80</td>\n",
       "      <td>19.0</td>\n",
       "      <td>1.9797</td>\n",
       "    </tr>\n",
       "    <tr>\n",
       "      <th>16999</th>\n",
       "      <td>-124.35</td>\n",
       "      <td>40.54</td>\n",
       "      <td>52.0</td>\n",
       "      <td>3.0147</td>\n",
       "    </tr>\n",
       "  </tbody>\n",
       "</table>\n",
       "<p>17000 rows × 4 columns</p>\n",
       "</div>"
      ],
      "text/plain": [
       "       longitude  latitude  housing_median_age  median_income\n",
       "0        -114.31     34.19                15.0         1.4936\n",
       "1        -114.47     34.40                19.0         1.8200\n",
       "2        -114.56     33.69                17.0         1.6509\n",
       "3        -114.57     33.64                14.0         3.1917\n",
       "4        -114.57     33.57                20.0         1.9250\n",
       "...          ...       ...                 ...            ...\n",
       "16995    -124.26     40.58                52.0         2.3571\n",
       "16996    -124.27     40.69                36.0         2.5179\n",
       "16997    -124.30     41.84                17.0         3.0313\n",
       "16998    -124.30     41.80                19.0         1.9797\n",
       "16999    -124.35     40.54                52.0         3.0147\n",
       "\n",
       "[17000 rows x 4 columns]"
      ]
     },
     "execution_count": 1548,
     "metadata": {},
     "output_type": "execute_result"
    }
   ],
   "source": [
    "colunas = fit.get_support(indices=True) \n",
    "df_house.iloc[:,colunas] #imprimindo o df_house trazendo as features que o método RFE considera como as melhores"
   ]
  },
  {
   "cell_type": "code",
   "execution_count": 1549,
   "metadata": {},
   "outputs": [],
   "source": [
    "# Redefinindo as entradas à partir da filtragem com o RFE\n",
    "X = df_house.iloc[:,colunas]\n",
    "y = df_house['median_house_value']"
   ]
  },
  {
   "cell_type": "code",
   "execution_count": 1550,
   "metadata": {},
   "outputs": [],
   "source": [
    "# criando e treinando o modelo\n",
    "model = LinearRegression()\n",
    "model.fit(X, y)\n",
    "# Construindo a predição do modelo\n",
    "y_pred_model = model.predict(X)"
   ]
  },
  {
   "cell_type": "code",
   "execution_count": 1551,
   "metadata": {},
   "outputs": [
    {
     "name": "stdout",
     "output_type": "stream",
     "text": [
      "Erro médio quadrático: 5406096300.11\n",
      "Coeficiente de interceptação(Peso w0): -3791572.4718\n",
      "Coeficiente de inclinação(Peso w1):  [-45241.04705 -44497.77956    953.27001  38044.41152]\n",
      "Coeficiente de determinação: 0.5981028515659096\n"
     ]
    }
   ],
   "source": [
    "#Erro médio quadrático\n",
    "print('Erro médio quadrático: %.2f' % mean_squared_error(y_pred_model,y))\n",
    "#Imprimindo Coeficiente de interceptação, ou seja, peso w0.\n",
    "w0 = model.intercept_\n",
    "print(f'Coeficiente de interceptação(Peso w0): {w0:.4f}')\n",
    "\n",
    "#Imprimindo Coeficiente de Inclinação, ou seja, peso w1.\n",
    "w1 = model.coef_\n",
    "print(f'Coeficiente de inclinação(Peso w1):  {w1.round(5)}')\n",
    "\n",
    "print('Coeficiente de determinação:', model.score(X, y))"
   ]
  },
  {
   "cell_type": "markdown",
   "metadata": {},
   "source": [
    "##### Tendo como base, o erro quadrático médio e o coeficiente de determinação como complemento, o modelo que apresentou o melhor resultado, foi o Modelo 2, em que utilizei como entrada, todas as features disponíveis (comentar sobre isso). A sequência, ficou:\n",
    "##### 1. Modelo 2 \n",
    "##### 2. Modelo 3\n",
    "##### 3. Modelo 1"
   ]
  },
  {
   "cell_type": "markdown",
   "metadata": {},
   "source": [
    "# PARTE 3 - Regressão Polinomial\n",
    "Considerando o mesmo problema tratado na Parte 2, treine modelos de regressão utilizando transformações não-lineares dos atributos (x², x³, etc...). Pode-se utilizar transformações em um ou mais atributos. Treine pelo menos 3 modelos diferentes e faça o plot das curvas de regressão comparada com o scatterplot (análogo ao que foi feito na questão 5 da Parte 1). Calcule o MSE para cada um dos modelos. Qual modelo se ajustou melhor aos dados em termos de MSE?\n"
   ]
  },
  {
   "cell_type": "markdown",
   "metadata": {},
   "source": [
    "### Modelo 1\n",
    "Utilizarei como entradas, as features: 'media_income' e 'hounsing_median_age' por apresentarem na matriz de correlação, uma correlação relevante com a variável de saída 'median_house_value'.\n"
   ]
  },
  {
   "cell_type": "code",
   "execution_count": 1552,
   "metadata": {},
   "outputs": [
    {
     "name": "stdout",
     "output_type": "stream",
     "text": [
      "Erro médio quadrático: 6272560971.92\n",
      "Coeficiente de interceptação(Peso w0): -5354.829441326321\n",
      "Coeficiente de inclinação(Peso w1):  [ 1.82512279e+04  5.44772642e+03  6.05165255e+03 -1.72856200e+02\n",
      " -3.70943180e+02  2.23936000e+00]\n",
      "Coeficiente de determinação: 0.5336885937561535\n"
     ]
    }
   ],
   "source": [
    "X = df_house[['median_income','housing_median_age']]\n",
    "y = df_house['median_house_value']\n",
    "\n",
    "X_poly = np.hstack((X,X**2,X**3))\n",
    "\n",
    "model = LinearRegression()\n",
    "\n",
    "model.fit(X_poly,y)\n",
    "\n",
    "y_pred_model = model.predict(X_poly)\n",
    "\n",
    "#Erro médio quadrático\n",
    "print('Erro médio quadrático: %.2f' % mean_squared_error(y_pred_model,y))\n",
    "#Imprimindo Coeficiente de interceptação, ou seja, peso w0.\n",
    "w0 = model.intercept_\n",
    "print(f'Coeficiente de interceptação(Peso w0): {w0}')\n",
    "\n",
    "#Imprimindo Coeficiente de Inclinação, ou seja, peso w1.\n",
    "w1 = model.coef_\n",
    "print(f'Coeficiente de inclinação(Peso w1):  {w1.round(5)}')\n",
    "\n",
    "print('Coeficiente de determinação:', model.score(X_poly, y))"
   ]
  },
  {
   "cell_type": "markdown",
   "metadata": {},
   "source": [
    "### Modelo 2\n",
    "Utilizarei como entradas, as features que com a aplicação do método RFE, foram consideradas melhores, sendo elas: 'longitude','latitude','housing_median_age','median_income'"
   ]
  },
  {
   "cell_type": "code",
   "execution_count": 1553,
   "metadata": {},
   "outputs": [
    {
     "name": "stdout",
     "output_type": "stream",
     "text": [
      "Erro médio quadrático: 5113703578.26\n",
      "Coeficiente de interceptação(Peso w0): 873600528.1546502\n",
      "Coeficiente de inclinação(Peso w1):  [ 2.28375953e+07  2.23089642e+06  4.83220740e+03  4.68405219e+03\n",
      "  1.92994576e+05 -6.46935756e+04 -1.96505030e+02  6.97399820e+03\n",
      "  5.42288240e+02  6.09926490e+02  2.64548000e+00 -3.87345460e+02]\n",
      "Coeficiente de determinação: 0.6198397564620397\n"
     ]
    }
   ],
   "source": [
    "# Redefinindo as entradas à partir da filtragem com o RFE\n",
    "X = df_house.iloc[:,colunas]\n",
    "y = df_house['median_house_value']\n",
    "X_poly = np.hstack((X,X**2,X**3))\n",
    "\n",
    "model = LinearRegression()\n",
    "\n",
    "model.fit(X_poly,y)\n",
    "\n",
    "y_pred_model = model.predict(X_poly)\n",
    "\n",
    "#Erro médio quadrático\n",
    "print('Erro médio quadrático: %.2f' % mean_squared_error(y_pred_model,y))\n",
    "#Imprimindo Coeficiente de interceptação, ou seja, peso w0.\n",
    "w0 = model.intercept_\n",
    "print(f'Coeficiente de interceptação(Peso w0): {w0}')\n",
    "\n",
    "#Imprimindo Coeficiente de Inclinação, ou seja, peso w1.\n",
    "w1 = model.coef_\n",
    "print(f'Coeficiente de inclinação(Peso w1):  {w1.round(5)}')\n",
    "\n",
    "print('Coeficiente de determinação:', model.score(X_poly, y))"
   ]
  },
  {
   "cell_type": "code",
   "execution_count": null,
   "metadata": {},
   "outputs": [],
   "source": []
  },
  {
   "cell_type": "markdown",
   "metadata": {},
   "source": [
    "### Modelo 3\n",
    "No primeiro modelo escolhido, a feature de entrada será: 'media_income'"
   ]
  },
  {
   "cell_type": "code",
   "execution_count": 1554,
   "metadata": {},
   "outputs": [
    {
     "name": "stdout",
     "output_type": "stream",
     "text": [
      "Erro médio quadrático: 6844400238.89\n",
      "Coeficiente de interceptação(Peso w0): [75138.94311659]\n",
      "Coeficiente de inclinação(Peso w1):  [[15095.08877  6050.3056   -353.91044]]\n",
      "Coeficiente de determinação: 0.49117722177908874\n"
     ]
    }
   ],
   "source": [
    "X = df_house['median_income'].values.reshape(-1,1)\n",
    "y = df_house['median_house_value'].values.reshape(-1,1)\n",
    "\n",
    "X_poly = np.hstack((X,X**2,X**3))\n",
    "\n",
    "model = LinearRegression()\n",
    "\n",
    "model.fit(X_poly,y)\n",
    "\n",
    "y_pred_model = model.predict(X_poly)\n",
    "\n",
    "#Erro médio quadrático\n",
    "print('Erro médio quadrático: %.2f' % mean_squared_error(y_pred_model,y))\n",
    "#Imprimindo Coeficiente de interceptação, ou seja, peso w0.\n",
    "w0 = model.intercept_\n",
    "print(f'Coeficiente de interceptação(Peso w0): {w0}')\n",
    "\n",
    "#Imprimindo Coeficiente de Inclinação, ou seja, peso w1.\n",
    "w1 = model.coef_\n",
    "print(f'Coeficiente de inclinação(Peso w1):  {w1.round(5)}')\n",
    "\n",
    "print('Coeficiente de determinação:', model.score(X_poly, y))\n",
    "\n"
   ]
  },
  {
   "cell_type": "code",
   "execution_count": 1555,
   "metadata": {},
   "outputs": [
    {
     "data": {
      "image/png": "[encoded data removed]",
      "text/plain": [
       "<Figure size 432x288 with 1 Axes>"
      ]
     },
     "metadata": {
      "needs_background": "light"
     },
     "output_type": "display_data"
    }
   ],
   "source": [
    "sns.scatterplot(x='median_income', y='median_house_value', data=df_house)\n",
    "x = np.arange(0,10).reshape(-1,1)\n",
    "x = np.hstack((x,x**2,x**3))\n",
    "y_pred_model = model.predict(x).flatten()\n",
    "plt.plot(np.arange(0,10), y_pred_model, color='black');"
   ]
  },
  {
   "cell_type": "markdown",
   "metadata": {},
   "source": [
    "##### Tendo como base, o erro quadrático médio e o coeficiente de determinação como complemento, o modelo que apresentou o melhor resultado, foi o Modelo 2, em que utilizei como entrada,as features que com a aplicação do método RFE, foram consideradas melhores, sendo elas: 'longitude','latitude','housing_median_age','median_income'. A sequência, ficou:\n",
    "##### 1. Modelo 2 \n",
    "##### 2. Modelo 1\n",
    "##### 3. Modelo 3"
   ]
  },
  {
   "cell_type": "markdown",
   "metadata": {},
   "source": [
    "# Parte 4 - Generalização, regularização e normalização\n",
    "Considere o conjunto de dados utilizado nas partes 2 e 3 de preços de casas na Califórnia. Data de entrega: 04/12\n",
    "\n",
    "Utilizando um método da validação cruzada (conjuntos de treino, validação e teste) experimente diferentes métodos de: \n",
    "- engenharia de atributos (seleção de atributos, atributos polinomiais, normalização)  \n",
    "- escolha de hiperparâmetros (passo de aprendizagem, coeficiente de regularização, número de iterações) \n",
    "\n",
    "Treine no conjunto de treino e avalie no conjunto de validação. Avalie pelo menos 5 abordagens candidatas. \n",
    "\n",
    "Ao final, avalie como o seu melhor modelo performa no conjunto de teste e apresente o resultado.\n",
    "\n",
    "Dica¹: utilize as classes SGDRegressor ou Ridge do scikitlearn.\n",
    "\n",
    "Dica²: normalize os dados de entrada e saída\n",
    "\n",
    "Dica³: tente utilizar grid search e/ou k-fold"
   ]
  },
  {
   "cell_type": "code",
   "execution_count": 1556,
   "metadata": {},
   "outputs": [
    {
     "data": {
      "text/html": [
       "<div>\n",
       "<style scoped>\n",
       "    .dataframe tbody tr th:only-of-type {\n",
       "        vertical-align: middle;\n",
       "    }\n",
       "\n",
       "    .dataframe tbody tr th {\n",
       "        vertical-align: top;\n",
       "    }\n",
       "\n",
       "    .dataframe thead th {\n",
       "        text-align: right;\n",
       "    }\n",
       "</style>\n",
       "<table border=\"1\" class=\"dataframe\">\n",
       "  <thead>\n",
       "    <tr style=\"text-align: right;\">\n",
       "      <th></th>\n",
       "      <th>longitude</th>\n",
       "      <th>latitude</th>\n",
       "      <th>housing_median_age</th>\n",
       "      <th>total_rooms</th>\n",
       "      <th>total_bedrooms</th>\n",
       "      <th>population</th>\n",
       "      <th>households</th>\n",
       "      <th>median_income</th>\n",
       "      <th>median_house_value</th>\n",
       "    </tr>\n",
       "  </thead>\n",
       "  <tbody>\n",
       "    <tr>\n",
       "      <th>0</th>\n",
       "      <td>-114.31</td>\n",
       "      <td>34.19</td>\n",
       "      <td>15.0</td>\n",
       "      <td>5612.0</td>\n",
       "      <td>1283.0</td>\n",
       "      <td>1015.0</td>\n",
       "      <td>472.0</td>\n",
       "      <td>1.4936</td>\n",
       "      <td>66900.0</td>\n",
       "    </tr>\n",
       "    <tr>\n",
       "      <th>1</th>\n",
       "      <td>-114.47</td>\n",
       "      <td>34.40</td>\n",
       "      <td>19.0</td>\n",
       "      <td>7650.0</td>\n",
       "      <td>1901.0</td>\n",
       "      <td>1129.0</td>\n",
       "      <td>463.0</td>\n",
       "      <td>1.8200</td>\n",
       "      <td>80100.0</td>\n",
       "    </tr>\n",
       "    <tr>\n",
       "      <th>2</th>\n",
       "      <td>-114.56</td>\n",
       "      <td>33.69</td>\n",
       "      <td>17.0</td>\n",
       "      <td>720.0</td>\n",
       "      <td>174.0</td>\n",
       "      <td>333.0</td>\n",
       "      <td>117.0</td>\n",
       "      <td>1.6509</td>\n",
       "      <td>85700.0</td>\n",
       "    </tr>\n",
       "    <tr>\n",
       "      <th>3</th>\n",
       "      <td>-114.57</td>\n",
       "      <td>33.64</td>\n",
       "      <td>14.0</td>\n",
       "      <td>1501.0</td>\n",
       "      <td>337.0</td>\n",
       "      <td>515.0</td>\n",
       "      <td>226.0</td>\n",
       "      <td>3.1917</td>\n",
       "      <td>73400.0</td>\n",
       "    </tr>\n",
       "    <tr>\n",
       "      <th>4</th>\n",
       "      <td>-114.57</td>\n",
       "      <td>33.57</td>\n",
       "      <td>20.0</td>\n",
       "      <td>1454.0</td>\n",
       "      <td>326.0</td>\n",
       "      <td>624.0</td>\n",
       "      <td>262.0</td>\n",
       "      <td>1.9250</td>\n",
       "      <td>65500.0</td>\n",
       "    </tr>\n",
       "    <tr>\n",
       "      <th>...</th>\n",
       "      <td>...</td>\n",
       "      <td>...</td>\n",
       "      <td>...</td>\n",
       "      <td>...</td>\n",
       "      <td>...</td>\n",
       "      <td>...</td>\n",
       "      <td>...</td>\n",
       "      <td>...</td>\n",
       "      <td>...</td>\n",
       "    </tr>\n",
       "    <tr>\n",
       "      <th>16995</th>\n",
       "      <td>-124.26</td>\n",
       "      <td>40.58</td>\n",
       "      <td>52.0</td>\n",
       "      <td>2217.0</td>\n",
       "      <td>394.0</td>\n",
       "      <td>907.0</td>\n",
       "      <td>369.0</td>\n",
       "      <td>2.3571</td>\n",
       "      <td>111400.0</td>\n",
       "    </tr>\n",
       "    <tr>\n",
       "      <th>16996</th>\n",
       "      <td>-124.27</td>\n",
       "      <td>40.69</td>\n",
       "      <td>36.0</td>\n",
       "      <td>2349.0</td>\n",
       "      <td>528.0</td>\n",
       "      <td>1194.0</td>\n",
       "      <td>465.0</td>\n",
       "      <td>2.5179</td>\n",
       "      <td>79000.0</td>\n",
       "    </tr>\n",
       "    <tr>\n",
       "      <th>16997</th>\n",
       "      <td>-124.30</td>\n",
       "      <td>41.84</td>\n",
       "      <td>17.0</td>\n",
       "      <td>2677.0</td>\n",
       "      <td>531.0</td>\n",
       "      <td>1244.0</td>\n",
       "      <td>456.0</td>\n",
       "      <td>3.0313</td>\n",
       "      <td>103600.0</td>\n",
       "    </tr>\n",
       "    <tr>\n",
       "      <th>16998</th>\n",
       "      <td>-124.30</td>\n",
       "      <td>41.80</td>\n",
       "      <td>19.0</td>\n",
       "      <td>2672.0</td>\n",
       "      <td>552.0</td>\n",
       "      <td>1298.0</td>\n",
       "      <td>478.0</td>\n",
       "      <td>1.9797</td>\n",
       "      <td>85800.0</td>\n",
       "    </tr>\n",
       "    <tr>\n",
       "      <th>16999</th>\n",
       "      <td>-124.35</td>\n",
       "      <td>40.54</td>\n",
       "      <td>52.0</td>\n",
       "      <td>1820.0</td>\n",
       "      <td>300.0</td>\n",
       "      <td>806.0</td>\n",
       "      <td>270.0</td>\n",
       "      <td>3.0147</td>\n",
       "      <td>94600.0</td>\n",
       "    </tr>\n",
       "  </tbody>\n",
       "</table>\n",
       "<p>17000 rows × 9 columns</p>\n",
       "</div>"
      ],
      "text/plain": [
       "       longitude  latitude  housing_median_age  total_rooms  total_bedrooms  \\\n",
       "0        -114.31     34.19                15.0       5612.0          1283.0   \n",
       "1        -114.47     34.40                19.0       7650.0          1901.0   \n",
       "2        -114.56     33.69                17.0        720.0           174.0   \n",
       "3        -114.57     33.64                14.0       1501.0           337.0   \n",
       "4        -114.57     33.57                20.0       1454.0           326.0   \n",
       "...          ...       ...                 ...          ...             ...   \n",
       "16995    -124.26     40.58                52.0       2217.0           394.0   \n",
       "16996    -124.27     40.69                36.0       2349.0           528.0   \n",
       "16997    -124.30     41.84                17.0       2677.0           531.0   \n",
       "16998    -124.30     41.80                19.0       2672.0           552.0   \n",
       "16999    -124.35     40.54                52.0       1820.0           300.0   \n",
       "\n",
       "       population  households  median_income  median_house_value  \n",
       "0          1015.0       472.0         1.4936             66900.0  \n",
       "1          1129.0       463.0         1.8200             80100.0  \n",
       "2           333.0       117.0         1.6509             85700.0  \n",
       "3           515.0       226.0         3.1917             73400.0  \n",
       "4           624.0       262.0         1.9250             65500.0  \n",
       "...           ...         ...            ...                 ...  \n",
       "16995       907.0       369.0         2.3571            111400.0  \n",
       "16996      1194.0       465.0         2.5179             79000.0  \n",
       "16997      1244.0       456.0         3.0313            103600.0  \n",
       "16998      1298.0       478.0         1.9797             85800.0  \n",
       "16999       806.0       270.0         3.0147             94600.0  \n",
       "\n",
       "[17000 rows x 9 columns]"
      ]
     },
     "execution_count": 1556,
     "metadata": {},
     "output_type": "execute_result"
    }
   ],
   "source": [
    "df_house = pd.read_csv('california_housing_train.csv')\n",
    "df_house"
   ]
  },
  {
   "cell_type": "markdown",
   "metadata": {},
   "source": [
    "### Modelo 1 -- Ajustando Hiperparâmetros\n",
    "Utilizarei como entradas, as features: 'media_income' e 'hounsing_median_age' por apresentarem na matriz de correlação, uma correlação relevante com a variável de saída 'median_house_value'.\n",
    "\n",
    "As características de cada modelo serão apresentadas no decorrer de sua construção."
   ]
  },
  {
   "cell_type": "code",
   "execution_count": 1557,
   "metadata": {},
   "outputs": [],
   "source": [
    "#Importando do sciki-learn os métodos voltados para regressão\n",
    "from sklearn.model_selection import train_test_split,KFold\n",
    "from sklearn.linear_model import SGDRegressor\n",
    "from sklearn.metrics import mean_squared_error, r2_score"
   ]
  },
  {
   "cell_type": "code",
   "execution_count": 1558,
   "metadata": {},
   "outputs": [],
   "source": [
    "scale_factor = 10000\n",
    "X = df_house[['median_income','housing_median_age']]\n",
    "y = df_house['median_house_value'].to_numpy().reshape(-1,1)\n",
    "y /= scale_factor"
   ]
  },
  {
   "cell_type": "code",
   "execution_count": 1559,
   "metadata": {},
   "outputs": [
    {
     "name": "stdout",
     "output_type": "stream",
     "text": [
      "Treino & Validação: (13600, 2)\n",
      "Teste: (3400, 2)\n",
      "Somente Treino (10880, 2)\n",
      "Somente Validação: (2720, 2)\n"
     ]
    }
   ],
   "source": [
    "x_train_val, x_test, y_train_val, y_test = train_test_split(X, y, test_size=0.2,random_state=42)\n",
    "print('Treino & Validação:', x_train_val.shape)\n",
    "print('Teste:', x_test.shape)\n",
    "#  80% de 'treino_validação' para treino e os 20% restantes para validação\n",
    "x_train, x_val, y_train, y_val = train_test_split(x_train_val, y_train_val, test_size=0.2)\n",
    "print('Somente Treino', x_train.shape)\n",
    "print('Somente Validação:', x_val.shape)"
   ]
  },
  {
   "cell_type": "markdown",
   "metadata": {},
   "source": [
    "Normalizando os dados de treino e validação\n",
    "\n",
    "- Dimensionador Mín-Máx"
   ]
  },
  {
   "cell_type": "code",
   "execution_count": 1560,
   "metadata": {},
   "outputs": [],
   "source": [
    "#Utilizando o método de MinMAx do sklearn\n",
    "from sklearn.preprocessing import MinMaxScaler\n",
    "scaler = MinMaxScaler ()\n",
    "#Normalizando os dados de treino e validação\n",
    "x_train_norm = scaler.fit_transform(x_train) \n",
    "x_val_norm = scaler.transform(x_val) \n",
    "y_train_norm = scaler.fit_transform(y_train).reshape(-1,1) \n",
    "y_val_norm = scaler.transform(y_val)"
   ]
  },
  {
   "cell_type": "code",
   "execution_count": 1561,
   "metadata": {},
   "outputs": [],
   "source": [
    "#Definindo alguns hiperparâmetros para o modelo\n",
    "#eta0: A taxa de aprendizagem inicial para os planejamentos \"constante\", \"escalonamento\" ou \"adaptativo\". O valor padrão é 0,01.\n",
    "#alpha: Constante que multiplica o prazo de regularização. Quanto maior o valor, mais forte é a regularização. Também usado para calcular a taxa de aprendizagem quando definido como learning_rate é definido como ‘ideal’.\n",
    "model = SGDRegressor(alpha=0.0001, eta0=0.1, max_iter=300)\n",
    "model.fit(x_train_norm,y_train_norm.ravel())\n",
    "y_pred = model.predict(x_val_norm).reshape(-1,1)"
   ]
  },
  {
   "cell_type": "code",
   "execution_count": 1562,
   "metadata": {},
   "outputs": [
    {
     "name": "stdout",
     "output_type": "stream",
     "text": [
      "Erro médio quadrático:  65.28187564356779\n",
      "Coeficiente de interceptação(Peso w0): [0.00384334]\n",
      "Coeficiente de inclinação(Peso w1):  [1.28321 0.1807 ]\n",
      "Coeficiente de determinação: 0.5081212618459796\n"
     ]
    }
   ],
   "source": [
    "#Trazendo novamente para a escala original dos dados\n",
    "y_pred_real = scaler.inverse_transform(y_pred)\n",
    "#Erro médio quadrático\n",
    "modelo1 = mean_squared_error(y_val,y_pred_real)\n",
    "print('Erro médio quadrático: ' ,mean_squared_error(y_val,y_pred_real))\n",
    "#Imprimindo Coeficiente de interceptação, ou seja, peso w0.\n",
    "w0 = model.intercept_\n",
    "print(f'Coeficiente de interceptação(Peso w0): {w0}')\n",
    "\n",
    "#Imprimindo Coeficiente de Inclinação, ou seja, peso w1.\n",
    "w1 = model.coef_\n",
    "print(f'Coeficiente de inclinação(Peso w1):  {w1.round(5)}')\n",
    "\n",
    "print('Coeficiente de determinação:', model.score(x_train_norm, y_train_norm))\n"
   ]
  },
  {
   "cell_type": "markdown",
   "metadata": {},
   "source": [
    "### Modelo 2 --- GridSearchCV \n",
    "Aqui utilizarei todas as features possíveis como entrada para ver o comportamento do modelo com todas elas como entrada. Obviamente, tendo como saída a predição valor mediano das casas de um distrito ('median_house_value').\n",
    "\n",
    "As características de cada modelo serão apresentadas no decorrer de sua construção."
   ]
  },
  {
   "cell_type": "code",
   "execution_count": 1563,
   "metadata": {},
   "outputs": [],
   "source": [
    "df_house = pd.read_csv('california_housing_train.csv')"
   ]
  },
  {
   "cell_type": "code",
   "execution_count": 1564,
   "metadata": {},
   "outputs": [],
   "source": [
    "scale_factor = 10000.0\n",
    "X = df_house.drop(['median_house_value'], axis = 1) \n",
    "y = df_house.median_house_value.to_numpy().reshape(-1,1) #Definindo somente a 'median_house_value' como saída\n",
    "y/=scale_factor"
   ]
  },
  {
   "cell_type": "code",
   "execution_count": 1565,
   "metadata": {},
   "outputs": [
    {
     "name": "stdout",
     "output_type": "stream",
     "text": [
      "Treino & Validação: (13600, 8)\n",
      "Teste: (3400, 8)\n",
      "Somente Treino (10880, 8)\n",
      "Somente Validação: (2720, 8)\n"
     ]
    }
   ],
   "source": [
    "x_train_val, x_test, y_train_val, y_test = train_test_split(X, y, test_size=0.2,random_state=42)\n",
    "print('Treino & Validação:', x_train_val.shape)\n",
    "print('Teste:', x_test.shape)\n",
    "#  80% de 'treino_validação' para treino e os 20% restantes para validação\n",
    "x_train, x_val, y_train, y_val = train_test_split(x_train_val, y_train_val, test_size=0.2)\n",
    "print('Somente Treino', x_train.shape)\n",
    "print('Somente Validação:', x_val.shape)"
   ]
  },
  {
   "cell_type": "code",
   "execution_count": 1566,
   "metadata": {},
   "outputs": [],
   "source": [
    "#Utilizando o método de MinMAx do sklearn\n",
    "from sklearn.preprocessing import MinMaxScaler\n",
    "scaler = MinMaxScaler ()\n",
    "#Normalizando os dados de treino e validação\n",
    "x_train_norm = scaler.fit_transform(x_train) \n",
    "x_val_norm = scaler.transform(x_val) \n",
    "y_train_norm = scaler.fit_transform(y_train).reshape(-1,1) \n",
    "y_val_norm = scaler.transform(y_val)"
   ]
  },
  {
   "cell_type": "code",
   "execution_count": 1567,
   "metadata": {},
   "outputs": [
    {
     "data": {
      "text/plain": [
       "dict_keys(['alpha', 'average', 'early_stopping', 'epsilon', 'eta0', 'fit_intercept', 'l1_ratio', 'learning_rate', 'loss', 'max_iter', 'n_iter_no_change', 'penalty', 'power_t', 'random_state', 'shuffle', 'tol', 'validation_fraction', 'verbose', 'warm_start'])"
      ]
     },
     "execution_count": 1567,
     "metadata": {},
     "output_type": "execute_result"
    }
   ],
   "source": [
    "model2 = SGDRegressor()\n",
    "#Olhando os parâmetros do SGDRegressor \n",
    "model2.get_params().keys()"
   ]
  },
  {
   "cell_type": "code",
   "execution_count": 1568,
   "metadata": {},
   "outputs": [],
   "source": [
    "# Definindo os parâmetros que serão utilizados no GridSearchCV\n",
    "model2_params = {\n",
    "    #Utilizando essa potenciação pra deixar o alpha sempre naquela vibe de taxa mesmo, só que dando esse intervalo para o gread trabalhar\n",
    "    #O restante dos parâmetros foram definidos de acordo com a documentação\n",
    "    'alpha': [0.0001,0.001,0.00001,0.03],\n",
    "    'loss': ['squared_loss', 'epsilon_insensitive'],\n",
    "    'penalty': ['l2', 'l1', 'elasticnet'],\n",
    "    'max_iter': [300, 600, 1000],\n",
    "    'tol':[0.01,0.001,0.0001]\n",
    "}"
   ]
  },
  {
   "cell_type": "code",
   "execution_count": 1569,
   "metadata": {},
   "outputs": [],
   "source": [
    "from sklearn.model_selection import GridSearchCV\n",
    "# Definir uma lista de métricas, sendo a mais importante a do erro quadrático == neg_mean_squared_log_error\n",
    "# Link das métricas: https://scikit-learn.org/stable/modules/model_evaluation.html#scoring-parameter\n",
    "metricas = ['explained_variance','neg_mean_absolute_error','neg_mean_squared_error', 'neg_median_absolute_error', 'r2']\n",
    "#  verbose=100 pra ele ir falando o que ele tá fazendo passo a passo\n",
    "# No refit significa que ele vai escolher o modelo com o menor erro quadrado médio. Por último estou pedindo para não retornar os scores de treinamento.\n",
    "meu_primeiro_grid = GridSearchCV(model2, param_grid=model2_params, scoring=metricas,verbose=0,refit='neg_mean_squared_error', return_train_score=False)"
   ]
  },
  {
   "cell_type": "code",
   "execution_count": 1570,
   "metadata": {},
   "outputs": [
    {
     "data": {
      "text/plain": [
       "GridSearchCV(estimator=SGDRegressor(),\n",
       "             param_grid={'alpha': [0.0001, 0.001, 1e-05, 0.03],\n",
       "                         'loss': ['squared_loss', 'epsilon_insensitive'],\n",
       "                         'max_iter': [300, 600, 1000],\n",
       "                         'penalty': ['l2', 'l1', 'elasticnet'],\n",
       "                         'tol': [0.01, 0.001, 0.0001]},\n",
       "             refit='neg_mean_squared_error',\n",
       "             scoring=['explained_variance', 'neg_mean_absolute_error',\n",
       "                      'neg_mean_squared_error', 'neg_median_absolute_error',\n",
       "                      'r2'])"
      ]
     },
     "execution_count": 1570,
     "metadata": {},
     "output_type": "execute_result"
    }
   ],
   "source": [
    "meu_primeiro_grid.fit(x_train_norm,y_train_norm.ravel())"
   ]
  },
  {
   "cell_type": "code",
   "execution_count": 1571,
   "metadata": {},
   "outputs": [
    {
     "data": {
      "text/plain": [
       "SGDRegressor(loss='epsilon_insensitive', max_iter=300, penalty='elasticnet',\n",
       "             tol=0.0001)"
      ]
     },
     "execution_count": 1571,
     "metadata": {},
     "output_type": "execute_result"
    }
   ],
   "source": [
    "meu_primeiro_grid.best_estimator_\n",
    "#Então os ajustes definidos para os hiperparâmetros após a aplicação do GridSearch, foram esses:"
   ]
  },
  {
   "cell_type": "code",
   "execution_count": 1572,
   "metadata": {},
   "outputs": [
    {
     "data": {
      "text/plain": [
       "-0.023171444817837665"
      ]
     },
     "execution_count": 1572,
     "metadata": {},
     "output_type": "execute_result"
    }
   ],
   "source": [
    "# Como eu defini o neg_mean_squared_error no refit, ele está devolvendo o melhor score dessa métrica. Essa métrica é o erro quadrado médio, só que negativa. \n",
    "#Acho que é pra ficar mais fácil de minimizar, aí eles adotam o padrão de colocar as métricas tudo negativa. \n",
    "meu_primeiro_grid.best_score_"
   ]
  },
  {
   "cell_type": "code",
   "execution_count": 1573,
   "metadata": {},
   "outputs": [
    {
     "data": {
      "text/plain": [
       "0.15222169627828244"
      ]
     },
     "execution_count": 1573,
     "metadata": {},
     "output_type": "execute_result"
    }
   ],
   "source": [
    "# Achei que a melhor forma de lidar com isso é tirando a raiz da métrica(até pelo fato de ser o erro quadrático), após aplicar esse passo, temos o erro.\n",
    "np.sqrt(meu_primeiro_grid.best_score_*-1)"
   ]
  },
  {
   "cell_type": "code",
   "execution_count": 1574,
   "metadata": {},
   "outputs": [
    {
     "data": {
      "text/html": [
       "<div>\n",
       "<style scoped>\n",
       "    .dataframe tbody tr th:only-of-type {\n",
       "        vertical-align: middle;\n",
       "    }\n",
       "\n",
       "    .dataframe tbody tr th {\n",
       "        vertical-align: top;\n",
       "    }\n",
       "\n",
       "    .dataframe thead th {\n",
       "        text-align: right;\n",
       "    }\n",
       "</style>\n",
       "<table border=\"1\" class=\"dataframe\">\n",
       "  <thead>\n",
       "    <tr style=\"text-align: right;\">\n",
       "      <th></th>\n",
       "      <th>mean_fit_time</th>\n",
       "      <th>std_fit_time</th>\n",
       "      <th>mean_score_time</th>\n",
       "      <th>std_score_time</th>\n",
       "      <th>param_alpha</th>\n",
       "      <th>param_loss</th>\n",
       "      <th>param_max_iter</th>\n",
       "      <th>param_penalty</th>\n",
       "      <th>param_tol</th>\n",
       "      <th>params</th>\n",
       "      <th>...</th>\n",
       "      <th>std_test_neg_median_absolute_error</th>\n",
       "      <th>rank_test_neg_median_absolute_error</th>\n",
       "      <th>split0_test_r2</th>\n",
       "      <th>split1_test_r2</th>\n",
       "      <th>split2_test_r2</th>\n",
       "      <th>split3_test_r2</th>\n",
       "      <th>split4_test_r2</th>\n",
       "      <th>mean_test_r2</th>\n",
       "      <th>std_test_r2</th>\n",
       "      <th>rank_test_r2</th>\n",
       "    </tr>\n",
       "  </thead>\n",
       "  <tbody>\n",
       "    <tr>\n",
       "      <th>0</th>\n",
       "      <td>0.007173</td>\n",
       "      <td>0.001944</td>\n",
       "      <td>0.001594</td>\n",
       "      <td>0.000799</td>\n",
       "      <td>0.0001</td>\n",
       "      <td>squared_loss</td>\n",
       "      <td>300</td>\n",
       "      <td>l2</td>\n",
       "      <td>0.01</td>\n",
       "      <td>{'alpha': 0.0001, 'loss': 'squared_loss', 'max...</td>\n",
       "      <td>...</td>\n",
       "      <td>0.003353</td>\n",
       "      <td>166</td>\n",
       "      <td>0.438978</td>\n",
       "      <td>0.432225</td>\n",
       "      <td>0.451795</td>\n",
       "      <td>0.443125</td>\n",
       "      <td>0.465358</td>\n",
       "      <td>0.446296</td>\n",
       "      <td>0.011447</td>\n",
       "      <td>166</td>\n",
       "    </tr>\n",
       "    <tr>\n",
       "      <th>1</th>\n",
       "      <td>0.008780</td>\n",
       "      <td>0.002128</td>\n",
       "      <td>0.001145</td>\n",
       "      <td>0.000708</td>\n",
       "      <td>0.0001</td>\n",
       "      <td>squared_loss</td>\n",
       "      <td>300</td>\n",
       "      <td>l2</td>\n",
       "      <td>0.001</td>\n",
       "      <td>{'alpha': 0.0001, 'loss': 'squared_loss', 'max...</td>\n",
       "      <td>...</td>\n",
       "      <td>0.003283</td>\n",
       "      <td>150</td>\n",
       "      <td>0.495474</td>\n",
       "      <td>0.488383</td>\n",
       "      <td>0.515258</td>\n",
       "      <td>0.497716</td>\n",
       "      <td>0.527473</td>\n",
       "      <td>0.504860</td>\n",
       "      <td>0.014353</td>\n",
       "      <td>131</td>\n",
       "    </tr>\n",
       "    <tr>\n",
       "      <th>2</th>\n",
       "      <td>0.016354</td>\n",
       "      <td>0.000800</td>\n",
       "      <td>0.001193</td>\n",
       "      <td>0.000392</td>\n",
       "      <td>0.0001</td>\n",
       "      <td>squared_loss</td>\n",
       "      <td>300</td>\n",
       "      <td>l2</td>\n",
       "      <td>0.0001</td>\n",
       "      <td>{'alpha': 0.0001, 'loss': 'squared_loss', 'max...</td>\n",
       "      <td>...</td>\n",
       "      <td>0.002443</td>\n",
       "      <td>93</td>\n",
       "      <td>0.541959</td>\n",
       "      <td>0.538299</td>\n",
       "      <td>0.572705</td>\n",
       "      <td>0.542661</td>\n",
       "      <td>0.585514</td>\n",
       "      <td>0.556227</td>\n",
       "      <td>0.019175</td>\n",
       "      <td>96</td>\n",
       "    </tr>\n",
       "    <tr>\n",
       "      <th>3</th>\n",
       "      <td>0.005886</td>\n",
       "      <td>0.000178</td>\n",
       "      <td>0.001208</td>\n",
       "      <td>0.000405</td>\n",
       "      <td>0.0001</td>\n",
       "      <td>squared_loss</td>\n",
       "      <td>300</td>\n",
       "      <td>l1</td>\n",
       "      <td>0.01</td>\n",
       "      <td>{'alpha': 0.0001, 'loss': 'squared_loss', 'max...</td>\n",
       "      <td>...</td>\n",
       "      <td>0.003631</td>\n",
       "      <td>176</td>\n",
       "      <td>0.437754</td>\n",
       "      <td>0.431194</td>\n",
       "      <td>0.452482</td>\n",
       "      <td>0.441915</td>\n",
       "      <td>0.464155</td>\n",
       "      <td>0.445500</td>\n",
       "      <td>0.011612</td>\n",
       "      <td>169</td>\n",
       "    </tr>\n",
       "    <tr>\n",
       "      <th>4</th>\n",
       "      <td>0.009770</td>\n",
       "      <td>0.000397</td>\n",
       "      <td>0.000994</td>\n",
       "      <td>0.000007</td>\n",
       "      <td>0.0001</td>\n",
       "      <td>squared_loss</td>\n",
       "      <td>300</td>\n",
       "      <td>l1</td>\n",
       "      <td>0.001</td>\n",
       "      <td>{'alpha': 0.0001, 'loss': 'squared_loss', 'max...</td>\n",
       "      <td>...</td>\n",
       "      <td>0.003260</td>\n",
       "      <td>138</td>\n",
       "      <td>0.494709</td>\n",
       "      <td>0.486494</td>\n",
       "      <td>0.514486</td>\n",
       "      <td>0.497070</td>\n",
       "      <td>0.526465</td>\n",
       "      <td>0.503845</td>\n",
       "      <td>0.014528</td>\n",
       "      <td>134</td>\n",
       "    </tr>\n",
       "    <tr>\n",
       "      <th>...</th>\n",
       "      <td>...</td>\n",
       "      <td>...</td>\n",
       "      <td>...</td>\n",
       "      <td>...</td>\n",
       "      <td>...</td>\n",
       "      <td>...</td>\n",
       "      <td>...</td>\n",
       "      <td>...</td>\n",
       "      <td>...</td>\n",
       "      <td>...</td>\n",
       "      <td>...</td>\n",
       "      <td>...</td>\n",
       "      <td>...</td>\n",
       "      <td>...</td>\n",
       "      <td>...</td>\n",
       "      <td>...</td>\n",
       "      <td>...</td>\n",
       "      <td>...</td>\n",
       "      <td>...</td>\n",
       "      <td>...</td>\n",
       "      <td>...</td>\n",
       "    </tr>\n",
       "    <tr>\n",
       "      <th>211</th>\n",
       "      <td>0.009976</td>\n",
       "      <td>0.001093</td>\n",
       "      <td>0.000854</td>\n",
       "      <td>0.000184</td>\n",
       "      <td>0.03</td>\n",
       "      <td>epsilon_insensitive</td>\n",
       "      <td>1000</td>\n",
       "      <td>l1</td>\n",
       "      <td>0.001</td>\n",
       "      <td>{'alpha': 0.03, 'loss': 'epsilon_insensitive',...</td>\n",
       "      <td>...</td>\n",
       "      <td>0.003187</td>\n",
       "      <td>140</td>\n",
       "      <td>0.399794</td>\n",
       "      <td>0.383169</td>\n",
       "      <td>0.434938</td>\n",
       "      <td>0.406100</td>\n",
       "      <td>0.429081</td>\n",
       "      <td>0.410616</td>\n",
       "      <td>0.019096</td>\n",
       "      <td>186</td>\n",
       "    </tr>\n",
       "    <tr>\n",
       "      <th>212</th>\n",
       "      <td>0.021748</td>\n",
       "      <td>0.001186</td>\n",
       "      <td>0.000921</td>\n",
       "      <td>0.000285</td>\n",
       "      <td>0.03</td>\n",
       "      <td>epsilon_insensitive</td>\n",
       "      <td>1000</td>\n",
       "      <td>l1</td>\n",
       "      <td>0.0001</td>\n",
       "      <td>{'alpha': 0.03, 'loss': 'epsilon_insensitive',...</td>\n",
       "      <td>...</td>\n",
       "      <td>0.000803</td>\n",
       "      <td>130</td>\n",
       "      <td>0.418220</td>\n",
       "      <td>0.409799</td>\n",
       "      <td>0.434916</td>\n",
       "      <td>0.415462</td>\n",
       "      <td>0.448880</td>\n",
       "      <td>0.425455</td>\n",
       "      <td>0.014391</td>\n",
       "      <td>178</td>\n",
       "    </tr>\n",
       "    <tr>\n",
       "      <th>213</th>\n",
       "      <td>0.006981</td>\n",
       "      <td>0.000020</td>\n",
       "      <td>0.001397</td>\n",
       "      <td>0.000488</td>\n",
       "      <td>0.03</td>\n",
       "      <td>epsilon_insensitive</td>\n",
       "      <td>1000</td>\n",
       "      <td>elasticnet</td>\n",
       "      <td>0.01</td>\n",
       "      <td>{'alpha': 0.03, 'loss': 'epsilon_insensitive',...</td>\n",
       "      <td>...</td>\n",
       "      <td>0.002699</td>\n",
       "      <td>117</td>\n",
       "      <td>0.489835</td>\n",
       "      <td>0.473217</td>\n",
       "      <td>0.505749</td>\n",
       "      <td>0.493107</td>\n",
       "      <td>0.518768</td>\n",
       "      <td>0.496135</td>\n",
       "      <td>0.015354</td>\n",
       "      <td>148</td>\n",
       "    </tr>\n",
       "    <tr>\n",
       "      <th>214</th>\n",
       "      <td>0.009574</td>\n",
       "      <td>0.000489</td>\n",
       "      <td>0.000938</td>\n",
       "      <td>0.000122</td>\n",
       "      <td>0.03</td>\n",
       "      <td>epsilon_insensitive</td>\n",
       "      <td>1000</td>\n",
       "      <td>elasticnet</td>\n",
       "      <td>0.001</td>\n",
       "      <td>{'alpha': 0.03, 'loss': 'epsilon_insensitive',...</td>\n",
       "      <td>...</td>\n",
       "      <td>0.003552</td>\n",
       "      <td>99</td>\n",
       "      <td>0.484557</td>\n",
       "      <td>0.478368</td>\n",
       "      <td>0.498316</td>\n",
       "      <td>0.484505</td>\n",
       "      <td>0.528350</td>\n",
       "      <td>0.494819</td>\n",
       "      <td>0.017994</td>\n",
       "      <td>150</td>\n",
       "    </tr>\n",
       "    <tr>\n",
       "      <th>215</th>\n",
       "      <td>0.015769</td>\n",
       "      <td>0.002632</td>\n",
       "      <td>0.001319</td>\n",
       "      <td>0.000587</td>\n",
       "      <td>0.03</td>\n",
       "      <td>epsilon_insensitive</td>\n",
       "      <td>1000</td>\n",
       "      <td>elasticnet</td>\n",
       "      <td>0.0001</td>\n",
       "      <td>{'alpha': 0.03, 'loss': 'epsilon_insensitive',...</td>\n",
       "      <td>...</td>\n",
       "      <td>0.001162</td>\n",
       "      <td>122</td>\n",
       "      <td>0.492572</td>\n",
       "      <td>0.489155</td>\n",
       "      <td>0.511385</td>\n",
       "      <td>0.500207</td>\n",
       "      <td>0.527127</td>\n",
       "      <td>0.504089</td>\n",
       "      <td>0.013818</td>\n",
       "      <td>133</td>\n",
       "    </tr>\n",
       "  </tbody>\n",
       "</table>\n",
       "<p>216 rows × 50 columns</p>\n",
       "</div>"
      ],
      "text/plain": [
       "     mean_fit_time  std_fit_time  mean_score_time  std_score_time param_alpha  \\\n",
       "0         0.007173      0.001944         0.001594        0.000799      0.0001   \n",
       "1         0.008780      0.002128         0.001145        0.000708      0.0001   \n",
       "2         0.016354      0.000800         0.001193        0.000392      0.0001   \n",
       "3         0.005886      0.000178         0.001208        0.000405      0.0001   \n",
       "4         0.009770      0.000397         0.000994        0.000007      0.0001   \n",
       "..             ...           ...              ...             ...         ...   \n",
       "211       0.009976      0.001093         0.000854        0.000184        0.03   \n",
       "212       0.021748      0.001186         0.000921        0.000285        0.03   \n",
       "213       0.006981      0.000020         0.001397        0.000488        0.03   \n",
       "214       0.009574      0.000489         0.000938        0.000122        0.03   \n",
       "215       0.015769      0.002632         0.001319        0.000587        0.03   \n",
       "\n",
       "              param_loss param_max_iter param_penalty param_tol  \\\n",
       "0           squared_loss            300            l2      0.01   \n",
       "1           squared_loss            300            l2     0.001   \n",
       "2           squared_loss            300            l2    0.0001   \n",
       "3           squared_loss            300            l1      0.01   \n",
       "4           squared_loss            300            l1     0.001   \n",
       "..                   ...            ...           ...       ...   \n",
       "211  epsilon_insensitive           1000            l1     0.001   \n",
       "212  epsilon_insensitive           1000            l1    0.0001   \n",
       "213  epsilon_insensitive           1000    elasticnet      0.01   \n",
       "214  epsilon_insensitive           1000    elasticnet     0.001   \n",
       "215  epsilon_insensitive           1000    elasticnet    0.0001   \n",
       "\n",
       "                                                params  ...  \\\n",
       "0    {'alpha': 0.0001, 'loss': 'squared_loss', 'max...  ...   \n",
       "1    {'alpha': 0.0001, 'loss': 'squared_loss', 'max...  ...   \n",
       "2    {'alpha': 0.0001, 'loss': 'squared_loss', 'max...  ...   \n",
       "3    {'alpha': 0.0001, 'loss': 'squared_loss', 'max...  ...   \n",
       "4    {'alpha': 0.0001, 'loss': 'squared_loss', 'max...  ...   \n",
       "..                                                 ...  ...   \n",
       "211  {'alpha': 0.03, 'loss': 'epsilon_insensitive',...  ...   \n",
       "212  {'alpha': 0.03, 'loss': 'epsilon_insensitive',...  ...   \n",
       "213  {'alpha': 0.03, 'loss': 'epsilon_insensitive',...  ...   \n",
       "214  {'alpha': 0.03, 'loss': 'epsilon_insensitive',...  ...   \n",
       "215  {'alpha': 0.03, 'loss': 'epsilon_insensitive',...  ...   \n",
       "\n",
       "     std_test_neg_median_absolute_error  rank_test_neg_median_absolute_error  \\\n",
       "0                              0.003353                                  166   \n",
       "1                              0.003283                                  150   \n",
       "2                              0.002443                                   93   \n",
       "3                              0.003631                                  176   \n",
       "4                              0.003260                                  138   \n",
       "..                                  ...                                  ...   \n",
       "211                            0.003187                                  140   \n",
       "212                            0.000803                                  130   \n",
       "213                            0.002699                                  117   \n",
       "214                            0.003552                                   99   \n",
       "215                            0.001162                                  122   \n",
       "\n",
       "     split0_test_r2  split1_test_r2  split2_test_r2  split3_test_r2  \\\n",
       "0          0.438978        0.432225        0.451795        0.443125   \n",
       "1          0.495474        0.488383        0.515258        0.497716   \n",
       "2          0.541959        0.538299        0.572705        0.542661   \n",
       "3          0.437754        0.431194        0.452482        0.441915   \n",
       "4          0.494709        0.486494        0.514486        0.497070   \n",
       "..              ...             ...             ...             ...   \n",
       "211        0.399794        0.383169        0.434938        0.406100   \n",
       "212        0.418220        0.409799        0.434916        0.415462   \n",
       "213        0.489835        0.473217        0.505749        0.493107   \n",
       "214        0.484557        0.478368        0.498316        0.484505   \n",
       "215        0.492572        0.489155        0.511385        0.500207   \n",
       "\n",
       "     split4_test_r2  mean_test_r2  std_test_r2  rank_test_r2  \n",
       "0          0.465358      0.446296     0.011447           166  \n",
       "1          0.527473      0.504860     0.014353           131  \n",
       "2          0.585514      0.556227     0.019175            96  \n",
       "3          0.464155      0.445500     0.011612           169  \n",
       "4          0.526465      0.503845     0.014528           134  \n",
       "..              ...           ...          ...           ...  \n",
       "211        0.429081      0.410616     0.019096           186  \n",
       "212        0.448880      0.425455     0.014391           178  \n",
       "213        0.518768      0.496135     0.015354           148  \n",
       "214        0.528350      0.494819     0.017994           150  \n",
       "215        0.527127      0.504089     0.013818           133  \n",
       "\n",
       "[216 rows x 50 columns]"
      ]
     },
     "execution_count": 1574,
     "metadata": {},
     "output_type": "execute_result"
    }
   ],
   "source": [
    "#  O Grid Search retorna um dicionário com todos os resultados, transformei ele em um dataframe pra ficar mais fácil de ver\n",
    "pd.DataFrame(meu_primeiro_grid.cv_results_)"
   ]
  },
  {
   "cell_type": "code",
   "execution_count": 1575,
   "metadata": {},
   "outputs": [],
   "source": [
    "y_pred2 = meu_primeiro_grid.predict(x_val_norm).reshape(-1,1)"
   ]
  },
  {
   "cell_type": "code",
   "execution_count": 1576,
   "metadata": {},
   "outputs": [
    {
     "name": "stdout",
     "output_type": "stream",
     "text": [
      "Erro médio quadrático:  50.899457212205036\n",
      "Coeficiente de interceptação(Peso w0): [0.00384334]\n",
      "Coeficiente de inclinação(Peso w1):  [1.28321 0.1807 ]\n"
     ]
    }
   ],
   "source": [
    "#Trazendo novamente para a escala original dos dados\n",
    "y_pred_real = scaler.inverse_transform(y_pred2)\n",
    "#Erro médio quadrático\n",
    "modelo2 = mean_squared_error(y_val,y_pred_real)\n",
    "print(f'Erro médio quadrático: ' ,mean_squared_error(y_val,y_pred_real))\n",
    "#Imprimindo Coeficiente de interceptação, ou seja, peso w0.\n",
    "w0 = model.intercept_\n",
    "print(f'Coeficiente de interceptação(Peso w0): {w0}')\n",
    "\n",
    "#Imprimindo Coeficiente de Inclinação, ou seja, peso w1.\n",
    "w1 = model.coef_\n",
    "print(f'Coeficiente de inclinação(Peso w1):  {w1.round(5)}')\n"
   ]
  },
  {
   "cell_type": "markdown",
   "metadata": {},
   "source": [
    "### Modelo 3 --- Ajustando Hiperparâmetros\n",
    "Utilizarei como entradas, as features:'latitude','housing_median_age','median_income'\n",
    "Inicialmente só irei utilizar o GridSearchCv, caso dê tempo, tento apliar os dois neste modelo 3\n",
    "\n",
    "As características de cada modelo serão apresentadas no decorrer de sua construção."
   ]
  },
  {
   "cell_type": "code",
   "execution_count": 1577,
   "metadata": {},
   "outputs": [],
   "source": [
    "df_house = pd.read_csv('california_housing_train.csv')"
   ]
  },
  {
   "cell_type": "code",
   "execution_count": 1578,
   "metadata": {},
   "outputs": [],
   "source": [
    "scale_factor = 10000.0\n",
    "X = df_house[['latitude','median_income','housing_median_age']]\n",
    "y = df_house['median_house_value'].to_numpy().reshape(-1,1)\n",
    "y/=scale_factor"
   ]
  },
  {
   "cell_type": "code",
   "execution_count": 1579,
   "metadata": {},
   "outputs": [
    {
     "name": "stdout",
     "output_type": "stream",
     "text": [
      "Treino & Validação: (13600, 3)\n",
      "Teste: (3400, 3)\n",
      "Somente Treino (10880, 3)\n",
      "Somente Validação: (2720, 3)\n"
     ]
    }
   ],
   "source": [
    "x_train_val, x_test, y_train_val, y_test = train_test_split(X, y, test_size=0.2,random_state=42)\n",
    "print('Treino & Validação:', x_train_val.shape)\n",
    "print('Teste:', x_test.shape)\n",
    "#  80% de 'treino_validação' para treino e os 20% restantes para validação\n",
    "x_train, x_val, y_train, y_val = train_test_split(x_train_val, y_train_val, test_size=0.2)\n",
    "print('Somente Treino', x_train.shape)\n",
    "print('Somente Validação:', x_val.shape)"
   ]
  },
  {
   "cell_type": "code",
   "execution_count": 1580,
   "metadata": {},
   "outputs": [],
   "source": [
    "#Utilizando o método de MinMAx do sklearn\n",
    "from sklearn.preprocessing import MinMaxScaler\n",
    "scaler = MinMaxScaler ()\n",
    "#Normalizando os dados de treino e validação\n",
    "x_train_norm = scaler.fit_transform(x_train) \n",
    "x_val_norm = scaler.transform(x_val) \n",
    "y_train_norm = scaler.fit_transform(y_train).reshape(-1,1) \n",
    "y_val_norm = scaler.transform(y_val)"
   ]
  },
  {
   "cell_type": "code",
   "execution_count": 1581,
   "metadata": {},
   "outputs": [],
   "source": [
    "#Definindo alguns hiperparâmetros para o modelo\n",
    "#eta0: A taxa de aprendizagem inicial para os planejamentos \"constante\", \"escalonamento\" ou \"adaptativo\". O valor padrão é 0,01.\n",
    "#alpha: Constante que multiplica o prazo de regularização. Quanto maior o valor, mais forte é a regularização. Também usado para calcular a taxa de aprendizagem quando definido como learning_rate é definido como ‘ideal’.\n",
    "#O SGDRegressor já tem como default a regularização L2\n",
    "model3 = SGDRegressor(alpha=0.0001, eta0=0.1, max_iter=300)\n",
    "model3.fit(x_train_norm,y_train_norm.ravel())\n",
    "y_pred = model3.predict(x_val_norm).reshape(-1,1)"
   ]
  },
  {
   "cell_type": "code",
   "execution_count": 1582,
   "metadata": {},
   "outputs": [
    {
     "name": "stdout",
     "output_type": "stream",
     "text": [
      "Erro médio quadrático:  63.28494947834776\n",
      "Coeficiente de interceptação(Peso w0): [0.00384334]\n",
      "Coeficiente de inclinação(Peso w1):  [1.28321 0.1807 ]\n"
     ]
    }
   ],
   "source": [
    "#Trazendo novamente para a escala original dos dados\n",
    "y_pred_real = scaler.inverse_transform(y_pred)\n",
    "#Erro médio quadrático\n",
    "modelo3 = mean_squared_error(y_val,y_pred_real)\n",
    "print('Erro médio quadrático: ' ,mean_squared_error(y_val,y_pred_real))\n",
    "#Imprimindo Coeficiente de interceptação, ou seja, peso w0.\n",
    "w0 = model.intercept_\n",
    "print(f'Coeficiente de interceptação(Peso w0): {w0}')\n",
    "\n",
    "#Imprimindo Coeficiente de Inclinação, ou seja, peso w1.\n",
    "w1 = model.coef_\n",
    "print(f'Coeficiente de inclinação(Peso w1):  {w1.round(5)}')\n"
   ]
  },
  {
   "cell_type": "markdown",
   "metadata": {},
   "source": [
    "### Modelo 4 --- GridSearchCv definindo um K Fold \n",
    "Utilizarei como entradas, as features escolhidas após a aplicação do método RFE."
   ]
  },
  {
   "cell_type": "code",
   "execution_count": 1583,
   "metadata": {},
   "outputs": [],
   "source": [
    "df_house = pd.read_csv('california_housing_train.csv')"
   ]
  },
  {
   "cell_type": "code",
   "execution_count": 1584,
   "metadata": {},
   "outputs": [],
   "source": [
    "scale_factor = 10000.0\n",
    "X = df_house.drop(['median_house_value'], axis = 1)\n",
    "y = df_house.median_house_value.to_numpy().reshape(-1,1)\n",
    "y/=scale_factor"
   ]
  },
  {
   "cell_type": "code",
   "execution_count": 1585,
   "metadata": {},
   "outputs": [
    {
     "name": "stdout",
     "output_type": "stream",
     "text": [
      "Treino & Validação: (13600, 8)\n",
      "Teste: (3400, 8)\n",
      "Somente Treino (10880, 8)\n",
      "Somente Validação: (2720, 8)\n"
     ]
    }
   ],
   "source": [
    "x_train_val, x_test, y_train_val, y_test = train_test_split(X, y, test_size=0.2,random_state=42)\n",
    "print('Treino & Validação:', x_train_val.shape)\n",
    "print('Teste:', x_test.shape)\n",
    "#  80% de 'treino_validação' para treino e os 20% restantes para validação\n",
    "x_train, x_val, y_train, y_val = train_test_split(x_train_val, y_train_val, test_size=0.2)\n",
    "print('Somente Treino', x_train.shape)\n",
    "print('Somente Validação:', x_val.shape)"
   ]
  },
  {
   "cell_type": "code",
   "execution_count": 1586,
   "metadata": {},
   "outputs": [],
   "source": [
    "#Utilizando o método de MinMAx do sklearn\n",
    "from sklearn.preprocessing import MinMaxScaler\n",
    "scaler = MinMaxScaler ()\n",
    "#Normalizando os dados de treino e validação\n",
    "x_train_norm = scaler.fit_transform(x_train) \n",
    "x_val_norm = scaler.transform(x_val) \n",
    "y_train_norm = scaler.fit_transform(y_train).reshape(-1,1) \n",
    "y_val_norm = scaler.transform(y_val)"
   ]
  },
  {
   "cell_type": "code",
   "execution_count": 1587,
   "metadata": {},
   "outputs": [
    {
     "data": {
      "text/plain": [
       "SGDRegressor()"
      ]
     },
     "execution_count": 1587,
     "metadata": {},
     "output_type": "execute_result"
    }
   ],
   "source": [
    "model4 = SGDRegressor()\n",
    "model4.fit(x_train_norm,y_train_norm.ravel())"
   ]
  },
  {
   "cell_type": "code",
   "execution_count": 1588,
   "metadata": {},
   "outputs": [],
   "source": [
    "# Criando um esquema de validação cruzada\n",
    "folds = KFold(n_splits = 5, shuffle = True, random_state = 100)\n",
    "\n",
    "# Especificando a quantidadede de features que podem ser escolhidas, de 1 a 4.\n",
    "hyper_params = [{'n_features_to_select': list(range(1, 5))}]\n",
    "\n",
    "rfe = RFE(model4)\n",
    "\n",
    "# Aplicando a GridSearchCV tendo como estimador, o RFE\n",
    "meu_terceiro_grid = GridSearchCV(estimator = rfe, \n",
    "                        param_grid = hyper_params, \n",
    "                        scoring= 'neg_mean_squared_error', \n",
    "                        cv = folds, \n",
    "                        verbose = 0,\n",
    "                        return_train_score=False)"
   ]
  },
  {
   "cell_type": "code",
   "execution_count": 1589,
   "metadata": {},
   "outputs": [
    {
     "data": {
      "text/plain": [
       "GridSearchCV(cv=KFold(n_splits=5, random_state=100, shuffle=True),\n",
       "             estimator=RFE(estimator=SGDRegressor()),\n",
       "             param_grid=[{'n_features_to_select': [1, 2, 3, 4]}],\n",
       "             scoring='neg_mean_squared_error')"
      ]
     },
     "execution_count": 1589,
     "metadata": {},
     "output_type": "execute_result"
    }
   ],
   "source": [
    "# Treinando o modelo após a aplicação do Grid e da validação\n",
    "meu_terceiro_grid.fit(x_train_norm, y_train_norm.ravel()) "
   ]
  },
  {
   "cell_type": "code",
   "execution_count": 1590,
   "metadata": {},
   "outputs": [
    {
     "name": "stdout",
     "output_type": "stream",
     "text": [
      "-0.028896622076692035\n",
      "0.16999006464111965\n"
     ]
    }
   ],
   "source": [
    "print(meu_terceiro_grid.best_score_)\n",
    "print(np.sqrt(meu_terceiro_grid.best_score_*-1))"
   ]
  },
  {
   "cell_type": "code",
   "execution_count": 1591,
   "metadata": {},
   "outputs": [
    {
     "data": {
      "text/html": [
       "<div>\n",
       "<style scoped>\n",
       "    .dataframe tbody tr th:only-of-type {\n",
       "        vertical-align: middle;\n",
       "    }\n",
       "\n",
       "    .dataframe tbody tr th {\n",
       "        vertical-align: top;\n",
       "    }\n",
       "\n",
       "    .dataframe thead th {\n",
       "        text-align: right;\n",
       "    }\n",
       "</style>\n",
       "<table border=\"1\" class=\"dataframe\">\n",
       "  <thead>\n",
       "    <tr style=\"text-align: right;\">\n",
       "      <th></th>\n",
       "      <th>mean_fit_time</th>\n",
       "      <th>std_fit_time</th>\n",
       "      <th>mean_score_time</th>\n",
       "      <th>std_score_time</th>\n",
       "      <th>param_n_features_to_select</th>\n",
       "      <th>params</th>\n",
       "      <th>split0_test_score</th>\n",
       "      <th>split1_test_score</th>\n",
       "      <th>split2_test_score</th>\n",
       "      <th>split3_test_score</th>\n",
       "      <th>split4_test_score</th>\n",
       "      <th>mean_test_score</th>\n",
       "      <th>std_test_score</th>\n",
       "      <th>rank_test_score</th>\n",
       "    </tr>\n",
       "  </thead>\n",
       "  <tbody>\n",
       "    <tr>\n",
       "      <th>0</th>\n",
       "      <td>0.059193</td>\n",
       "      <td>0.003685</td>\n",
       "      <td>0.000802</td>\n",
       "      <td>0.000401</td>\n",
       "      <td>1</td>\n",
       "      <td>{'n_features_to_select': 1}</td>\n",
       "      <td>-0.033913</td>\n",
       "      <td>-0.033261</td>\n",
       "      <td>-0.034699</td>\n",
       "      <td>-0.029528</td>\n",
       "      <td>-0.033894</td>\n",
       "      <td>-0.033059</td>\n",
       "      <td>0.001824</td>\n",
       "      <td>4</td>\n",
       "    </tr>\n",
       "    <tr>\n",
       "      <th>1</th>\n",
       "      <td>0.051895</td>\n",
       "      <td>0.001989</td>\n",
       "      <td>0.000605</td>\n",
       "      <td>0.000494</td>\n",
       "      <td>2</td>\n",
       "      <td>{'n_features_to_select': 2}</td>\n",
       "      <td>-0.032566</td>\n",
       "      <td>-0.031489</td>\n",
       "      <td>-0.032892</td>\n",
       "      <td>-0.028169</td>\n",
       "      <td>-0.032351</td>\n",
       "      <td>-0.031494</td>\n",
       "      <td>0.001726</td>\n",
       "      <td>3</td>\n",
       "    </tr>\n",
       "    <tr>\n",
       "      <th>2</th>\n",
       "      <td>0.046265</td>\n",
       "      <td>0.002428</td>\n",
       "      <td>0.000000</td>\n",
       "      <td>0.000000</td>\n",
       "      <td>3</td>\n",
       "      <td>{'n_features_to_select': 3}</td>\n",
       "      <td>-0.031865</td>\n",
       "      <td>-0.030957</td>\n",
       "      <td>-0.032110</td>\n",
       "      <td>-0.027988</td>\n",
       "      <td>-0.031641</td>\n",
       "      <td>-0.030912</td>\n",
       "      <td>0.001512</td>\n",
       "      <td>2</td>\n",
       "    </tr>\n",
       "    <tr>\n",
       "      <th>3</th>\n",
       "      <td>0.038104</td>\n",
       "      <td>0.000985</td>\n",
       "      <td>0.000393</td>\n",
       "      <td>0.000481</td>\n",
       "      <td>4</td>\n",
       "      <td>{'n_features_to_select': 4}</td>\n",
       "      <td>-0.029944</td>\n",
       "      <td>-0.028880</td>\n",
       "      <td>-0.029961</td>\n",
       "      <td>-0.025901</td>\n",
       "      <td>-0.029796</td>\n",
       "      <td>-0.028897</td>\n",
       "      <td>0.001550</td>\n",
       "      <td>1</td>\n",
       "    </tr>\n",
       "  </tbody>\n",
       "</table>\n",
       "</div>"
      ],
      "text/plain": [
       "   mean_fit_time  std_fit_time  mean_score_time  std_score_time  \\\n",
       "0       0.059193      0.003685         0.000802        0.000401   \n",
       "1       0.051895      0.001989         0.000605        0.000494   \n",
       "2       0.046265      0.002428         0.000000        0.000000   \n",
       "3       0.038104      0.000985         0.000393        0.000481   \n",
       "\n",
       "  param_n_features_to_select                       params  split0_test_score  \\\n",
       "0                          1  {'n_features_to_select': 1}          -0.033913   \n",
       "1                          2  {'n_features_to_select': 2}          -0.032566   \n",
       "2                          3  {'n_features_to_select': 3}          -0.031865   \n",
       "3                          4  {'n_features_to_select': 4}          -0.029944   \n",
       "\n",
       "   split1_test_score  split2_test_score  split3_test_score  split4_test_score  \\\n",
       "0          -0.033261          -0.034699          -0.029528          -0.033894   \n",
       "1          -0.031489          -0.032892          -0.028169          -0.032351   \n",
       "2          -0.030957          -0.032110          -0.027988          -0.031641   \n",
       "3          -0.028880          -0.029961          -0.025901          -0.029796   \n",
       "\n",
       "   mean_test_score  std_test_score  rank_test_score  \n",
       "0        -0.033059        0.001824                4  \n",
       "1        -0.031494        0.001726                3  \n",
       "2        -0.030912        0.001512                2  \n",
       "3        -0.028897        0.001550                1  "
      ]
     },
     "execution_count": 1591,
     "metadata": {},
     "output_type": "execute_result"
    }
   ],
   "source": [
    "\n",
    "cv_resultados = pd.DataFrame(meu_terceiro_grid.cv_results_)\n",
    "cv_resultados"
   ]
  },
  {
   "cell_type": "code",
   "execution_count": 1592,
   "metadata": {},
   "outputs": [],
   "source": [
    "y_pred4 = meu_terceiro_grid.predict(x_val_norm).reshape(-1,1)"
   ]
  },
  {
   "cell_type": "code",
   "execution_count": 1593,
   "metadata": {},
   "outputs": [
    {
     "name": "stdout",
     "output_type": "stream",
     "text": [
      "Erro médio quadrático:  64.6152328228606\n",
      "Coeficiente de interceptação(Peso w0): [0.00384334]\n",
      "Coeficiente de inclinação(Peso w1):  [1.28321 0.1807 ]\n"
     ]
    }
   ],
   "source": [
    "#Trazendo novamente para a escala original dos dados\n",
    "y_pred_real = scaler.inverse_transform(y_pred4)\n",
    "#Erro médio quadrático\n",
    "modelo4 = mean_squared_error(y_val,y_pred_real)\n",
    "print('Erro médio quadrático: ' ,mean_squared_error(y_val,y_pred_real))\n",
    "#Imprimindo Coeficiente de interceptação, ou seja, peso w0.\n",
    "w0 = model.intercept_\n",
    "print(f'Coeficiente de interceptação(Peso w0): {w0}')\n",
    "\n",
    "#Imprimindo Coeficiente de Inclinação, ou seja, peso w1.\n",
    "w1 = model.coef_\n",
    "print(f'Coeficiente de inclinação(Peso w1):  {w1.round(5)}')"
   ]
  },
  {
   "cell_type": "markdown",
   "metadata": {},
   "source": [
    "### Modelo 5 --- GridSearchCV\n",
    "Utilizarei como entradas, as features: 'media_income' e 'total_rooms' por apresentarem na matriz de correlação, uma correlação relevante com a variável de saída 'median_house_value'.\n",
    "\n",
    "As características de cada modelo serão apresentadas no decorrer de sua construção."
   ]
  },
  {
   "cell_type": "code",
   "execution_count": 1594,
   "metadata": {},
   "outputs": [],
   "source": [
    "df_house = pd.read_csv('california_housing_train.csv')"
   ]
  },
  {
   "cell_type": "code",
   "execution_count": 1595,
   "metadata": {},
   "outputs": [],
   "source": [
    "scale_factor = 10000.0\n",
    "X = df_house[['median_income','housing_median_age']]\n",
    "y = df_house['median_house_value'].to_numpy().reshape(-1,1)\n",
    "y/=scale_factor"
   ]
  },
  {
   "cell_type": "code",
   "execution_count": 1596,
   "metadata": {},
   "outputs": [
    {
     "name": "stdout",
     "output_type": "stream",
     "text": [
      "Treino & Validação: (13600, 2)\n",
      "Teste: (3400, 2)\n",
      "Somente Treino (10880, 2)\n",
      "Somente Validação: (2720, 2)\n"
     ]
    }
   ],
   "source": [
    "x_train_val, x_test, y_train_val, y_test = train_test_split(X, y, test_size=0.2,random_state=42)\n",
    "print('Treino & Validação:', x_train_val.shape)\n",
    "print('Teste:', x_test.shape)\n",
    "#  80% de 'treino_validação' para treino e os 20% restantes para validação\n",
    "x_train, x_val, y_train, y_val = train_test_split(x_train_val, y_train_val, test_size=0.2)\n",
    "print('Somente Treino', x_train.shape)\n",
    "print('Somente Validação:', x_val.shape)"
   ]
  },
  {
   "cell_type": "code",
   "execution_count": 1597,
   "metadata": {},
   "outputs": [],
   "source": [
    "#Utilizando o método de MinMAx do sklearn\n",
    "from sklearn.preprocessing import MinMaxScaler\n",
    "scaler = MinMaxScaler ()\n",
    "#Normalizando os dados de treino e validação\n",
    "x_train_norm = scaler.fit_transform(x_train) \n",
    "x_val_norm = scaler.transform(x_val) \n",
    "y_train_norm = scaler.fit_transform(y_train).reshape(-1,1) \n",
    "y_val_norm = scaler.transform(y_val)"
   ]
  },
  {
   "cell_type": "code",
   "execution_count": 1598,
   "metadata": {},
   "outputs": [
    {
     "data": {
      "text/plain": [
       "dict_keys(['alpha', 'average', 'early_stopping', 'epsilon', 'eta0', 'fit_intercept', 'l1_ratio', 'learning_rate', 'loss', 'max_iter', 'n_iter_no_change', 'penalty', 'power_t', 'random_state', 'shuffle', 'tol', 'validation_fraction', 'verbose', 'warm_start'])"
      ]
     },
     "execution_count": 1598,
     "metadata": {},
     "output_type": "execute_result"
    }
   ],
   "source": [
    "model5 = SGDRegressor()\n",
    "#Olhando os parâmetros do SGDRegressor \n",
    "model5.get_params().keys()"
   ]
  },
  {
   "cell_type": "code",
   "execution_count": 1599,
   "metadata": {},
   "outputs": [],
   "source": [
    "# Definindo os parâmetros que serão utilizados no GridSearchCV\n",
    "model5_params = {\n",
    "    #Utilizando essa potenciação pra deixar o alpha sempre naquela vibe de taxa mesmo, só que dando esse intervalo para o gread trabalhar\n",
    "    #O restante dos parâmetros foram definidos de acordo com a documentação\n",
    "    'alpha': [0.0001,0.001,0.00001,0.03],\n",
    "    'loss': ['squared_loss', 'epsilon_insensitive'],\n",
    "    'penalty': ['l2', 'l1', 'elasticnet'],\n",
    "    'max_iter': [300, 600, 1000],\n",
    "    'tol':[0.01,0.001,0.0001]\n",
    "}"
   ]
  },
  {
   "cell_type": "code",
   "execution_count": 1600,
   "metadata": {},
   "outputs": [],
   "source": [
    "from sklearn.model_selection import GridSearchCV\n",
    "# Definir uma lista de métricas, sendo a mais importante a do erro quadrático == neg_mean_squared_log_error\n",
    "# Link das métricas: https://scikit-learn.org/stable/modules/model_evaluation.html#scoring-parameter\n",
    "metricas = ['explained_variance', 'neg_mean_absolute_error', 'neg_mean_squared_error', 'neg_median_absolute_error', 'r2']\n",
    "#  verbose=100 pra ele ir falando o que ele tá fazendo passo a passo\n",
    "# No refit significa que ele vai escolher o modelo com o menor erro quadrado médio. Por último estou pedindo para não retornar os scores de treinamento.\n",
    "meu_quarto_grid = GridSearchCV(model2, param_grid=model5_params, scoring=metricas,verbose=0,refit='neg_mean_squared_error', return_train_score=False)"
   ]
  },
  {
   "cell_type": "code",
   "execution_count": 1601,
   "metadata": {},
   "outputs": [
    {
     "data": {
      "text/plain": [
       "GridSearchCV(estimator=SGDRegressor(),\n",
       "             param_grid={'alpha': [0.0001, 0.001, 1e-05, 0.03],\n",
       "                         'loss': ['squared_loss', 'epsilon_insensitive'],\n",
       "                         'max_iter': [300, 600, 1000],\n",
       "                         'penalty': ['l2', 'l1', 'elasticnet'],\n",
       "                         'tol': [0.01, 0.001, 0.0001]},\n",
       "             refit='neg_mean_squared_error',\n",
       "             scoring=['explained_variance', 'neg_mean_absolute_error',\n",
       "                      'neg_mean_squared_error', 'neg_median_absolute_error',\n",
       "                      'r2'])"
      ]
     },
     "execution_count": 1601,
     "metadata": {},
     "output_type": "execute_result"
    }
   ],
   "source": [
    "meu_quarto_grid.fit(x_train_norm,y_train_norm.ravel())"
   ]
  },
  {
   "cell_type": "code",
   "execution_count": 1602,
   "metadata": {},
   "outputs": [
    {
     "data": {
      "text/plain": [
       "SGDRegressor(alpha=1e-05, loss='epsilon_insensitive', max_iter=600,\n",
       "             penalty='elasticnet')"
      ]
     },
     "execution_count": 1602,
     "metadata": {},
     "output_type": "execute_result"
    }
   ],
   "source": [
    "meu_quarto_grid.best_estimator_\n",
    "#Então os ajustes definidos para os hiperparâmetros após a aplicação do GridSearch, foram esses:"
   ]
  },
  {
   "cell_type": "code",
   "execution_count": 1603,
   "metadata": {},
   "outputs": [
    {
     "data": {
      "text/plain": [
       "-0.028090517667029247"
      ]
     },
     "execution_count": 1603,
     "metadata": {},
     "output_type": "execute_result"
    }
   ],
   "source": [
    "# Como eu defini o neg_mean_squared_error no refit, ele está devolvendo o melhor score dessa métrica. Essa métrica é o erro quadrado médio, só que negativa. \n",
    "#Acho que é pra ficar mais fácil de minimizar, aí eles adotam o padrão de colocar as métricas tudo negativa. \n",
    "meu_quarto_grid.best_score_"
   ]
  },
  {
   "cell_type": "code",
   "execution_count": 1604,
   "metadata": {},
   "outputs": [
    {
     "data": {
      "text/plain": [
       "0.1676022603279241"
      ]
     },
     "execution_count": 1604,
     "metadata": {},
     "output_type": "execute_result"
    }
   ],
   "source": [
    "# Achei que a melhor forma de lidar com isso é tirando a raiz da métrica(até pelo fato de ser o erro quadrático), após aplicar esse passo, temos o erro.\n",
    "np.sqrt(meu_quarto_grid.best_score_*-1)"
   ]
  },
  {
   "cell_type": "code",
   "execution_count": 1605,
   "metadata": {},
   "outputs": [
    {
     "data": {
      "text/html": [
       "<div>\n",
       "<style scoped>\n",
       "    .dataframe tbody tr th:only-of-type {\n",
       "        vertical-align: middle;\n",
       "    }\n",
       "\n",
       "    .dataframe tbody tr th {\n",
       "        vertical-align: top;\n",
       "    }\n",
       "\n",
       "    .dataframe thead th {\n",
       "        text-align: right;\n",
       "    }\n",
       "</style>\n",
       "<table border=\"1\" class=\"dataframe\">\n",
       "  <thead>\n",
       "    <tr style=\"text-align: right;\">\n",
       "      <th></th>\n",
       "      <th>mean_fit_time</th>\n",
       "      <th>std_fit_time</th>\n",
       "      <th>mean_score_time</th>\n",
       "      <th>std_score_time</th>\n",
       "      <th>param_alpha</th>\n",
       "      <th>param_loss</th>\n",
       "      <th>param_max_iter</th>\n",
       "      <th>param_penalty</th>\n",
       "      <th>param_tol</th>\n",
       "      <th>params</th>\n",
       "      <th>...</th>\n",
       "      <th>std_test_neg_median_absolute_error</th>\n",
       "      <th>rank_test_neg_median_absolute_error</th>\n",
       "      <th>split0_test_r2</th>\n",
       "      <th>split1_test_r2</th>\n",
       "      <th>split2_test_r2</th>\n",
       "      <th>split3_test_r2</th>\n",
       "      <th>split4_test_r2</th>\n",
       "      <th>mean_test_r2</th>\n",
       "      <th>std_test_r2</th>\n",
       "      <th>rank_test_r2</th>\n",
       "    </tr>\n",
       "  </thead>\n",
       "  <tbody>\n",
       "    <tr>\n",
       "      <th>0</th>\n",
       "      <td>0.004989</td>\n",
       "      <td>1.090804e-03</td>\n",
       "      <td>0.001196</td>\n",
       "      <td>0.000405</td>\n",
       "      <td>0.0001</td>\n",
       "      <td>squared_loss</td>\n",
       "      <td>300</td>\n",
       "      <td>l2</td>\n",
       "      <td>0.01</td>\n",
       "      <td>{'alpha': 0.0001, 'loss': 'squared_loss', 'max...</td>\n",
       "      <td>...</td>\n",
       "      <td>0.004956</td>\n",
       "      <td>182</td>\n",
       "      <td>0.425152</td>\n",
       "      <td>0.401443</td>\n",
       "      <td>0.410620</td>\n",
       "      <td>0.380672</td>\n",
       "      <td>0.417432</td>\n",
       "      <td>0.407064</td>\n",
       "      <td>0.015333</td>\n",
       "      <td>171</td>\n",
       "    </tr>\n",
       "    <tr>\n",
       "      <th>1</th>\n",
       "      <td>0.005984</td>\n",
       "      <td>6.641573e-07</td>\n",
       "      <td>0.000997</td>\n",
       "      <td>0.000631</td>\n",
       "      <td>0.0001</td>\n",
       "      <td>squared_loss</td>\n",
       "      <td>300</td>\n",
       "      <td>l2</td>\n",
       "      <td>0.001</td>\n",
       "      <td>{'alpha': 0.0001, 'loss': 'squared_loss', 'max...</td>\n",
       "      <td>...</td>\n",
       "      <td>0.002868</td>\n",
       "      <td>148</td>\n",
       "      <td>0.467446</td>\n",
       "      <td>0.440103</td>\n",
       "      <td>0.451257</td>\n",
       "      <td>0.417311</td>\n",
       "      <td>0.461984</td>\n",
       "      <td>0.447620</td>\n",
       "      <td>0.017820</td>\n",
       "      <td>139</td>\n",
       "    </tr>\n",
       "    <tr>\n",
       "      <th>2</th>\n",
       "      <td>0.012768</td>\n",
       "      <td>4.268979e-04</td>\n",
       "      <td>0.001005</td>\n",
       "      <td>0.000022</td>\n",
       "      <td>0.0001</td>\n",
       "      <td>squared_loss</td>\n",
       "      <td>300</td>\n",
       "      <td>l2</td>\n",
       "      <td>0.0001</td>\n",
       "      <td>{'alpha': 0.0001, 'loss': 'squared_loss', 'max...</td>\n",
       "      <td>...</td>\n",
       "      <td>0.002395</td>\n",
       "      <td>106</td>\n",
       "      <td>0.520905</td>\n",
       "      <td>0.483860</td>\n",
       "      <td>0.496249</td>\n",
       "      <td>0.460475</td>\n",
       "      <td>0.518423</td>\n",
       "      <td>0.495982</td>\n",
       "      <td>0.022506</td>\n",
       "      <td>98</td>\n",
       "    </tr>\n",
       "    <tr>\n",
       "      <th>3</th>\n",
       "      <td>0.004183</td>\n",
       "      <td>3.770008e-04</td>\n",
       "      <td>0.001006</td>\n",
       "      <td>0.000012</td>\n",
       "      <td>0.0001</td>\n",
       "      <td>squared_loss</td>\n",
       "      <td>300</td>\n",
       "      <td>l1</td>\n",
       "      <td>0.01</td>\n",
       "      <td>{'alpha': 0.0001, 'loss': 'squared_loss', 'max...</td>\n",
       "      <td>...</td>\n",
       "      <td>0.003709</td>\n",
       "      <td>185</td>\n",
       "      <td>0.424200</td>\n",
       "      <td>0.401073</td>\n",
       "      <td>0.411453</td>\n",
       "      <td>0.378285</td>\n",
       "      <td>0.417118</td>\n",
       "      <td>0.406426</td>\n",
       "      <td>0.015975</td>\n",
       "      <td>177</td>\n",
       "    </tr>\n",
       "    <tr>\n",
       "      <th>4</th>\n",
       "      <td>0.007091</td>\n",
       "      <td>2.190047e-04</td>\n",
       "      <td>0.001396</td>\n",
       "      <td>0.001353</td>\n",
       "      <td>0.0001</td>\n",
       "      <td>squared_loss</td>\n",
       "      <td>300</td>\n",
       "      <td>l1</td>\n",
       "      <td>0.001</td>\n",
       "      <td>{'alpha': 0.0001, 'loss': 'squared_loss', 'max...</td>\n",
       "      <td>...</td>\n",
       "      <td>0.002513</td>\n",
       "      <td>143</td>\n",
       "      <td>0.467618</td>\n",
       "      <td>0.439435</td>\n",
       "      <td>0.451186</td>\n",
       "      <td>0.416759</td>\n",
       "      <td>0.461810</td>\n",
       "      <td>0.447362</td>\n",
       "      <td>0.018072</td>\n",
       "      <td>143</td>\n",
       "    </tr>\n",
       "    <tr>\n",
       "      <th>...</th>\n",
       "      <td>...</td>\n",
       "      <td>...</td>\n",
       "      <td>...</td>\n",
       "      <td>...</td>\n",
       "      <td>...</td>\n",
       "      <td>...</td>\n",
       "      <td>...</td>\n",
       "      <td>...</td>\n",
       "      <td>...</td>\n",
       "      <td>...</td>\n",
       "      <td>...</td>\n",
       "      <td>...</td>\n",
       "      <td>...</td>\n",
       "      <td>...</td>\n",
       "      <td>...</td>\n",
       "      <td>...</td>\n",
       "      <td>...</td>\n",
       "      <td>...</td>\n",
       "      <td>...</td>\n",
       "      <td>...</td>\n",
       "      <td>...</td>\n",
       "    </tr>\n",
       "    <tr>\n",
       "      <th>211</th>\n",
       "      <td>0.007583</td>\n",
       "      <td>4.903196e-04</td>\n",
       "      <td>0.000796</td>\n",
       "      <td>0.000398</td>\n",
       "      <td>0.03</td>\n",
       "      <td>epsilon_insensitive</td>\n",
       "      <td>1000</td>\n",
       "      <td>l1</td>\n",
       "      <td>0.001</td>\n",
       "      <td>{'alpha': 0.03, 'loss': 'epsilon_insensitive',...</td>\n",
       "      <td>...</td>\n",
       "      <td>0.003535</td>\n",
       "      <td>129</td>\n",
       "      <td>0.431613</td>\n",
       "      <td>0.392770</td>\n",
       "      <td>0.414067</td>\n",
       "      <td>0.369561</td>\n",
       "      <td>0.426313</td>\n",
       "      <td>0.406865</td>\n",
       "      <td>0.022947</td>\n",
       "      <td>176</td>\n",
       "    </tr>\n",
       "    <tr>\n",
       "      <th>212</th>\n",
       "      <td>0.017362</td>\n",
       "      <td>2.408370e-03</td>\n",
       "      <td>0.001009</td>\n",
       "      <td>0.000030</td>\n",
       "      <td>0.03</td>\n",
       "      <td>epsilon_insensitive</td>\n",
       "      <td>1000</td>\n",
       "      <td>l1</td>\n",
       "      <td>0.0001</td>\n",
       "      <td>{'alpha': 0.03, 'loss': 'epsilon_insensitive',...</td>\n",
       "      <td>...</td>\n",
       "      <td>0.002988</td>\n",
       "      <td>125</td>\n",
       "      <td>0.451944</td>\n",
       "      <td>0.402486</td>\n",
       "      <td>0.412477</td>\n",
       "      <td>0.389756</td>\n",
       "      <td>0.443237</td>\n",
       "      <td>0.419980</td>\n",
       "      <td>0.023826</td>\n",
       "      <td>154</td>\n",
       "    </tr>\n",
       "    <tr>\n",
       "      <th>213</th>\n",
       "      <td>0.005775</td>\n",
       "      <td>7.385898e-04</td>\n",
       "      <td>0.000817</td>\n",
       "      <td>0.000409</td>\n",
       "      <td>0.03</td>\n",
       "      <td>epsilon_insensitive</td>\n",
       "      <td>1000</td>\n",
       "      <td>elasticnet</td>\n",
       "      <td>0.01</td>\n",
       "      <td>{'alpha': 0.03, 'loss': 'epsilon_insensitive',...</td>\n",
       "      <td>...</td>\n",
       "      <td>0.001996</td>\n",
       "      <td>82</td>\n",
       "      <td>0.479801</td>\n",
       "      <td>0.435777</td>\n",
       "      <td>0.433409</td>\n",
       "      <td>0.407039</td>\n",
       "      <td>0.463681</td>\n",
       "      <td>0.443941</td>\n",
       "      <td>0.025357</td>\n",
       "      <td>144</td>\n",
       "    </tr>\n",
       "    <tr>\n",
       "      <th>214</th>\n",
       "      <td>0.007575</td>\n",
       "      <td>4.844550e-04</td>\n",
       "      <td>0.001084</td>\n",
       "      <td>0.000154</td>\n",
       "      <td>0.03</td>\n",
       "      <td>epsilon_insensitive</td>\n",
       "      <td>1000</td>\n",
       "      <td>elasticnet</td>\n",
       "      <td>0.001</td>\n",
       "      <td>{'alpha': 0.03, 'loss': 'epsilon_insensitive',...</td>\n",
       "      <td>...</td>\n",
       "      <td>0.003144</td>\n",
       "      <td>84</td>\n",
       "      <td>0.468463</td>\n",
       "      <td>0.440064</td>\n",
       "      <td>0.449701</td>\n",
       "      <td>0.425559</td>\n",
       "      <td>0.476210</td>\n",
       "      <td>0.451999</td>\n",
       "      <td>0.018461</td>\n",
       "      <td>124</td>\n",
       "    </tr>\n",
       "    <tr>\n",
       "      <th>215</th>\n",
       "      <td>0.011956</td>\n",
       "      <td>1.398224e-03</td>\n",
       "      <td>0.001401</td>\n",
       "      <td>0.000500</td>\n",
       "      <td>0.03</td>\n",
       "      <td>epsilon_insensitive</td>\n",
       "      <td>1000</td>\n",
       "      <td>elasticnet</td>\n",
       "      <td>0.0001</td>\n",
       "      <td>{'alpha': 0.03, 'loss': 'epsilon_insensitive',...</td>\n",
       "      <td>...</td>\n",
       "      <td>0.002325</td>\n",
       "      <td>96</td>\n",
       "      <td>0.481140</td>\n",
       "      <td>0.450526</td>\n",
       "      <td>0.456832</td>\n",
       "      <td>0.426857</td>\n",
       "      <td>0.476064</td>\n",
       "      <td>0.458284</td>\n",
       "      <td>0.019435</td>\n",
       "      <td>112</td>\n",
       "    </tr>\n",
       "  </tbody>\n",
       "</table>\n",
       "<p>216 rows × 50 columns</p>\n",
       "</div>"
      ],
      "text/plain": [
       "     mean_fit_time  std_fit_time  mean_score_time  std_score_time param_alpha  \\\n",
       "0         0.004989  1.090804e-03         0.001196        0.000405      0.0001   \n",
       "1         0.005984  6.641573e-07         0.000997        0.000631      0.0001   \n",
       "2         0.012768  4.268979e-04         0.001005        0.000022      0.0001   \n",
       "3         0.004183  3.770008e-04         0.001006        0.000012      0.0001   \n",
       "4         0.007091  2.190047e-04         0.001396        0.001353      0.0001   \n",
       "..             ...           ...              ...             ...         ...   \n",
       "211       0.007583  4.903196e-04         0.000796        0.000398        0.03   \n",
       "212       0.017362  2.408370e-03         0.001009        0.000030        0.03   \n",
       "213       0.005775  7.385898e-04         0.000817        0.000409        0.03   \n",
       "214       0.007575  4.844550e-04         0.001084        0.000154        0.03   \n",
       "215       0.011956  1.398224e-03         0.001401        0.000500        0.03   \n",
       "\n",
       "              param_loss param_max_iter param_penalty param_tol  \\\n",
       "0           squared_loss            300            l2      0.01   \n",
       "1           squared_loss            300            l2     0.001   \n",
       "2           squared_loss            300            l2    0.0001   \n",
       "3           squared_loss            300            l1      0.01   \n",
       "4           squared_loss            300            l1     0.001   \n",
       "..                   ...            ...           ...       ...   \n",
       "211  epsilon_insensitive           1000            l1     0.001   \n",
       "212  epsilon_insensitive           1000            l1    0.0001   \n",
       "213  epsilon_insensitive           1000    elasticnet      0.01   \n",
       "214  epsilon_insensitive           1000    elasticnet     0.001   \n",
       "215  epsilon_insensitive           1000    elasticnet    0.0001   \n",
       "\n",
       "                                                params  ...  \\\n",
       "0    {'alpha': 0.0001, 'loss': 'squared_loss', 'max...  ...   \n",
       "1    {'alpha': 0.0001, 'loss': 'squared_loss', 'max...  ...   \n",
       "2    {'alpha': 0.0001, 'loss': 'squared_loss', 'max...  ...   \n",
       "3    {'alpha': 0.0001, 'loss': 'squared_loss', 'max...  ...   \n",
       "4    {'alpha': 0.0001, 'loss': 'squared_loss', 'max...  ...   \n",
       "..                                                 ...  ...   \n",
       "211  {'alpha': 0.03, 'loss': 'epsilon_insensitive',...  ...   \n",
       "212  {'alpha': 0.03, 'loss': 'epsilon_insensitive',...  ...   \n",
       "213  {'alpha': 0.03, 'loss': 'epsilon_insensitive',...  ...   \n",
       "214  {'alpha': 0.03, 'loss': 'epsilon_insensitive',...  ...   \n",
       "215  {'alpha': 0.03, 'loss': 'epsilon_insensitive',...  ...   \n",
       "\n",
       "     std_test_neg_median_absolute_error  rank_test_neg_median_absolute_error  \\\n",
       "0                              0.004956                                  182   \n",
       "1                              0.002868                                  148   \n",
       "2                              0.002395                                  106   \n",
       "3                              0.003709                                  185   \n",
       "4                              0.002513                                  143   \n",
       "..                                  ...                                  ...   \n",
       "211                            0.003535                                  129   \n",
       "212                            0.002988                                  125   \n",
       "213                            0.001996                                   82   \n",
       "214                            0.003144                                   84   \n",
       "215                            0.002325                                   96   \n",
       "\n",
       "     split0_test_r2  split1_test_r2  split2_test_r2  split3_test_r2  \\\n",
       "0          0.425152        0.401443        0.410620        0.380672   \n",
       "1          0.467446        0.440103        0.451257        0.417311   \n",
       "2          0.520905        0.483860        0.496249        0.460475   \n",
       "3          0.424200        0.401073        0.411453        0.378285   \n",
       "4          0.467618        0.439435        0.451186        0.416759   \n",
       "..              ...             ...             ...             ...   \n",
       "211        0.431613        0.392770        0.414067        0.369561   \n",
       "212        0.451944        0.402486        0.412477        0.389756   \n",
       "213        0.479801        0.435777        0.433409        0.407039   \n",
       "214        0.468463        0.440064        0.449701        0.425559   \n",
       "215        0.481140        0.450526        0.456832        0.426857   \n",
       "\n",
       "     split4_test_r2  mean_test_r2  std_test_r2  rank_test_r2  \n",
       "0          0.417432      0.407064     0.015333           171  \n",
       "1          0.461984      0.447620     0.017820           139  \n",
       "2          0.518423      0.495982     0.022506            98  \n",
       "3          0.417118      0.406426     0.015975           177  \n",
       "4          0.461810      0.447362     0.018072           143  \n",
       "..              ...           ...          ...           ...  \n",
       "211        0.426313      0.406865     0.022947           176  \n",
       "212        0.443237      0.419980     0.023826           154  \n",
       "213        0.463681      0.443941     0.025357           144  \n",
       "214        0.476210      0.451999     0.018461           124  \n",
       "215        0.476064      0.458284     0.019435           112  \n",
       "\n",
       "[216 rows x 50 columns]"
      ]
     },
     "execution_count": 1605,
     "metadata": {},
     "output_type": "execute_result"
    }
   ],
   "source": [
    "#  O Grid Search retorna um dicionário com todos os resultados, transformei ele em um dataframe pra ficar mais fácil de ver\n",
    "pd.DataFrame(meu_quarto_grid.cv_results_)"
   ]
  },
  {
   "cell_type": "code",
   "execution_count": 1606,
   "metadata": {},
   "outputs": [
    {
     "name": "stdout",
     "output_type": "stream",
     "text": [
      "Erro médio quadrático:  67.77240461297734\n",
      "Coeficiente de interceptação(Peso w0): [0.00384334]\n",
      "Coeficiente de inclinação(Peso w1):  [1.28321 0.1807 ]\n"
     ]
    }
   ],
   "source": [
    "y_pred5 = meu_quarto_grid.predict(x_val_norm).reshape(-1,1)\n",
    "#Trazendo novamente para a escala original dos dados\n",
    "y_pred_real = scaler.inverse_transform(y_pred5)\n",
    "#Erro médio quadrático\n",
    "modelo5 = mean_squared_error(y_val,y_pred_real)\n",
    "print('Erro médio quadrático: ' ,mean_squared_error(y_val,y_pred_real))\n",
    "#Imprimindo Coeficiente de interceptação, ou seja, peso w0.\n",
    "w0 = model.intercept_\n",
    "print(f'Coeficiente de interceptação(Peso w0): {w0}')\n",
    "\n",
    "#Imprimindo Coeficiente de Inclinação, ou seja, peso w1.\n",
    "w1 = model.coef_\n",
    "print(f'Coeficiente de inclinação(Peso w1):  {w1.round(5)}')"
   ]
  },
  {
   "cell_type": "markdown",
   "metadata": {},
   "source": [
    "### Modelo 6 -- Baseline \n"
   ]
  },
  {
   "cell_type": "code",
   "execution_count": 1607,
   "metadata": {},
   "outputs": [],
   "source": [
    "df_house = pd.read_csv('california_housing_train.csv')"
   ]
  },
  {
   "cell_type": "code",
   "execution_count": 1608,
   "metadata": {},
   "outputs": [],
   "source": [
    "scale_factor = 10000.0\n",
    "X = df_house.drop(['median_house_value'], axis = 1) \n",
    "y = df_house.median_house_value.to_numpy().reshape(-1,1) #Definindo somente a 'median_house_value' como saída\n",
    "y/=scale_factor"
   ]
  },
  {
   "cell_type": "code",
   "execution_count": 1609,
   "metadata": {},
   "outputs": [
    {
     "name": "stdout",
     "output_type": "stream",
     "text": [
      "Treino & Validação: (13600, 8)\n",
      "Teste: (3400, 8)\n",
      "Somente Treino (10880, 8)\n",
      "Somente Validação: (2720, 8)\n"
     ]
    }
   ],
   "source": [
    "x_train_val, x_test, y_train_val, y_test = train_test_split(X, y, test_size=0.2,random_state=42)\n",
    "print('Treino & Validação:', x_train_val.shape)\n",
    "print('Teste:', x_test.shape)\n",
    "#  80% de 'treino_validação' para treino e os 20% restantes para validação\n",
    "x_train, x_val, y_train, y_val = train_test_split(x_train_val, y_train_val, test_size=0.2)\n",
    "print('Somente Treino', x_train.shape)\n",
    "print('Somente Validação:', x_val.shape)"
   ]
  },
  {
   "cell_type": "code",
   "execution_count": 1610,
   "metadata": {},
   "outputs": [],
   "source": [
    "#Utilizando o método de MinMAx do sklearn\n",
    "from sklearn.preprocessing import MinMaxScaler\n",
    "scaler = MinMaxScaler ()\n",
    "#Normalizando os dados de treino e validação\n",
    "x_train_norm = scaler.fit_transform(x_train) \n",
    "x_val_norm = scaler.transform(x_val) \n",
    "y_train_norm = scaler.fit_transform(y_train).reshape(-1,1) \n",
    "y_val_norm = scaler.transform(y_val)"
   ]
  },
  {
   "cell_type": "code",
   "execution_count": 1611,
   "metadata": {},
   "outputs": [],
   "source": [
    "model = SGDRegressor()\n",
    "model.fit(x_train_norm,y_train_norm.ravel())\n",
    "y_pred6 = model.predict(x_val_norm).reshape(-1,1)"
   ]
  },
  {
   "cell_type": "code",
   "execution_count": 1612,
   "metadata": {},
   "outputs": [
    {
     "name": "stdout",
     "output_type": "stream",
     "text": [
      "Erro médio quadrático:  63.68917914019172\n",
      "Coeficiente de interceptação(Peso w0): [0.21721382]\n",
      "Coeficiente de inclinação(Peso w1):  [-0.15236 -0.18898  0.1634   0.10446  0.07439 -0.00705  0.0799   0.91838]\n",
      "Coeficiente de determinação: 0.5119991707973671\n"
     ]
    }
   ],
   "source": [
    "#Trazendo novamente para a escala original dos dados\n",
    "y_pred_real = scaler.inverse_transform(y_pred6)\n",
    "#Erro médio quadrático\n",
    "modelo6 = mean_squared_error(y_val,y_pred_real)\n",
    "print('Erro médio quadrático: ' ,mean_squared_error(y_val,y_pred_real))\n",
    "#Imprimindo Coeficiente de interceptação, ou seja, peso w0.\n",
    "w0 = model.intercept_\n",
    "print(f'Coeficiente de interceptação(Peso w0): {w0}')\n",
    "\n",
    "#Imprimindo Coeficiente de Inclinação, ou seja, peso w1.\n",
    "w1 = model.coef_\n",
    "print(f'Coeficiente de inclinação(Peso w1):  {w1.round(5)}')\n",
    "\n",
    "print('Coeficiente de determinação:', model.score(x_train_norm, y_train_norm))"
   ]
  },
  {
   "cell_type": "markdown",
   "metadata": {},
   "source": [
    "### Apresentação e Análise dos Resultados "
   ]
  },
  {
   "cell_type": "code",
   "execution_count": 1613,
   "metadata": {},
   "outputs": [
    {
     "data": {
      "text/html": [
       "<div>\n",
       "<style scoped>\n",
       "    .dataframe tbody tr th:only-of-type {\n",
       "        vertical-align: middle;\n",
       "    }\n",
       "\n",
       "    .dataframe tbody tr th {\n",
       "        vertical-align: top;\n",
       "    }\n",
       "\n",
       "    .dataframe thead th {\n",
       "        text-align: right;\n",
       "    }\n",
       "</style>\n",
       "<table border=\"1\" class=\"dataframe\">\n",
       "  <thead>\n",
       "    <tr style=\"text-align: right;\">\n",
       "      <th></th>\n",
       "      <th>Modelos</th>\n",
       "      <th>Resultado MSE</th>\n",
       "      <th>Entradas</th>\n",
       "    </tr>\n",
       "  </thead>\n",
       "  <tbody>\n",
       "    <tr>\n",
       "      <th>0</th>\n",
       "      <td>Modelo 1(Ajuste)</td>\n",
       "      <td>65.281876</td>\n",
       "      <td>housing e median</td>\n",
       "    </tr>\n",
       "    <tr>\n",
       "      <th>1</th>\n",
       "      <td>Modelo 2(Grid)</td>\n",
       "      <td>50.899457</td>\n",
       "      <td>Todas 8</td>\n",
       "    </tr>\n",
       "    <tr>\n",
       "      <th>2</th>\n",
       "      <td>Modelo 3(Ajuste)</td>\n",
       "      <td>63.284949</td>\n",
       "      <td>latitude, median e housing</td>\n",
       "    </tr>\n",
       "    <tr>\n",
       "      <th>3</th>\n",
       "      <td>Modelo 4(Grid)</td>\n",
       "      <td>64.615233</td>\n",
       "      <td>RFE</td>\n",
       "    </tr>\n",
       "    <tr>\n",
       "      <th>4</th>\n",
       "      <td>Modelo 5(Grid)</td>\n",
       "      <td>67.772405</td>\n",
       "      <td>housing e median</td>\n",
       "    </tr>\n",
       "    <tr>\n",
       "      <th>5</th>\n",
       "      <td>Modelo 6(Baseline)</td>\n",
       "      <td>63.689179</td>\n",
       "      <td>Todas 8</td>\n",
       "    </tr>\n",
       "  </tbody>\n",
       "</table>\n",
       "</div>"
      ],
      "text/plain": [
       "              Modelos  Resultado MSE                    Entradas\n",
       "0    Modelo 1(Ajuste)      65.281876            housing e median\n",
       "1      Modelo 2(Grid)      50.899457                     Todas 8\n",
       "2    Modelo 3(Ajuste)      63.284949  latitude, median e housing\n",
       "3      Modelo 4(Grid)      64.615233                         RFE\n",
       "4      Modelo 5(Grid)      67.772405            housing e median\n",
       "5  Modelo 6(Baseline)      63.689179                     Todas 8"
      ]
     },
     "execution_count": 1613,
     "metadata": {},
     "output_type": "execute_result"
    }
   ],
   "source": [
    "#Criando um dataframe para apresentar os resultados\n",
    "# Ainda vou colocar o terceiro\n",
    "modelo1 = pd.Series({'Modelos': 'Modelo 1(Ajuste)', 'Resultado MSE': modelo1, 'Entradas': 'housing e median'})\n",
    "modelo2 = pd.Series({'Modelos': 'Modelo 2(Grid)', 'Resultado MSE': modelo2, 'Entradas': 'Todas 8'})\n",
    "modelo3 = pd.Series({'Modelos': 'Modelo 3(Ajuste)', 'Resultado MSE': modelo3, 'Entradas': 'latitude, median e housing'})\n",
    "modelo4 = pd.Series({'Modelos': 'Modelo 4(Grid)', 'Resultado MSE': modelo4, 'Entradas': 'RFE'})\n",
    "modelo5 = pd.Series({'Modelos': 'Modelo 5(Grid)', 'Resultado MSE': modelo5, 'Entradas': 'housing e median'})\n",
    "modelo6 = pd.Series({'Modelos': 'Modelo 6(Baseline)', 'Resultado MSE': modelo6, 'Entradas': 'Todas 8'})\n",
    "\n",
    "df_resultados = pd.DataFrame([modelo1,modelo2,modelo3,modelo4,modelo5,modelo6])\n",
    "df_resultados"
   ]
  },
  {
   "cell_type": "markdown",
   "metadata": {},
   "source": [
    "### Melhor Resultado: Modelo 2"
   ]
  },
  {
   "cell_type": "code",
   "execution_count": 1614,
   "metadata": {},
   "outputs": [],
   "source": [
    "#Utilizando o método de MinMAx do sklearn\n",
    "from sklearn.preprocessing import MinMaxScaler\n",
    "scaler = MinMaxScaler ()\n",
    "#Normalizando os dados de treino original e de teste\n",
    "x_train_val_norm = scaler.fit_transform(x_train_val) \n",
    "x_test_norm = scaler.transform(x_test) \n",
    "y_train_val_norm = scaler.fit_transform(y_train_val).reshape(-1,1) \n",
    "y_test_norm = scaler.transform(y_test)"
   ]
  },
  {
   "cell_type": "code",
   "execution_count": 1615,
   "metadata": {},
   "outputs": [],
   "source": [
    "#A epsilon_insensitive é a l1: ignora erros menores do que epsilon e é linear após isso; esta é a função de perda usada no SVR\n",
    "#elasticnet: traz uma maior dispersão ao modelo\n",
    "model = SGDRegressor(loss='epsilon_insensitive', max_iter=300, penalty='elasticnet',tol=0.0001)\n",
    "model.fit(x_train_val_norm,y_train_val_norm.ravel())\n",
    "y_pred = model.predict(x_test_norm).reshape(-1,1)"
   ]
  },
  {
   "cell_type": "code",
   "execution_count": 1616,
   "metadata": {},
   "outputs": [
    {
     "name": "stdout",
     "output_type": "stream",
     "text": [
      "Erro médio quadrático:  53.70795053543121\n",
      "Coeficiente de interceptação(Peso w0): [0.40335063]\n",
      "Coeficiente de inclinação(Peso w1):  [-0.52116 -0.50255  0.15785  0.05046  0.17277 -0.1025   0.1518   1.2262 ]\n"
     ]
    }
   ],
   "source": [
    "#Erro médio quadrático\n",
    "y_pred_real = scaler.inverse_transform(y_pred)\n",
    "print('Erro médio quadrático: ' ,mean_squared_error(y_test,y_pred_real))\n",
    "#Imprimindo Coeficiente de interceptação, ou seja, peso w0.\n",
    "w0 = model.intercept_\n",
    "print(f'Coeficiente de interceptação(Peso w0): {w0}')\n",
    "\n",
    "#Imprimindo Coeficiente de Inclinação, ou seja, peso w1.\n",
    "w1 = model.coef_\n",
    "print(f'Coeficiente de inclinação(Peso w1):  {w1.round(5)}')"
   ]
  }
 ],
 "metadata": {
  "kernelspec": {
   "display_name": "Python 3",
   "language": "python",
   "name": "python3"
  },
  "language_info": {
   "codemirror_mode": {
    "name": "ipython",
    "version": 3
   },
   "file_extension": ".py",
   "mimetype": "text/x-python",
   "name": "python",
   "nbconvert_exporter": "python",
   "pygments_lexer": "ipython3",
   "version": "3.9.1"
  }
 },
 "nbformat": 4,
 "nbformat_minor": 4
}
