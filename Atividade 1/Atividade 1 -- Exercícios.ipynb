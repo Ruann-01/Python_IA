{
 "cells": [
  {
   "cell_type": "markdown",
   "metadata": {},
   "source": [
    "# Revisão de Python\n",
    "As soluções devem ser desenvolvidas e demonstradas sua funcionalidade usando o Jupyter Notebook. As questões que fazem perguntas sobre dados devem ser respondidas algoritimicamente e não por inspeção."
   ]
  },
  {
   "cell_type": "markdown",
   "metadata": {},
   "source": [
    "## 1.\n",
    "Crie uma função que recebe como entrada uma string e retorna essa string com a primeira letra de cada palavra maiúscula. E.g.: \n",
    "\n",
    "**Entrada:** 'Eu gosto de estudar Python' <br>\n",
    "**Saída:** 'Eu Gosto De Estudar Python'"
   ]
  },
  {
   "cell_type": "code",
   "execution_count": 5,
   "metadata": {},
   "outputs": [
    {
     "name": "stdout",
     "output_type": "stream",
     "text": [
      "Informe a frase: meu nome é Ruann\n"
     ]
    },
    {
     "data": {
      "text/plain": [
       "'Meu Nome É Ruann'"
      ]
     },
     "execution_count": 5,
     "metadata": {},
     "output_type": "execute_result"
    }
   ],
   "source": [
    "#Construindo a função\n",
    "def frase_maiuscula(frase):\n",
    "    #O método title() possibilita que primeiro caractere de cada palavra seja convertido para maiúsculas sendo o restante dos caracteres minúsculos.\n",
    "    frase_maiusc = frase.title()\n",
    "    return frase_maiusc\n",
    "frase= input('Informe a frase: ')\n",
    "frase_maiuscula(frase)"
   ]
  },
  {
   "cell_type": "markdown",
   "metadata": {},
   "source": [
    "## 2.\n",
    "Crie uma função que recebe como entrada uma string e uma lista de palavras e retorna a string filtrando as palavras presentes na lista, desconsiderando se as letras são maiúsculas ou minúsculas. E.g.: \n",
    "\n",
    "**Entrada:** 'Eu gosto de estudar Python', ['python', 'java', 'c++', 'de'] <br>\n",
    "**Saída:** 'Eu gosto estudar'"
   ]
  },
  {
   "cell_type": "code",
   "execution_count": 74,
   "metadata": {},
   "outputs": [
    {
     "data": {
      "text/plain": [
       "'Eu gosto estudar'"
      ]
     },
     "execution_count": 74,
     "metadata": {},
     "output_type": "execute_result"
    }
   ],
   "source": [
    "#Construindo a função\n",
    "import re \n",
    "def filtragem(string, lista):\n",
    "    for x in string.split():\n",
    "        for y in lista:\n",
    "            if x.lower() == y.lower():\n",
    "                string = string.replace(x,'')\n",
    "    string = re.sub('\\s+', ' ', string)\n",
    "    return string.strip()\n",
    "\n",
    "string = 'Eu gosto de estudar Python'\n",
    "lista = ['python','de']\n",
    "filtragem(string,lista)"
   ]
  },
  {
   "cell_type": "markdown",
   "metadata": {},
   "source": [
    "## 3.\n",
    "Crie uma função que recebe como entrada uma lista de números e retorna a média aritimética desses números. Faça um tratamento de erro para o caso de um valor da lista não seja um número. E.g.:\n",
    "\n",
    "**Entrada:** [10, 1, 4] <br>\n",
    "**Saída:** 5"
   ]
  },
  {
   "cell_type": "code",
   "execution_count": 41,
   "metadata": {},
   "outputs": [
    {
     "data": {
      "text/plain": [
       "5.0"
      ]
     },
     "execution_count": 41,
     "metadata": {},
     "output_type": "execute_result"
    }
   ],
   "source": [
    "#Construindo a função\n",
    "def list_num(numeros):\n",
    "    #tratamento de erro -- try\n",
    "    try:\n",
    "        soma_numeros = sum(numeros)\n",
    "        qtd_numeros = len(numeros)\n",
    "        media_dos_numeros = soma_numeros / qtd_numeros\n",
    "        return media_dos_numeros\n",
    "    except:\n",
    "        print('Você só pode utilizar valores numéricos')\n",
    "        print('Try again!')\n",
    "        \n",
    "#Chamando a função\n",
    "numeros = [10,1,4]\n",
    "list_num(numeros)\n"
   ]
  },
  {
   "cell_type": "markdown",
   "metadata": {},
   "source": [
    "## 4.\n",
    "Crie uma função que recebe como entrada uma lista de números e retorna o somatório números. Faça um tratamento de erro para o caso de um valor da lista não seja um número. E.g.:\n",
    "\n",
    "**Entrada:** [10, 1, 4] <br>\n",
    "**Saída:** 15"
   ]
  },
  {
   "cell_type": "code",
   "execution_count": 46,
   "metadata": {},
   "outputs": [
    {
     "data": {
      "text/plain": [
       "3"
      ]
     },
     "execution_count": 46,
     "metadata": {},
     "output_type": "execute_result"
    }
   ],
   "source": [
    "#Construindo a função\n",
    "def list_num(numeros):\n",
    "    #tratamento de erro -- try\n",
    "    try:\n",
    "        soma_numeros = sum(numeros)\n",
    "        return soma_numeros\n",
    "    except:\n",
    "        print('Você só pode utilizar valores numéricos')\n",
    "        print('Try again!')\n",
    "        \n",
    "#Chamando a função\n",
    "numeros = [1,2]\n",
    "list_num(numeros)"
   ]
  },
  {
   "cell_type": "markdown",
   "metadata": {},
   "source": [
    "## 5.\n",
    "Crie uma função que recebe como entrada uma lista de números e uma string que indica se será retornado a média ou o somatório desses números. Faça um tratamento de erro para o caso de um valor da lista não seja um número ou a string seja um valor inesperado. E.g.:\n",
    "\n",
    "**Entrada:** [10, 1, 4], 'média' <br>\n",
    "**Saída:** 5 <br>\n",
    "\n",
    "ou <br>\n",
    "\n",
    "**Entrada:** [10, 1, 4], 'soma' <br>\n",
    "**Saída:** 15"
   ]
  },
  {
   "cell_type": "code",
   "execution_count": 23,
   "metadata": {},
   "outputs": [
    {
     "data": {
      "text/plain": [
       "15"
      ]
     },
     "execution_count": 23,
     "metadata": {},
     "output_type": "execute_result"
    }
   ],
   "source": [
    "#construção da função\n",
    "def list_num_str(numeros, string):\n",
    "        if string == 'soma':\n",
    "            soma_numeros = sum(numeros)\n",
    "            return soma_numeros\n",
    "        elif string == 'media' or string == 'média':\n",
    "            soma_numeros = sum(numeros)\n",
    "            qtd_numeros = len(numeros)\n",
    "            media_dos_numeros = soma_numeros / qtd_numeros\n",
    "            return media_dos_numeros\n",
    "        #tratamento de erro \n",
    "        else:\n",
    "            print('Você só pode escolher média ou soma')\n",
    "            print('Try again!')\n",
    "        \n",
    "#Chamando a função\n",
    "numeros = [10,1,4]\n",
    "list_num_str(numeros,'soma')"
   ]
  },
  {
   "cell_type": "markdown",
   "metadata": {},
   "source": [
    "## 6.\n",
    "Crie uma função que recebe como entrada uma lista de valores e uma string que indica se será retornado a quantidade de valores únicos ou os valores únicos em si. Faça tratamento de erro para o caso de uma string inesperada. E.g.:\n",
    "\n",
    "**Entrada:** ['cachorro', 'tamanduá', 'cassaco', 'tamanduá', 'preá', 'cassaco'], 'n_unicos' <br>\n",
    "**Saída:** 4 <br>\n",
    "\n",
    "ou <br>\n",
    "\n",
    "**Entrada:** ['cachorro', 'tamanduá', 'cassaco', 'tamanduá', 'preá', 'cassaco'], 'unicos' <br>\n",
    "**Saída:** ['cachorro', 'tamanduá', 'cassaco', 'preá'] <br>"
   ]
  },
  {
   "cell_type": "code",
   "execution_count": 31,
   "metadata": {},
   "outputs": [
    {
     "data": {
      "text/plain": [
       "6"
      ]
     },
     "execution_count": 31,
     "metadata": {},
     "output_type": "execute_result"
    }
   ],
   "source": [
    "#construção da função\n",
    "def list_str_def(string, str_def):\n",
    "        if str_def == 'n_unicos':\n",
    "            return len(string)\n",
    "        elif str_def == 'unicos':\n",
    "            #removendo strings iguais da lista\n",
    "            l = []\n",
    "            for x in string:\n",
    "                if x not in l:\n",
    "                    l.append(x)\n",
    "            l.sort()\n",
    "            return l\n",
    "        #tratamento de erro \n",
    "        else:\n",
    "            print('Você só pode utilizar \"n_unicos\" para o retorno da quantidade de valores únicos ou os valores únicos em si através de \"unicos\".')\n",
    "            print('Try again!')\n",
    "        \n",
    "#Chamando a função\n",
    "string = ['cachorro', 'tamanduá', 'cassaco', 'tamanduá', 'preá', 'cassaco']\n",
    "list_str_def(string,'n_unicos')"
   ]
  },
  {
   "cell_type": "markdown",
   "metadata": {},
   "source": [
    "## 7.\n",
    "Considere o dicionário abaixo, que tem como chaves tuplas contendo o nome do curso e número da aula e como valores os IDs dessas aulas. Implemente um algoritimo que inverta as chaves-valores. Ou seja, as chaves passam a ser os IDs das aulas e os valores são as tuplas contendo os cursos e número da aula."
   ]
  },
  {
   "cell_type": "code",
   "execution_count": 73,
   "metadata": {},
   "outputs": [
    {
     "data": {
      "text/plain": [
       "{1111: ('Introdução a Python', 1),\n",
       " 1112: ('Introdução a Python', 2),\n",
       " 1113: ('Introdução a Python', 3),\n",
       " 1114: ('Introdução a Python', 4),\n",
       " 1115: ('Introdução a Python', 5),\n",
       " 2111: ('Introdução a Java', 1),\n",
       " 2112: ('Introdução a Java', 2),\n",
       " 2113: ('Introdução a Java', 3),\n",
       " 3111: ('Visualização de Dados', 1),\n",
       " 3112: ('Visualização de Dados', 2),\n",
       " 3113: ('Visualização de Dados', 3),\n",
       " 3114: ('Visualização de Dados', 4),\n",
       " 3115: ('Visualização de Dados', 5)}"
      ]
     },
     "execution_count": 73,
     "metadata": {},
     "output_type": "execute_result"
    }
   ],
   "source": [
    "course_lesson_2_id = {('Introdução a Python', 1): 1111,\n",
    "                      ('Introdução a Python', 2): 1112,\n",
    "                      ('Introdução a Python', 3): 1113,\n",
    "                      ('Introdução a Python', 4): 1114,\n",
    "                      ('Introdução a Python', 5): 1115,\n",
    "                      ('Introdução a Java', 1): 2111,\n",
    "                      ('Introdução a Java', 2): 2112,\n",
    "                      ('Introdução a Java', 3): 2113,\n",
    "                      ('Visualização de Dados', 1): 3111,\n",
    "                      ('Visualização de Dados', 2): 3112,\n",
    "                      ('Visualização de Dados', 3): 3113,\n",
    "                      ('Visualização de Dados', 4): 3114,\n",
    "                      ('Visualização de Dados', 5): 3115\n",
    "                     }\n",
    "#Inversão\n",
    "A = {}\n",
    "for x,y in course_lesson_2_id.items():\n",
    "    A[y] = x\n",
    "A"
   ]
  },
  {
   "cell_type": "markdown",
   "metadata": {},
   "source": [
    "## 8.\n",
    "Considere o dicionário abaixo que representa relações de amizade em uma rede social. Cada chave é um usuário e os valores são os usuários conectados a ele. Implemente uma função que recebe o nome de dois usuários e retorna se eles são amigos entre si e os amigos em comum entre eles, excluindo os próprios. E.g.:\n",
    "\n",
    "**Entrada:** 'Sônia', 'Marcos' <br>\n",
    "**Saída:** 'São amigos. Amigos em comum: Flávio, Taís.'  <br>"
   ]
  },
  {
   "cell_type": "code",
   "execution_count": 70,
   "metadata": {},
   "outputs": [
    {
     "name": "stdout",
     "output_type": "stream",
     "text": [
      "São amigos e os amigos em comum, são: Taís Flávio\n",
      "Não são amigos e os amigos em comum, são: Marcos\n"
     ]
    }
   ],
   "source": [
    "friendship = {'Marcos': {'Sônia', 'Marcela', 'Taís', 'Flávio', 'Alberto'},\n",
    "              'Sônia': {'Marcos', 'Flávio', 'Taís'},\n",
    "              'Marcela': {'Marcos', 'Horácio', 'Pedro'},\n",
    "              'Taís': {'Marcos','Sônia','Pedro'},\n",
    "              'Flávio': {'Marcos','Sônia', 'Horácio'},\n",
    "              'Alberto': {'Marcos'},\n",
    "              'Horácio': {'Marcela', 'Flávio'},\n",
    "              'Pedro': {'Marcela', 'Taís'},\n",
    "              'João': {}    \n",
    "}\n",
    "#Construção da Função\n",
    "def filtragem(nome1,nome2):\n",
    "    filtro = []\n",
    "    for x in friendship[nome1]:\n",
    "        for y in friendship[nome2]:\n",
    "            if x==y:\n",
    "                filtro.append(x)\n",
    "    if nome1 in friendship[nome2]:\n",
    "        string = ' '\n",
    "        if len(filtro) > 0:\n",
    "            string = string.join(filtro)\n",
    "        else:\n",
    "            string = 'nenhum amigo em comum'\n",
    "        return print('São amigos e os amigos em comum, são:',string)\n",
    "    else:\n",
    "        string = ''\n",
    "        if len(filtro) > 0:\n",
    "            string = string.join(filtro)\n",
    "        else:\n",
    "            string = 'nenhum amigo em comum'\n",
    "        return print('Não são amigos e os amigos em comum, são:',string)\n",
    "#Chamando a função\n",
    "filtragem('Marcos', 'Sônia')\n",
    "filtragem('Marcela', 'Sônia')    "
   ]
  },
  {
   "cell_type": "markdown",
   "metadata": {},
   "source": [
    "## 9.\n",
    "Considere o arquivo _yeats.txt_. Faça a leitura do conteúdo do arquivo e armazene-o em uma string. Qual a quantidade total de palavras e a quantidade de palavras únicas?"
   ]
  },
  {
   "cell_type": "code",
   "execution_count": 76,
   "metadata": {},
   "outputs": [
    {
     "name": "stdout",
     "output_type": "stream",
     "text": [
      "Quantidade de Palavras: 109\n",
      "Quantidade de Palavras Únicas: 85\n"
     ]
    }
   ],
   "source": [
    "nome = open('yeats.txt', 'r', encoding='utf-8')\n",
    "string = nome.read()\n",
    "nome.close()\n",
    "string_limp = string.split()\n",
    "#Quantidade de palavras\n",
    "qtd_palavras = len(string_limp)\n",
    "l = []\n",
    "for x in string_limp:\n",
    "    if x not in l:\n",
    "        l.append(x)\n",
    "l.sort()\n",
    "#Quantidade de palavras únicas\n",
    "qtd_unicas = len(l)\n",
    "print('Quantidade de Palavras:',qtd_palavras)\n",
    "print('Quantidade de Palavras Únicas:',qtd_unicas)"
   ]
  },
  {
   "cell_type": "markdown",
   "metadata": {},
   "source": [
    "## 10.\n",
    "Considere o arquivo _us_temperature.json_ que registra temperaturas médias e anomalias ao longo dos anos nos EUA. Faça a leitura dos dados desse arquivo e armazene em um dicionário. A partir disso, responda:\n",
    "- a) qual a média das temperaturas geral?\n",
    "- b) qual a média das temperaturas nos primeiros 10 anos?\n",
    "- c) qual a média das temperaturas nos últimos 10 anos?\n",
    "- d) em que anos ocorreram a maior e a menor média respectivamente?\n",
    "- e) qual a mediana das temperaturas?"
   ]
  },
  {
   "cell_type": "code",
   "execution_count": 106,
   "metadata": {},
   "outputs": [
    {
     "name": "stdout",
     "output_type": "stream",
     "text": [
      "a)Resposta: 52.183\n",
      "b)Resposta: 51.434\n",
      "c)A data de maior média, foi em 201212 e de menor média, foi em 191712\n",
      "d)Resposta: 53.406\n"
     ]
    }
   ],
   "source": [
    "#módulo voltado para arquivos json\n",
    "import json\n",
    " \n",
    "# Opening JSON file\n",
    "x = open('us_temperature.json',)\n",
    " \n",
    "# construindo um dicionário com o objeto json\n",
    "dados_dicionario = json.load(x)\n",
    "x.close()\n",
    "\n",
    "soma_geral = 0\n",
    "soma_10primeiros = 0\n",
    "soma_10ultimos = 0\n",
    "contador = 0\n",
    "maior = 0\n",
    "menor = 9999\n",
    "y = -1\n",
    "\n",
    "for x in dados_dicionario['data'].keys():\n",
    "    soma_geral += float(dados_dicionario['data'][x]['value'])\n",
    "    if float(dados_dicionario['data'][x]['value']) > maior:\n",
    "        maior = float(dados_dicionario['data'][x]['value'])\n",
    "        ano_maior = x\n",
    "    if float(dados_dicionario['data'][x]['value']) < menor:\n",
    "        menor = float(dados_dicionario['data'][x]['value'])\n",
    "        ano_menor = x\n",
    "    if contador < 10:\n",
    "        soma_10primeiros += float(dados_dicionario['data'][x]['value'])\n",
    "    contador += 1\n",
    "while y > -11:\n",
    "    soma_10ultimos += float(dados_dicionario['data'][list(dados_dicionario['data'].keys())[y]]['value'])\n",
    "    y-=1\n",
    "    \n",
    "n = len(dados_dicionario['data'])/2\n",
    "\n",
    "media_geral = round(soma_geral/len(dados_dicionario['data']),3)\n",
    "media_10primeiros = round(soma_10primeiros/10,3)\n",
    "media_10ultimos = round(soma_10ultimos/10,3)\n",
    "\n",
    "print('a)Resposta:',media_geral)\n",
    "print('b)Resposta:',media_10primeiros)\n",
    "print(f'c)A data de maior média, foi em {ano_maior} e de menor média, foi em {ano_menor}')\n",
    "print('d)Resposta:',media_10ultimos)"
   ]
  },
  {
   "cell_type": "markdown",
   "metadata": {},
   "source": [
    "## 11.\n",
    "Considere a pasta _data_. Dentro dela há algumas pastas que possuem arquivos txt contendo valores numéricos separados por quebra de linha. Implemente um algoritimo itere por entre as pastas, abra cada um dos arquivos e armazene os valores em memória usando uma lista. A partir disso:\n",
    "- a) calcule a média e desvio padrão de todos os valores.\n",
    "- b) salve os dados em um único arquivo txt."
   ]
  },
  {
   "cell_type": "code",
   "execution_count": 117,
   "metadata": {},
   "outputs": [
    {
     "name": "stdout",
     "output_type": "stream",
     "text": [
      "A média é -0.002302460138164487. Já o desvio padrão é 1.000637394761739\n"
     ]
    }
   ],
   "source": [
    "#traz informações sobre o sistema operacional. Útil quando se mexe com sistema de arquivos\n",
    "import os \n",
    "#Utilização de métodos numéricos\n",
    "import math \n",
    "pasta = 'data'\n",
    "l = []\n",
    "soma = 0\n",
    "soma_2 = 0\n",
    "\n",
    "for x,y,z in os.walk(pasta):\n",
    "    for i in z:\n",
    "        arq = open(os.path.join(x,i))\n",
    "        string = arq.read()\n",
    "        l.extend(string.split())\n",
    "        arq.close()\n",
    "for x in l:\n",
    "    soma+=float(x)\n",
    "media = soma/len(l)\n",
    "for x in l:\n",
    "    soma_2 += (float(x)-media)**2\n",
    "dp = math.sqrt(soma_2/len(l))\n",
    "\n",
    "new_arq = open('arquivo_geral.txt','w')\n",
    "\n",
    "for x in range(len(l)):\n",
    "    new_arq.write(l[x])\n",
    "\n",
    "new_arq.close()\n",
    "\n",
    "print(f'A média é {media}. Já o desvio padrão é {dp}')\n",
    "\n"
   ]
  },
  {
   "cell_type": "code",
   "execution_count": null,
   "metadata": {},
   "outputs": [],
   "source": []
  }
 ],
 "metadata": {
  "kernelspec": {
   "display_name": "Python 3",
   "language": "python",
   "name": "python3"
  },
  "language_info": {
   "codemirror_mode": {
    "name": "ipython",
    "version": 3
   },
   "file_extension": ".py",
   "mimetype": "text/x-python",
   "name": "python",
   "nbconvert_exporter": "python",
   "pygments_lexer": "ipython3",
   "version": "3.9.1"
  }
 },
 "nbformat": 4,
 "nbformat_minor": 4
}
