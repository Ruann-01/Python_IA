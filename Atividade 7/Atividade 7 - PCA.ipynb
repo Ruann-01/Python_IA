{
 "cells": [
  {
   "cell_type": "markdown",
   "metadata": {},
   "source": [
    "# Parte 2: Redução de dimensionalidade\n",
    "\n",
    "Considere o conjunto de dados MNIST utilizado na Atividade 6. Realize a redução de dimensionalidade dos dados com o algoritmo PCA. Escolha um algoritmo de classificação e aplique ele, comparando os resultados com e sem a redução de dimensionalidade. A quantidade de dimensões utilizadas é de sua escolha. Discuta o resultado.\n",
    "\n",
    "Extra: faça o plot de imagens do dataset após a redução de dimensionalidade."
   ]
  },
  {
   "cell_type": "code",
   "execution_count": 52,
   "metadata": {},
   "outputs": [],
   "source": [
    "from tensorflow.keras.datasets import mnist\n",
    "import matplotlib.pyplot as plt\n",
    "import numpy as np\n",
    "from sklearn.model_selection import train_test_split\n",
    "from time import time\n",
    "#loading\n",
    "#loading\n",
    "(X_train, y_train), (X_test, y_test) = mnist.load_data()"
   ]
  },
  {
   "cell_type": "code",
   "execution_count": 53,
   "metadata": {},
   "outputs": [],
   "source": [
    "image_size = X_train.shape[1]\n",
    "input_size = image_size*image_size\n",
    "X_test = np.reshape(X_test,[-1,input_size])\n",
    "X_train = np.reshape(X_train,[-1,input_size])"
   ]
  },
  {
   "cell_type": "code",
   "execution_count": 54,
   "metadata": {},
   "outputs": [
    {
     "data": {
      "text/plain": [
       "(60000, 784)"
      ]
     },
     "execution_count": 54,
     "metadata": {},
     "output_type": "execute_result"
    }
   ],
   "source": [
    "from sklearn.preprocessing import MinMaxScaler\n",
    "scaler = MinMaxScaler()\n",
    "#Normalizando os dados de treino e validação\n",
    "X_train_norm = scaler.fit_transform(X_train) \n",
    "X_test_norm = scaler.transform(X_test) \n",
    "X_train_norm.shape"
   ]
  },
  {
   "cell_type": "markdown",
   "metadata": {},
   "source": [
    "### Modelo Escolhido: Support Vector Machine(SVM)\n",
    "Aplicando o modelo antes de fazer a redução de dimensionalidade."
   ]
  },
  {
   "cell_type": "code",
   "execution_count": 55,
   "metadata": {},
   "outputs": [
    {
     "data": {
      "text/plain": [
       "SVC()"
      ]
     },
     "execution_count": 55,
     "metadata": {},
     "output_type": "execute_result"
    }
   ],
   "source": [
    "from sklearn.svm import SVC\n",
    "model = SVC()\n",
    "model.fit(X_train_norm, y_train)"
   ]
  },
  {
   "cell_type": "code",
   "execution_count": 56,
   "metadata": {},
   "outputs": [],
   "source": [
    "y_pred = model.predict(X_test_norm)"
   ]
  },
  {
   "cell_type": "code",
   "execution_count": 57,
   "metadata": {},
   "outputs": [
    {
     "data": {
      "text/plain": [
       "0.9791"
      ]
     },
     "execution_count": 57,
     "metadata": {},
     "output_type": "execute_result"
    }
   ],
   "source": [
    "from sklearn import metrics\n",
    "# Acurácia individualmente\n",
    "metrics.accuracy_score(y_test,y_pred) "
   ]
  },
  {
   "cell_type": "markdown",
   "metadata": {},
   "source": [
    "### Aplicando a redução de dimensionalidade através do PCA"
   ]
  },
  {
   "cell_type": "code",
   "execution_count": 89,
   "metadata": {},
   "outputs": [
    {
     "data": {
      "text/plain": [
       "(60000, 180)"
      ]
     },
     "execution_count": 89,
     "metadata": {},
     "output_type": "execute_result"
    }
   ],
   "source": [
    "from sklearn.decomposition import PCA\n",
    "# Usando componentes que retenham 96% de variação do dataset original\n",
    "pca = PCA(0.96)\n",
    "X_train_pca = pca.fit_transform(X_train_norm)\n",
    "X_train_pca.shape"
   ]
  },
  {
   "cell_type": "code",
   "execution_count": 90,
   "metadata": {},
   "outputs": [
    {
     "data": {
      "text/plain": [
       "array([0.09704292, 0.07095652, 0.06168852, 0.05389213, 0.0486861 ,\n",
       "       0.04312066, 0.03271805, 0.02883785, 0.02761924, 0.0235691 ,\n",
       "       0.02109109, 0.02022914, 0.01715753, 0.01692047, 0.01578581,\n",
       "       0.01482896, 0.0132451 , 0.01276849, 0.01187218, 0.0115264 ,\n",
       "       0.01066125, 0.01006675, 0.00953537, 0.00912509, 0.00883371,\n",
       "       0.00839287, 0.00812548, 0.00786336, 0.00744705, 0.00690833,\n",
       "       0.00658069, 0.00648123, 0.00602592, 0.0058656 , 0.0057    ,\n",
       "       0.00543607, 0.00505767, 0.0048784 , 0.00481411, 0.00472248,\n",
       "       0.0045673 , 0.00444819, 0.00418485, 0.003982  , 0.0038496 ,\n",
       "       0.00375089, 0.00361995, 0.00351578, 0.00340045, 0.00321862,\n",
       "       0.00319005, 0.00312793, 0.00295971, 0.00288944, 0.0028412 ,\n",
       "       0.00271426, 0.00269511, 0.00258463, 0.00253761, 0.00244772,\n",
       "       0.00240497, 0.00239254, 0.002304  , 0.00221524, 0.00213713,\n",
       "       0.00207217, 0.00203035, 0.00196775, 0.00192845, 0.00188625,\n",
       "       0.0018697 , 0.00181076, 0.00177555, 0.00174892, 0.00165752,\n",
       "       0.00163888, 0.00161456, 0.00155111, 0.00147607, 0.00143171,\n",
       "       0.00142089, 0.00141148, 0.0014017 , 0.00135731, 0.00133842,\n",
       "       0.00132391, 0.00130152, 0.00125868, 0.00122824, 0.0012158 ,\n",
       "       0.0011703 , 0.00114869, 0.0011324 , 0.00110882, 0.00108998,\n",
       "       0.00106919, 0.00104192, 0.00104003, 0.00101253, 0.00100524,\n",
       "       0.00098398, 0.00094965, 0.00094131, 0.00091613, 0.00090782,\n",
       "       0.00089684, 0.00086536, 0.00085514, 0.00084559, 0.00082247,\n",
       "       0.00079156, 0.00078591, 0.00078458, 0.0007688 , 0.00076399,\n",
       "       0.00075306, 0.00073676, 0.00072711, 0.00071963, 0.00070679,\n",
       "       0.0006954 , 0.00069214, 0.00068328, 0.00067404, 0.00066685,\n",
       "       0.00064524, 0.00063557, 0.00063162, 0.00062291, 0.00060527,\n",
       "       0.00060357, 0.00059446, 0.00058829, 0.0005865 , 0.00058132,\n",
       "       0.00057681, 0.00056535, 0.00055474, 0.00053515, 0.00052591,\n",
       "       0.00052507, 0.00051024, 0.00050295, 0.00050106, 0.0004987 ,\n",
       "       0.00049105, 0.00048552, 0.00048283, 0.000474  , 0.00046834,\n",
       "       0.00046658, 0.00046331, 0.00045928, 0.00045036, 0.00044879,\n",
       "       0.00044269, 0.00043666, 0.00042744, 0.00042497, 0.000422  ,\n",
       "       0.0004155 , 0.00040962, 0.00040081, 0.00039787, 0.00039407,\n",
       "       0.00039048, 0.00038584, 0.00037976, 0.00037889, 0.00037393,\n",
       "       0.0003694 , 0.00036514, 0.0003638 , 0.00035986, 0.00035463,\n",
       "       0.00035289, 0.00034728, 0.00034595, 0.00034144, 0.00033764])"
      ]
     },
     "execution_count": 90,
     "metadata": {},
     "output_type": "execute_result"
    }
   ],
   "source": [
    "pca.explained_variance_ratio_"
   ]
  },
  {
   "cell_type": "code",
   "execution_count": 91,
   "metadata": {},
   "outputs": [
    {
     "data": {
      "text/plain": [
       "180"
      ]
     },
     "execution_count": 91,
     "metadata": {},
     "output_type": "execute_result"
    }
   ],
   "source": [
    "pca.n_components_"
   ]
  },
  {
   "cell_type": "code",
   "execution_count": 92,
   "metadata": {},
   "outputs": [],
   "source": [
    "X_test_pca = pca.transform(X_test_norm)"
   ]
  },
  {
   "cell_type": "code",
   "execution_count": 93,
   "metadata": {},
   "outputs": [
    {
     "data": {
      "text/plain": [
       "SVC()"
      ]
     },
     "execution_count": 93,
     "metadata": {},
     "output_type": "execute_result"
    }
   ],
   "source": [
    "from sklearn.svm import SVC\n",
    "model = SVC()\n",
    "model.fit(X_train_pca, y_train)"
   ]
  },
  {
   "cell_type": "code",
   "execution_count": 94,
   "metadata": {},
   "outputs": [],
   "source": [
    "y_pred_pca = model.predict(X_test_pca)"
   ]
  },
  {
   "cell_type": "code",
   "execution_count": 95,
   "metadata": {},
   "outputs": [
    {
     "data": {
      "text/plain": [
       "0.983"
      ]
     },
     "execution_count": 95,
     "metadata": {},
     "output_type": "execute_result"
    }
   ],
   "source": [
    "metrics.accuracy_score(y_test,y_pred_pca) "
   ]
  },
  {
   "cell_type": "markdown",
   "metadata": {},
   "source": [
    "### Fazendo a redução para 2 componentes"
   ]
  },
  {
   "cell_type": "code",
   "execution_count": 79,
   "metadata": {},
   "outputs": [
    {
     "data": {
      "text/plain": [
       "(60000, 2)"
      ]
     },
     "execution_count": 79,
     "metadata": {},
     "output_type": "execute_result"
    }
   ],
   "source": [
    "pca2 = PCA(n_components=2)\n",
    "X_train_pca2 = pca2.fit_transform(X_train_norm)\n",
    "X_train_pca2.shape"
   ]
  },
  {
   "cell_type": "code",
   "execution_count": 80,
   "metadata": {},
   "outputs": [
    {
     "data": {
      "text/plain": [
       "array([0.09704292, 0.07095652])"
      ]
     },
     "execution_count": 80,
     "metadata": {},
     "output_type": "execute_result"
    }
   ],
   "source": [
    "pca2.explained_variance_ratio_"
   ]
  },
  {
   "cell_type": "code",
   "execution_count": 81,
   "metadata": {},
   "outputs": [
    {
     "data": {
      "text/plain": [
       "array([[ 0.48599588, -1.22603538],\n",
       "       [ 3.96753886, -1.15639768],\n",
       "       [-0.20336085,  1.53815463],\n",
       "       ...,\n",
       "       [-0.69830125,  0.62808043],\n",
       "       [ 0.51217769, -0.02196426],\n",
       "       [-0.68020127, -0.09655579]])"
      ]
     },
     "execution_count": 81,
     "metadata": {},
     "output_type": "execute_result"
    }
   ],
   "source": [
    "X_train_pca2"
   ]
  },
  {
   "cell_type": "code",
   "execution_count": 82,
   "metadata": {},
   "outputs": [],
   "source": [
    "X_test_pca2 = pca2.transform(X_test_norm)"
   ]
  },
  {
   "cell_type": "code",
   "execution_count": 83,
   "metadata": {},
   "outputs": [
    {
     "data": {
      "text/plain": [
       "SVC()"
      ]
     },
     "execution_count": 83,
     "metadata": {},
     "output_type": "execute_result"
    }
   ],
   "source": [
    "model = SVC()\n",
    "model.fit(X_train_pca2, y_train)"
   ]
  },
  {
   "cell_type": "code",
   "execution_count": 84,
   "metadata": {},
   "outputs": [],
   "source": [
    "y_pred_pca2 = model.predict(X_test_pca2)"
   ]
  },
  {
   "cell_type": "code",
   "execution_count": 85,
   "metadata": {},
   "outputs": [
    {
     "data": {
      "text/plain": [
       "0.4779"
      ]
     },
     "execution_count": 85,
     "metadata": {},
     "output_type": "execute_result"
    }
   ],
   "source": [
    "metrics.accuracy_score(y_test,y_pred_pca2) "
   ]
  },
  {
   "cell_type": "markdown",
   "metadata": {},
   "source": [
    "### Analisandos os resultados\n",
    "Usando componentes que retenham uma variação de 96% do original, percebemos que o modelo apresenta menor tempo de resposta de execução e até uma maior acurácia. Pode-se deduzir que a redução da dimensionalidade, deixou as imagens mais compactas sem perder nenhum tipo de informação importante desses recursos que são as imagens.\n",
    "\n",
    "Ressalta-se que ao tentar usar somente duas componentes o modelo apresenta bem menos eficiência, isso pelo fato de que com somente duas componenentes não há uma grande retenção de informação dos recursos, ou seja, das imagens."
   ]
  }
 ],
 "metadata": {
  "kernelspec": {
   "display_name": "Python 3",
   "language": "python",
   "name": "python3"
  },
  "language_info": {
   "codemirror_mode": {
    "name": "ipython",
    "version": 3
   },
   "file_extension": ".py",
   "mimetype": "text/x-python",
   "name": "python",
   "nbconvert_exporter": "python",
   "pygments_lexer": "ipython3",
   "version": "3.9.1"
  }
 },
 "nbformat": 4,
 "nbformat_minor": 4
}
