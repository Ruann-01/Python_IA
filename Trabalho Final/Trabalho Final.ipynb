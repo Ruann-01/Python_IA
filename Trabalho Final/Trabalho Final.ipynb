{
 "cells": [
  {
   "cell_type": "markdown",
   "metadata": {},
   "source": [
    "# Trabalho Final \n",
    "Neste trabalho final você irá pôr em prática todas as etapas exercitadas ao longo da mentoria sobre projetos de aprendizado de máquina em uma tarefa de classificação de NLP: detecção de sarcasmo. Segundo Yaghoobian et al:\n",
    "\n",
    "“Sarcasm detection is the task of identifying irony containing utterances in sentiment-bearing text. However, the figurative and creative nature of sarcasm poses a great challenge for affective computing systems performing sentiment analysis.”\n",
    "\n",
    "Detecção de sarcasmo é uma tarefa com muitas aplicações práticas interessantes,  mas também é extremamente desafiadora. Padrões linguísticos e sociais que categorizam o sarcasmo podem não estar contido unicamente no texto ou no uso de palavras específicas, dificultando que algoritmos de aprendizado de máquina aprendam a generalizar. Nesse contexto, foi proposto por Khodak et al o dataset SARC, coletado da plataforma Reddit:\n",
    "\n",
    "\n",
    "“We introduce the Self-Annotated Reddit Corpus (SARC), a large corpus for sarcasm research and for training and evaluating systems for sarcasm detection. The corpus has 1.3 million sarcastic statements -- 10 times more than any previous dataset -- and many times more instances of non-sarcastic statements, allowing for learning in both balanced and unbalanced label regimes. Each statement is furthermore self-annotated -- sarcasm is labeled by the author, not an independent annotator -- and provided with user, topic, and conversation context.”\n",
    "\n",
    "\n",
    "Em anexo, encontra-se uma amostra do SARC. Dado esse contexto, você deverá criar e validar um modelo de detecção de sarcasmo utilizando esse dataset. O trabalho deverá conter:\n",
    "\n",
    "\n",
    "1. Análise exploratória\n",
    "\n",
    "    a. Mostre exemplos de cada classe.\n",
    "\n",
    "    b. Crie pelo menos 5 gráficos, contendo um que mostre o balanceamento entre as classes. Sugestões de outros gráficos:    termos mais frequentes em cada classe, distribuição da quantidade de palavras em cada classe.\n",
    "\n",
    "    c. Discuta seus achados.\n",
    "\n",
    "\n",
    "2. Aprendizado não-supervisionado\n",
    "\n",
    "    a. Qualquer técnica pode ser utilizada, clusterização ou redução de dimensionalidade. Pode-se usar parte da análise exploratória ou como auxiliar na classificação.\n",
    "\n",
    "\n",
    "3. Limpeza e pré-processamento dos dados\n",
    "\n",
    "    a.Pelo menos 3 técnicas de pré-processamento de texto (que já não sejam utilizadas por padrão na vetorização)\n",
    "\n",
    "    b.Utilize alguma técnica de balanceamento de dados\n",
    "\n",
    "\n",
    "4. Engenharia de atributos\n",
    "\n",
    "    a. Selecione dentre os dados disponíveis quais devem ser utilizados como atributos de entrada e o método para representação vetorial.\n",
    "\n",
    "    b. Utilize pelo menos dois conjuntos de atributos de entrada, comparando as performances. Justifique suas escolhas.\n",
    "\n",
    "\n",
    "5. Estabelecimento de um baseline\n",
    "\n",
    "    a.Utilize um modelo simples, não faça otimização de hiperparâmetros. Justifique sua escolha.\n",
    "\n",
    "\n",
    "6. Seleção e avaliação de modelos\n",
    "\n",
    "    a. Escolha uma ou mais métricas de desempenho apropriadas para esta tarefa.\n",
    "\n",
    "    b. Utilize pelo menos 4 algoritmos, realizando a otimização de hiperparâmetros. Destes modelos, ao menos um deve ser um algoritmos deve ser um que não foi visto durante a mentoria. Estude o funcionamento dele. Sugestão: modelo de Deep Learning.\n",
    "\n",
    "    c. Avalie os algoritmos com hiperparâmetros otimizados no conjunto de teste.\n",
    "\n",
    "\n",
    "7. Análise de resultados\n",
    "\n",
    "    a. Mostre exemplos dos erros (falso positivos e falso negativos) para o melhor dos algoritmos experimentados.\n",
    "\n",
    "    b. Discuta os resultados e aponte quais seriam possíveis melhorias\n",
    "\n",
    "\n",
    "8. (OPCIONAL) Interpretabilidade\n",
    "\n",
    "    a. Utilize algum método que permita uma interpretação das predições de algum dos seus modelos.\n",
    "\n",
    "\n",
    "9. (OPCIONAL) Deploy\n",
    "\n",
    "    a. Implemente uma API para que o seu melhor modelo possa ser utilizado via requisições HTTP."
   ]
  },
  {
   "cell_type": "markdown",
   "metadata": {},
   "source": [
    "## Importando Bibliotecas\n",
    "Importando bibliotecas que serão utilizadas durante a construção do projeto"
   ]
  },
  {
   "cell_type": "code",
   "execution_count": 304,
   "metadata": {},
   "outputs": [],
   "source": [
    "# Importando bibliotecas\n",
    "\n",
    "import pandas as pd\n",
    "import numpy as np\n",
    "import matplotlib.pyplot as plt\n",
    "import seaborn as sns\n",
    "%matplotlib inline\n",
    "import warnings\n",
    "import string\n",
    "import re\n",
    "import nltk\n",
    "\n",
    "import xgboost as xgb\n",
    "import scipy.stats as st\n",
    "from scipy.stats import randint as sp_randint\n",
    "from nltk.stem import WordNetLemmatizer\n",
    "from sklearn.linear_model import SGDClassifier\n",
    "from sklearn.naive_bayes import MultinomialNB\n",
    "from sklearn.model_selection import train_test_split\n",
    "from imblearn.over_sampling import RandomOverSampler\n",
    "from sklearn.feature_extraction.text import TfidfVectorizer, CountVectorizer\n",
    "from sklearn.metrics import f1_score\n",
    "from sklearn.svm import SVC\n",
    "from sklearn.linear_model import LogisticRegression\n",
    "from sklearn import metrics\n",
    "from sklearn.model_selection import GridSearchCV, RandomizedSearchCV"
   ]
  },
  {
   "cell_type": "markdown",
   "metadata": {},
   "source": [
    "## Fazendo a Leitura da Base de Dados"
   ]
  },
  {
   "cell_type": "code",
   "execution_count": 305,
   "metadata": {},
   "outputs": [
    {
     "data": {
      "text/html": [
       "<div>\n",
       "<style scoped>\n",
       "    .dataframe tbody tr th:only-of-type {\n",
       "        vertical-align: middle;\n",
       "    }\n",
       "\n",
       "    .dataframe tbody tr th {\n",
       "        vertical-align: top;\n",
       "    }\n",
       "\n",
       "    .dataframe thead th {\n",
       "        text-align: right;\n",
       "    }\n",
       "</style>\n",
       "<table border=\"1\" class=\"dataframe\">\n",
       "  <thead>\n",
       "    <tr style=\"text-align: right;\">\n",
       "      <th></th>\n",
       "      <th>label</th>\n",
       "      <th>comment</th>\n",
       "      <th>author</th>\n",
       "      <th>subreddit</th>\n",
       "      <th>score</th>\n",
       "      <th>ups</th>\n",
       "      <th>downs</th>\n",
       "      <th>date</th>\n",
       "      <th>created_utc</th>\n",
       "      <th>parent_comment</th>\n",
       "    </tr>\n",
       "  </thead>\n",
       "  <tbody>\n",
       "    <tr>\n",
       "      <th>0</th>\n",
       "      <td>1</td>\n",
       "      <td>Of course, just like 3.2 was the true Messiah.</td>\n",
       "      <td>ReticentHedgehog</td>\n",
       "      <td>ffxiv</td>\n",
       "      <td>1</td>\n",
       "      <td>1</td>\n",
       "      <td>0</td>\n",
       "      <td>2016-05</td>\n",
       "      <td>2016-05-02 20:20:37</td>\n",
       "      <td>Is patch 3.3 going to be our savior? Without t...</td>\n",
       "    </tr>\n",
       "    <tr>\n",
       "      <th>1</th>\n",
       "      <td>1</td>\n",
       "      <td>Yeah because Iran was 100% muslim prior to 197...</td>\n",
       "      <td>methmobile</td>\n",
       "      <td>worldnews</td>\n",
       "      <td>-3</td>\n",
       "      <td>-1</td>\n",
       "      <td>-1</td>\n",
       "      <td>2016-12</td>\n",
       "      <td>2016-12-30 10:21:31</td>\n",
       "      <td>I suggest you research Iran pre-1979 as well a...</td>\n",
       "    </tr>\n",
       "    <tr>\n",
       "      <th>2</th>\n",
       "      <td>1</td>\n",
       "      <td>WELL YOU'RE JUST A BITCH...YOU HAVE TO GO AND ...</td>\n",
       "      <td>dillydelly</td>\n",
       "      <td>nba</td>\n",
       "      <td>1</td>\n",
       "      <td>1</td>\n",
       "      <td>0</td>\n",
       "      <td>2014-05</td>\n",
       "      <td>2014-05-04 08:02:30</td>\n",
       "      <td>Warriors / Clips game threads literally add ze...</td>\n",
       "    </tr>\n",
       "    <tr>\n",
       "      <th>3</th>\n",
       "      <td>1</td>\n",
       "      <td>Yeah, it's dumb to run background checks on po...</td>\n",
       "      <td>Krenolds</td>\n",
       "      <td>AskReddit</td>\n",
       "      <td>1</td>\n",
       "      <td>1</td>\n",
       "      <td>0</td>\n",
       "      <td>2014-09</td>\n",
       "      <td>2014-09-02 08:09:10</td>\n",
       "      <td>Oh i forgot.., you get to be finger printed wh...</td>\n",
       "    </tr>\n",
       "    <tr>\n",
       "      <th>4</th>\n",
       "      <td>1</td>\n",
       "      <td>Oh, it's not that bad once you get a handle on...</td>\n",
       "      <td>ericanderton</td>\n",
       "      <td>AskReddit</td>\n",
       "      <td>4</td>\n",
       "      <td>4</td>\n",
       "      <td>0</td>\n",
       "      <td>2011-08</td>\n",
       "      <td>2011-08-24 13:17:20</td>\n",
       "      <td>Haha oh. Definitely not an option than.</td>\n",
       "    </tr>\n",
       "    <tr>\n",
       "      <th>...</th>\n",
       "      <td>...</td>\n",
       "      <td>...</td>\n",
       "      <td>...</td>\n",
       "      <td>...</td>\n",
       "      <td>...</td>\n",
       "      <td>...</td>\n",
       "      <td>...</td>\n",
       "      <td>...</td>\n",
       "      <td>...</td>\n",
       "      <td>...</td>\n",
       "    </tr>\n",
       "    <tr>\n",
       "      <th>59995</th>\n",
       "      <td>0</td>\n",
       "      <td>room you mean like, dimension?</td>\n",
       "      <td>Tikikala</td>\n",
       "      <td>digimon</td>\n",
       "      <td>1</td>\n",
       "      <td>1</td>\n",
       "      <td>0</td>\n",
       "      <td>2016-03</td>\n",
       "      <td>2016-03-26 03:42:22</td>\n",
       "      <td>So as another guy pointed out. Huckmon might b...</td>\n",
       "    </tr>\n",
       "    <tr>\n",
       "      <th>59996</th>\n",
       "      <td>0</td>\n",
       "      <td>I wasn't too fond of grabner in 14 so I put Be...</td>\n",
       "      <td>mrhairybolo</td>\n",
       "      <td>hockey</td>\n",
       "      <td>1</td>\n",
       "      <td>1</td>\n",
       "      <td>0</td>\n",
       "      <td>2014-08</td>\n",
       "      <td>2014-08-10 05:57:31</td>\n",
       "      <td>Hall - Duchene - Grabner?</td>\n",
       "    </tr>\n",
       "    <tr>\n",
       "      <th>59997</th>\n",
       "      <td>0</td>\n",
       "      <td>he wasn't even at worlds in season 4!</td>\n",
       "      <td>Highstalker</td>\n",
       "      <td>leagueoflegends</td>\n",
       "      <td>-1</td>\n",
       "      <td>-1</td>\n",
       "      <td>0</td>\n",
       "      <td>2016-09</td>\n",
       "      <td>2016-09-19 14:41:23</td>\n",
       "      <td>Yeah he was.</td>\n",
       "    </tr>\n",
       "    <tr>\n",
       "      <th>59998</th>\n",
       "      <td>0</td>\n",
       "      <td>Right, but the Trump sign...</td>\n",
       "      <td>gcbeehler5</td>\n",
       "      <td>pics</td>\n",
       "      <td>2</td>\n",
       "      <td>2</td>\n",
       "      <td>0</td>\n",
       "      <td>2016-09</td>\n",
       "      <td>2016-09-01 02:14:54</td>\n",
       "      <td>I wouldn't say you have to be liberal to appre...</td>\n",
       "    </tr>\n",
       "    <tr>\n",
       "      <th>59999</th>\n",
       "      <td>0</td>\n",
       "      <td>Would be awesome, but it's one of those things...</td>\n",
       "      <td>ImKoncerned</td>\n",
       "      <td>2007scape</td>\n",
       "      <td>3</td>\n",
       "      <td>3</td>\n",
       "      <td>0</td>\n",
       "      <td>2015-03</td>\n",
       "      <td>2015-03-13 21:30:57</td>\n",
       "      <td>Unfortunately I think so too :'(</td>\n",
       "    </tr>\n",
       "  </tbody>\n",
       "</table>\n",
       "<p>60000 rows × 10 columns</p>\n",
       "</div>"
      ],
      "text/plain": [
       "       label                                            comment  \\\n",
       "0          1     Of course, just like 3.2 was the true Messiah.   \n",
       "1          1  Yeah because Iran was 100% muslim prior to 197...   \n",
       "2          1  WELL YOU'RE JUST A BITCH...YOU HAVE TO GO AND ...   \n",
       "3          1  Yeah, it's dumb to run background checks on po...   \n",
       "4          1  Oh, it's not that bad once you get a handle on...   \n",
       "...      ...                                                ...   \n",
       "59995      0                     room you mean like, dimension?   \n",
       "59996      0  I wasn't too fond of grabner in 14 so I put Be...   \n",
       "59997      0              he wasn't even at worlds in season 4!   \n",
       "59998      0                       Right, but the Trump sign...   \n",
       "59999      0  Would be awesome, but it's one of those things...   \n",
       "\n",
       "                 author        subreddit  score  ups  downs     date  \\\n",
       "0      ReticentHedgehog            ffxiv      1    1      0  2016-05   \n",
       "1            methmobile        worldnews     -3   -1     -1  2016-12   \n",
       "2            dillydelly              nba      1    1      0  2014-05   \n",
       "3              Krenolds        AskReddit      1    1      0  2014-09   \n",
       "4          ericanderton        AskReddit      4    4      0  2011-08   \n",
       "...                 ...              ...    ...  ...    ...      ...   \n",
       "59995          Tikikala          digimon      1    1      0  2016-03   \n",
       "59996       mrhairybolo           hockey      1    1      0  2014-08   \n",
       "59997       Highstalker  leagueoflegends     -1   -1      0  2016-09   \n",
       "59998        gcbeehler5             pics      2    2      0  2016-09   \n",
       "59999       ImKoncerned        2007scape      3    3      0  2015-03   \n",
       "\n",
       "               created_utc                                     parent_comment  \n",
       "0      2016-05-02 20:20:37  Is patch 3.3 going to be our savior? Without t...  \n",
       "1      2016-12-30 10:21:31  I suggest you research Iran pre-1979 as well a...  \n",
       "2      2014-05-04 08:02:30  Warriors / Clips game threads literally add ze...  \n",
       "3      2014-09-02 08:09:10  Oh i forgot.., you get to be finger printed wh...  \n",
       "4      2011-08-24 13:17:20            Haha oh. Definitely not an option than.  \n",
       "...                    ...                                                ...  \n",
       "59995  2016-03-26 03:42:22  So as another guy pointed out. Huckmon might b...  \n",
       "59996  2014-08-10 05:57:31                          Hall - Duchene - Grabner?  \n",
       "59997  2016-09-19 14:41:23                                       Yeah he was.  \n",
       "59998  2016-09-01 02:14:54  I wouldn't say you have to be liberal to appre...  \n",
       "59999  2015-03-13 21:30:57                   Unfortunately I think so too :'(  \n",
       "\n",
       "[60000 rows x 10 columns]"
      ]
     },
     "execution_count": 305,
     "metadata": {},
     "output_type": "execute_result"
    }
   ],
   "source": [
    "# Fazendo a leitura do dataset\n",
    "df_sarc = pd.read_csv('sarc_sample.csv')\n",
    "df_sarc"
   ]
  },
  {
   "cell_type": "markdown",
   "metadata": {},
   "source": [
    "## Iniciando Análise Exploratória \n",
    "Inicialmente é aplicado um '.describe()' para se ter informações sobre o dataframe no geral, como por exemplo, a quantidade de elementos e etc.\n",
    "\n",
    "Após, utiliza-se o método '.info()' para ter informações sobre as colunas, como por exemplo, quais são seus tipos e se existem valores nulos.\n",
    "\n",
    "Associado, a isso, apresenta-se a quantidade de elementos para cada classe do dataframe através do .'value_counts()' trazendo essa visualização se há desbalanceamento entre as classes. Essa análise de desbalanceamento será exposta logo mais através de um gráfico.\n"
   ]
  },
  {
   "cell_type": "code",
   "execution_count": 306,
   "metadata": {},
   "outputs": [
    {
     "data": {
      "text/html": [
       "<div>\n",
       "<style scoped>\n",
       "    .dataframe tbody tr th:only-of-type {\n",
       "        vertical-align: middle;\n",
       "    }\n",
       "\n",
       "    .dataframe tbody tr th {\n",
       "        vertical-align: top;\n",
       "    }\n",
       "\n",
       "    .dataframe thead th {\n",
       "        text-align: right;\n",
       "    }\n",
       "</style>\n",
       "<table border=\"1\" class=\"dataframe\">\n",
       "  <thead>\n",
       "    <tr style=\"text-align: right;\">\n",
       "      <th></th>\n",
       "      <th>label</th>\n",
       "      <th>score</th>\n",
       "      <th>ups</th>\n",
       "      <th>downs</th>\n",
       "    </tr>\n",
       "  </thead>\n",
       "  <tbody>\n",
       "    <tr>\n",
       "      <th>count</th>\n",
       "      <td>60000.00</td>\n",
       "      <td>60000.00</td>\n",
       "      <td>60000.00</td>\n",
       "      <td>60000.00</td>\n",
       "    </tr>\n",
       "    <tr>\n",
       "      <th>mean</th>\n",
       "      <td>0.67</td>\n",
       "      <td>6.85</td>\n",
       "      <td>5.58</td>\n",
       "      <td>-0.14</td>\n",
       "    </tr>\n",
       "    <tr>\n",
       "      <th>std</th>\n",
       "      <td>0.47</td>\n",
       "      <td>42.68</td>\n",
       "      <td>39.41</td>\n",
       "      <td>0.35</td>\n",
       "    </tr>\n",
       "    <tr>\n",
       "      <th>min</th>\n",
       "      <td>0.00</td>\n",
       "      <td>-143.00</td>\n",
       "      <td>-143.00</td>\n",
       "      <td>-1.00</td>\n",
       "    </tr>\n",
       "    <tr>\n",
       "      <th>25%</th>\n",
       "      <td>0.00</td>\n",
       "      <td>1.00</td>\n",
       "      <td>0.00</td>\n",
       "      <td>0.00</td>\n",
       "    </tr>\n",
       "    <tr>\n",
       "      <th>50%</th>\n",
       "      <td>1.00</td>\n",
       "      <td>2.00</td>\n",
       "      <td>1.00</td>\n",
       "      <td>0.00</td>\n",
       "    </tr>\n",
       "    <tr>\n",
       "      <th>75%</th>\n",
       "      <td>1.00</td>\n",
       "      <td>5.00</td>\n",
       "      <td>4.00</td>\n",
       "      <td>0.00</td>\n",
       "    </tr>\n",
       "    <tr>\n",
       "      <th>max</th>\n",
       "      <td>1.00</td>\n",
       "      <td>3325.00</td>\n",
       "      <td>3325.00</td>\n",
       "      <td>0.00</td>\n",
       "    </tr>\n",
       "  </tbody>\n",
       "</table>\n",
       "</div>"
      ],
      "text/plain": [
       "          label     score       ups     downs\n",
       "count  60000.00  60000.00  60000.00  60000.00\n",
       "mean       0.67      6.85      5.58     -0.14\n",
       "std        0.47     42.68     39.41      0.35\n",
       "min        0.00   -143.00   -143.00     -1.00\n",
       "25%        0.00      1.00      0.00      0.00\n",
       "50%        1.00      2.00      1.00      0.00\n",
       "75%        1.00      5.00      4.00      0.00\n",
       "max        1.00   3325.00   3325.00      0.00"
      ]
     },
     "execution_count": 306,
     "metadata": {},
     "output_type": "execute_result"
    }
   ],
   "source": [
    "round(df_sarc.describe(),2)"
   ]
  },
  {
   "cell_type": "code",
   "execution_count": 307,
   "metadata": {},
   "outputs": [
    {
     "name": "stdout",
     "output_type": "stream",
     "text": [
      "<class 'pandas.core.frame.DataFrame'>\n",
      "RangeIndex: 60000 entries, 0 to 59999\n",
      "Data columns (total 10 columns):\n",
      " #   Column          Non-Null Count  Dtype \n",
      "---  ------          --------------  ----- \n",
      " 0   label           60000 non-null  int64 \n",
      " 1   comment         59999 non-null  object\n",
      " 2   author          60000 non-null  object\n",
      " 3   subreddit       60000 non-null  object\n",
      " 4   score           60000 non-null  int64 \n",
      " 5   ups             60000 non-null  int64 \n",
      " 6   downs           60000 non-null  int64 \n",
      " 7   date            60000 non-null  object\n",
      " 8   created_utc     60000 non-null  object\n",
      " 9   parent_comment  60000 non-null  object\n",
      "dtypes: int64(4), object(6)\n",
      "memory usage: 4.6+ MB\n"
     ]
    }
   ],
   "source": [
    "df_sarc.info()"
   ]
  },
  {
   "cell_type": "code",
   "execution_count": 308,
   "metadata": {},
   "outputs": [
    {
     "data": {
      "text/plain": [
       "1    40000\n",
       "0    20000\n",
       "Name: label, dtype: int64"
      ]
     },
     "execution_count": 308,
     "metadata": {},
     "output_type": "execute_result"
    }
   ],
   "source": [
    "df_sarc['label'].value_counts()"
   ]
  },
  {
   "cell_type": "markdown",
   "metadata": {},
   "source": [
    "### Exemplo da classe 0 (Sem Sarcasmo)\n",
    "Continuando a análise, uma amostra dos textos dos comentários sem sarcasmos são apresentados de forma completa, abaixo:"
   ]
  },
  {
   "cell_type": "code",
   "execution_count": 309,
   "metadata": {},
   "outputs": [
    {
     "data": {
      "text/html": [
       "<div>\n",
       "<style scoped>\n",
       "    .dataframe tbody tr th:only-of-type {\n",
       "        vertical-align: middle;\n",
       "    }\n",
       "\n",
       "    .dataframe tbody tr th {\n",
       "        vertical-align: top;\n",
       "    }\n",
       "\n",
       "    .dataframe thead th {\n",
       "        text-align: right;\n",
       "    }\n",
       "</style>\n",
       "<table border=\"1\" class=\"dataframe\">\n",
       "  <thead>\n",
       "    <tr style=\"text-align: right;\">\n",
       "      <th></th>\n",
       "      <th>label</th>\n",
       "      <th>comment</th>\n",
       "      <th>author</th>\n",
       "      <th>subreddit</th>\n",
       "      <th>score</th>\n",
       "      <th>ups</th>\n",
       "      <th>downs</th>\n",
       "      <th>date</th>\n",
       "      <th>created_utc</th>\n",
       "      <th>parent_comment</th>\n",
       "    </tr>\n",
       "  </thead>\n",
       "  <tbody>\n",
       "    <tr>\n",
       "      <th>40000</th>\n",
       "      <td>0</td>\n",
       "      <td>Then why fire the coach and hire Rich Rod if you guys were already good?</td>\n",
       "      <td>punkinale</td>\n",
       "      <td>CFB</td>\n",
       "      <td>11</td>\n",
       "      <td>11</td>\n",
       "      <td>0</td>\n",
       "      <td>2014-12</td>\n",
       "      <td>2014-12-02 21:00:31</td>\n",
       "      <td>I don't really think that's full circle. Michigan was good before Rich Rod took over</td>\n",
       "    </tr>\n",
       "    <tr>\n",
       "      <th>40001</th>\n",
       "      <td>0</td>\n",
       "      <td>Whoa, easy there Duterte.</td>\n",
       "      <td>buckingbronco1</td>\n",
       "      <td>news</td>\n",
       "      <td>2</td>\n",
       "      <td>-1</td>\n",
       "      <td>-1</td>\n",
       "      <td>2016-12</td>\n",
       "      <td>2016-12-28 21:30:36</td>\n",
       "      <td>He did. It's a smoking gun to me. I don't give a fucking shit what a court thinks, I don't play by their rules. When you get put in charge of watching over someone so drunk people are worried they're going to die, and you offered to do this, solely so you could be alone with them and then put your dick in them, to me, you're a fucking rapist. And that's what I think he did and that's why he apologized - because he knew he had something to apologize for. I don't care what the statue of Indiana says on rape, I don't care what the school says, I care about what I think rape is and this definitely qualifies. He's the type of loser that can't get pussy, and has to steal it from drunk girls after he manipulates himself into being alone with them.</td>\n",
       "    </tr>\n",
       "    <tr>\n",
       "      <th>40002</th>\n",
       "      <td>0</td>\n",
       "      <td>The same reason Trudeau circlejerks, and Harper hate fests are allowed.</td>\n",
       "      <td>AngryMulcair</td>\n",
       "      <td>canada</td>\n",
       "      <td>3</td>\n",
       "      <td>3</td>\n",
       "      <td>0</td>\n",
       "      <td>2014-11</td>\n",
       "      <td>2014-11-14 23:10:39</td>\n",
       "      <td>Why are stupid and satire articles allowed on this subreddit?</td>\n",
       "    </tr>\n",
       "    <tr>\n",
       "      <th>40003</th>\n",
       "      <td>0</td>\n",
       "      <td>Good point but he'll still have to clean it to rack it for the front squat.</td>\n",
       "      <td>arabicfarmer27</td>\n",
       "      <td>Fitness</td>\n",
       "      <td>1</td>\n",
       "      <td>-1</td>\n",
       "      <td>-1</td>\n",
       "      <td>2016-11</td>\n",
       "      <td>2016-11-04 09:34:05</td>\n",
       "      <td>But it would be a relatively light weight front-squat, he might want some additional squat work on top of that.</td>\n",
       "    </tr>\n",
       "    <tr>\n",
       "      <th>40004</th>\n",
       "      <td>0</td>\n",
       "      <td>Damn if I worked for valve my personal ban list would be so long full of kids like these.</td>\n",
       "      <td>MaxStavro</td>\n",
       "      <td>GlobalOffensive</td>\n",
       "      <td>72</td>\n",
       "      <td>72</td>\n",
       "      <td>0</td>\n",
       "      <td>2015-07</td>\n",
       "      <td>2015-07-10 06:39:02</td>\n",
       "      <td>Please don't be this guy.</td>\n",
       "    </tr>\n",
       "  </tbody>\n",
       "</table>\n",
       "</div>"
      ],
      "text/plain": [
       "       label  \\\n",
       "40000      0   \n",
       "40001      0   \n",
       "40002      0   \n",
       "40003      0   \n",
       "40004      0   \n",
       "\n",
       "                                                                                         comment  \\\n",
       "40000                   Then why fire the coach and hire Rich Rod if you guys were already good?   \n",
       "40001                                                                  Whoa, easy there Duterte.   \n",
       "40002                    The same reason Trudeau circlejerks, and Harper hate fests are allowed.   \n",
       "40003                Good point but he'll still have to clean it to rack it for the front squat.   \n",
       "40004  Damn if I worked for valve my personal ban list would be so long full of kids like these.   \n",
       "\n",
       "               author        subreddit  score  ups  downs     date  \\\n",
       "40000       punkinale              CFB     11   11      0  2014-12   \n",
       "40001  buckingbronco1             news      2   -1     -1  2016-12   \n",
       "40002    AngryMulcair           canada      3    3      0  2014-11   \n",
       "40003  arabicfarmer27          Fitness      1   -1     -1  2016-11   \n",
       "40004       MaxStavro  GlobalOffensive     72   72      0  2015-07   \n",
       "\n",
       "               created_utc  \\\n",
       "40000  2014-12-02 21:00:31   \n",
       "40001  2016-12-28 21:30:36   \n",
       "40002  2014-11-14 23:10:39   \n",
       "40003  2016-11-04 09:34:05   \n",
       "40004  2015-07-10 06:39:02   \n",
       "\n",
       "                                                                                                                                                                                                                                                                                                                                                                                                                                                                                                                                                                                                                                                                                                                                                                       parent_comment  \n",
       "40000                                                                                                                                                                                                                                                                                                                                                                                                                                                                                                                                                                                                                                                                                            I don't really think that's full circle. Michigan was good before Rich Rod took over  \n",
       "40001  He did. It's a smoking gun to me. I don't give a fucking shit what a court thinks, I don't play by their rules. When you get put in charge of watching over someone so drunk people are worried they're going to die, and you offered to do this, solely so you could be alone with them and then put your dick in them, to me, you're a fucking rapist. And that's what I think he did and that's why he apologized - because he knew he had something to apologize for. I don't care what the statue of Indiana says on rape, I don't care what the school says, I care about what I think rape is and this definitely qualifies. He's the type of loser that can't get pussy, and has to steal it from drunk girls after he manipulates himself into being alone with them.  \n",
       "40002                                                                                                                                                                                                                                                                                                                                                                                                                                                                                                                                                                                                                                                                                                                   Why are stupid and satire articles allowed on this subreddit?  \n",
       "40003                                                                                                                                                                                                                                                                                                                                                                                                                                                                                                                                                                                                                                                                 But it would be a relatively light weight front-squat, he might want some additional squat work on top of that.  \n",
       "40004                                                                                                                                                                                                                                                                                                                                                                                                                                                                                                                                                                                                                                                                                                                                                       Please don't be this guy.  "
      ]
     },
     "execution_count": 309,
     "metadata": {},
     "output_type": "execute_result"
    }
   ],
   "source": [
    "nao_sarc = df_sarc.loc[df_sarc['label'] == 0]\n",
    "#Utiliza-se o método set_option('max_colwidth', None) que possibilita a apresentação de todo os conteúdos das colunas do datraframe\n",
    "pd.set_option('max_colwidth', None)\n",
    "nao_sarc.head(5)"
   ]
  },
  {
   "cell_type": "markdown",
   "metadata": {},
   "source": [
    "### Exemplo da classe 1 (Com Sarcasmo)\n",
    "Continuando a análise, uma amostra dos textos dos comentários com sarcasmos são apresentados de forma completa, abaixo:"
   ]
  },
  {
   "cell_type": "code",
   "execution_count": 310,
   "metadata": {},
   "outputs": [
    {
     "data": {
      "text/html": [
       "<div>\n",
       "<style scoped>\n",
       "    .dataframe tbody tr th:only-of-type {\n",
       "        vertical-align: middle;\n",
       "    }\n",
       "\n",
       "    .dataframe tbody tr th {\n",
       "        vertical-align: top;\n",
       "    }\n",
       "\n",
       "    .dataframe thead th {\n",
       "        text-align: right;\n",
       "    }\n",
       "</style>\n",
       "<table border=\"1\" class=\"dataframe\">\n",
       "  <thead>\n",
       "    <tr style=\"text-align: right;\">\n",
       "      <th></th>\n",
       "      <th>label</th>\n",
       "      <th>comment</th>\n",
       "      <th>author</th>\n",
       "      <th>subreddit</th>\n",
       "      <th>score</th>\n",
       "      <th>ups</th>\n",
       "      <th>downs</th>\n",
       "      <th>date</th>\n",
       "      <th>created_utc</th>\n",
       "      <th>parent_comment</th>\n",
       "    </tr>\n",
       "  </thead>\n",
       "  <tbody>\n",
       "    <tr>\n",
       "      <th>0</th>\n",
       "      <td>1</td>\n",
       "      <td>Of course, just like 3.2 was the true Messiah.</td>\n",
       "      <td>ReticentHedgehog</td>\n",
       "      <td>ffxiv</td>\n",
       "      <td>1</td>\n",
       "      <td>1</td>\n",
       "      <td>0</td>\n",
       "      <td>2016-05</td>\n",
       "      <td>2016-05-02 20:20:37</td>\n",
       "      <td>Is patch 3.3 going to be our savior? Without trying to sound like a broken record and repeating the many point of views of the growing apocalyptic threads on this forum. I was hoping to get the opinions of everyone if they believe patch 3.3 is going to bring back some of the players who have quit in the last patch or two, or does this feel like another cookie cutter patch that wont stop exit of quality population specifically on the North American servers. I ask this in concern that I have made a assertive effort as of late to refill our FC, and one of the strong points of the patch info so far is that they are installing a cross realm raid tool, which seems like it would diminish the need to recruit for a FC. I personally enjoy the aspect of a 10-15 member FC which can grow close and share things in common to the game and outside the game. But with the game seemingly losing subs it has become harder to find people to come together like I had just described and I don't want to put false hope in those who I have recruited so far. Give me some hope!</td>\n",
       "    </tr>\n",
       "    <tr>\n",
       "      <th>1</th>\n",
       "      <td>1</td>\n",
       "      <td>Yeah because Iran was 100% muslim prior to 1979, and still is now.</td>\n",
       "      <td>methmobile</td>\n",
       "      <td>worldnews</td>\n",
       "      <td>-3</td>\n",
       "      <td>-1</td>\n",
       "      <td>-1</td>\n",
       "      <td>2016-12</td>\n",
       "      <td>2016-12-30 10:21:31</td>\n",
       "      <td>I suggest you research Iran pre-1979 as well as al-Qatb and the rise of Wahhabism. You are fully entitled to have an opinion and express it (and you do bring up a good point re: rural cobservatism) but you are misinformed.</td>\n",
       "    </tr>\n",
       "    <tr>\n",
       "      <th>2</th>\n",
       "      <td>1</td>\n",
       "      <td>WELL YOU'RE JUST A BITCH...YOU HAVE TO GO AND POST AND TAKE YOUR DOWNVOTES</td>\n",
       "      <td>dillydelly</td>\n",
       "      <td>nba</td>\n",
       "      <td>1</td>\n",
       "      <td>1</td>\n",
       "      <td>0</td>\n",
       "      <td>2014-05</td>\n",
       "      <td>2014-05-04 08:02:30</td>\n",
       "      <td>Warriors / Clips game threads literally add zero value to the game experience. Why would I want to see the words flop, flopped and flopper repeated constantly? Thunder / Clips game threads were pretty good during the season. We'll see how the playoff ones are.</td>\n",
       "    </tr>\n",
       "    <tr>\n",
       "      <th>3</th>\n",
       "      <td>1</td>\n",
       "      <td>Yeah, it's dumb to run background checks on potential teachers.</td>\n",
       "      <td>Krenolds</td>\n",
       "      <td>AskReddit</td>\n",
       "      <td>1</td>\n",
       "      <td>1</td>\n",
       "      <td>0</td>\n",
       "      <td>2014-09</td>\n",
       "      <td>2014-09-02 08:09:10</td>\n",
       "      <td>Oh i forgot.., you get to be finger printed when you are hired! Awesome!</td>\n",
       "    </tr>\n",
       "    <tr>\n",
       "      <th>4</th>\n",
       "      <td>1</td>\n",
       "      <td>Oh, it's not that bad once you get a handle on the crippling depression and constant tooth grinding.</td>\n",
       "      <td>ericanderton</td>\n",
       "      <td>AskReddit</td>\n",
       "      <td>4</td>\n",
       "      <td>4</td>\n",
       "      <td>0</td>\n",
       "      <td>2011-08</td>\n",
       "      <td>2011-08-24 13:17:20</td>\n",
       "      <td>Haha oh. Definitely not an option than.</td>\n",
       "    </tr>\n",
       "  </tbody>\n",
       "</table>\n",
       "</div>"
      ],
      "text/plain": [
       "   label  \\\n",
       "0      1   \n",
       "1      1   \n",
       "2      1   \n",
       "3      1   \n",
       "4      1   \n",
       "\n",
       "                                                                                                comment  \\\n",
       "0                                                        Of course, just like 3.2 was the true Messiah.   \n",
       "1                                    Yeah because Iran was 100% muslim prior to 1979, and still is now.   \n",
       "2                            WELL YOU'RE JUST A BITCH...YOU HAVE TO GO AND POST AND TAKE YOUR DOWNVOTES   \n",
       "3                                       Yeah, it's dumb to run background checks on potential teachers.   \n",
       "4  Oh, it's not that bad once you get a handle on the crippling depression and constant tooth grinding.   \n",
       "\n",
       "             author  subreddit  score  ups  downs     date  \\\n",
       "0  ReticentHedgehog      ffxiv      1    1      0  2016-05   \n",
       "1        methmobile  worldnews     -3   -1     -1  2016-12   \n",
       "2        dillydelly        nba      1    1      0  2014-05   \n",
       "3          Krenolds  AskReddit      1    1      0  2014-09   \n",
       "4      ericanderton  AskReddit      4    4      0  2011-08   \n",
       "\n",
       "           created_utc  \\\n",
       "0  2016-05-02 20:20:37   \n",
       "1  2016-12-30 10:21:31   \n",
       "2  2014-05-04 08:02:30   \n",
       "3  2014-09-02 08:09:10   \n",
       "4  2011-08-24 13:17:20   \n",
       "\n",
       "                                                                                                                                                                                                                                                                                                                                                                                                                                                                                                                                                                                                                                                                                                                                                                                                                                                                                                                                                                                                                                                                                            parent_comment  \n",
       "0  Is patch 3.3 going to be our savior? Without trying to sound like a broken record and repeating the many point of views of the growing apocalyptic threads on this forum. I was hoping to get the opinions of everyone if they believe patch 3.3 is going to bring back some of the players who have quit in the last patch or two, or does this feel like another cookie cutter patch that wont stop exit of quality population specifically on the North American servers. I ask this in concern that I have made a assertive effort as of late to refill our FC, and one of the strong points of the patch info so far is that they are installing a cross realm raid tool, which seems like it would diminish the need to recruit for a FC. I personally enjoy the aspect of a 10-15 member FC which can grow close and share things in common to the game and outside the game. But with the game seemingly losing subs it has become harder to find people to come together like I had just described and I don't want to put false hope in those who I have recruited so far. Give me some hope!  \n",
       "1                                                                                                                                                                                                                                                                                                                                                                                                                                                                                                                                                                                                                                                                                                                                                                                                                                                                           I suggest you research Iran pre-1979 as well as al-Qatb and the rise of Wahhabism. You are fully entitled to have an opinion and express it (and you do bring up a good point re: rural cobservatism) but you are misinformed.  \n",
       "2                                                                                                                                                                                                                                                                                                                                                                                                                                                                                                                                                                                                                                                                                                                                                                                                                                     Warriors / Clips game threads literally add zero value to the game experience. Why would I want to see the words flop, flopped and flopper repeated constantly? Thunder / Clips game threads were pretty good during the season. We'll see how the playoff ones are.  \n",
       "3                                                                                                                                                                                                                                                                                                                                                                                                                                                                                                                                                                                                                                                                                                                                                                                                                                                                                                                                                                                                                                 Oh i forgot.., you get to be finger printed when you are hired! Awesome!  \n",
       "4                                                                                                                                                                                                                                                                                                                                                                                                                                                                                                                                                                                                                                                                                                                                                                                                                                                                                                                                                                                                                                                                  Haha oh. Definitely not an option than.  "
      ]
     },
     "execution_count": 310,
     "metadata": {},
     "output_type": "execute_result"
    }
   ],
   "source": [
    "sarc = df_sarc.loc[df_sarc['label'] == 1]\n",
    "#Utiliza-se o método set_option('max_colwidth', None) que possibilita a apresentação de todo os conteúdos das colunas do datraframe\n",
    "pd.set_option('max_colwidth', None)\n",
    "sarc.head(5)"
   ]
  },
  {
   "cell_type": "markdown",
   "metadata": {},
   "source": [
    "### Gráfico 1 -- Gráfico de Barras\n",
    "Como já foi falado acima, neste gráfico de barras são apresentados as quantidades de elementos para cada uma das classes. \n",
    "\n",
    "Pode-se analisar, que o gráfico demonstra um desbalanceamento entre as classes, sendo que há 40000 linhas de comentários com sarcasmo (classe 1) e somente 20000 linhas de comentários sem sarcasmos (classe 0)."
   ]
  },
  {
   "cell_type": "code",
   "execution_count": 311,
   "metadata": {},
   "outputs": [
    {
     "data": {
      "image/png": "[encoded data removed]",
      "text/plain": [
       "<Figure size 720x360 with 1 Axes>"
      ]
     },
     "metadata": {},
     "output_type": "display_data"
    }
   ],
   "source": [
    "warnings.filterwarnings(\"ignore\")\n",
    "\n",
    "sns.set_style('darkgrid')\n",
    "plt.figure(figsize = (10,5))\n",
    "sns.countplot(df_sarc['label'], alpha =.80, palette= ['#1E90FF','#F4A460'])\n",
    "plt.title('Sem Sarcasmo vs Com Sarcasmo')\n",
    "plt.ylabel('Quantidade')\n",
    "plt.show()"
   ]
  },
  {
   "cell_type": "markdown",
   "metadata": {},
   "source": [
    "## Etapa de Limpeza e Pré-Processamento dos Dados\n",
    "A etapa de pré-processamento dos dados se faz necessária para a continuidade da análise exploratória dos dados, isso pelo fato de a análise continuar com passos como o de apresentação de termos mais frequentes entre as classes. Logo, este pré-processamento é necessário.\n",
    "\n",
    "Serão aplicadas algumas etapas de pré-processamento na coluna 'comment'(posteriormente também serão aplicadas na coluna 'parent_comment'), sendo essas:\n",
    "\n",
    "    - Remoção de Pontuações(Função: remocao_pontuacao): Serão retiradas todas as pontuações dos textos dos comentários,sendo que esses, nesta situação, não trazem informações relevantes.\n",
    "    - Letras minúsculas (Função: lowering): Retirando todas as palavras em minúscula para manter um padrão.\n",
    "    - Stop Words (Função: remocao_stop_words): Stopwords são as palavras em qualquer idioma que não adicionam muito significado a uma frase. Eles podem ser ignorados com segurança sem sacrificar o significado da frase. Para alguns mecanismos de pesquisa, essas são algumas das palavras de função curtas mais comuns, como the, is, at, which e on, ou seja, podem ser retiradas\n",
    "    - Remoção de Números (Função: remocao_numeros): Retirando todos os números que nesta situação, não trazem informações relevantes para a análise exploratória da coluna de comentários, sendo que o foco são as palavras dos textos.\n",
    "    - Função 'preprocessamento': Na função final 'preprocessamento', são chamadas e aplicadas todas as etapas citadas acima.\n",
    "\n",
    "##### Nova Coluna: 'clean_comment'\n",
    "Após todas as estapas de pré-processamento, foi criada uma nova coluna com todos os comentários e seus textos pré-processados."
   ]
  },
  {
   "cell_type": "code",
   "execution_count": 312,
   "metadata": {},
   "outputs": [],
   "source": [
    "def remocao_pontuacao(texto):\n",
    "    nao_pontuado = \"\".join([i for i in texto if i not in string.punctuation])\n",
    "    return nao_pontuado"
   ]
  },
  {
   "cell_type": "code",
   "execution_count": 313,
   "metadata": {},
   "outputs": [],
   "source": [
    "def lowering(texto):\n",
    "    return texto.lower()"
   ]
  },
  {
   "cell_type": "code",
   "execution_count": 314,
   "metadata": {},
   "outputs": [],
   "source": [
    "def remocao_numeros(texto):\n",
    "    number_regex = '\\d+'\n",
    "    x = re.sub(number_regex, '', texto)\n",
    "    return x"
   ]
  },
  {
   "cell_type": "code",
   "execution_count": 315,
   "metadata": {},
   "outputs": [],
   "source": [
    "def remocao_stopwords(texto):\n",
    "    stopwords = nltk.corpus.stopwords.words('english')\n",
    "    texto_stopwords = [j for j in texto.split() if j not in stopwords]\n",
    "    frase = \" \".join(texto_stopwords)\n",
    "    return frase "
   ]
  },
  {
   "cell_type": "code",
   "execution_count": 316,
   "metadata": {},
   "outputs": [
    {
     "data": {
      "text/html": [
       "<div>\n",
       "<style scoped>\n",
       "    .dataframe tbody tr th:only-of-type {\n",
       "        vertical-align: middle;\n",
       "    }\n",
       "\n",
       "    .dataframe tbody tr th {\n",
       "        vertical-align: top;\n",
       "    }\n",
       "\n",
       "    .dataframe thead th {\n",
       "        text-align: right;\n",
       "    }\n",
       "</style>\n",
       "<table border=\"1\" class=\"dataframe\">\n",
       "  <thead>\n",
       "    <tr style=\"text-align: right;\">\n",
       "      <th></th>\n",
       "      <th>label</th>\n",
       "      <th>comment</th>\n",
       "      <th>author</th>\n",
       "      <th>subreddit</th>\n",
       "      <th>score</th>\n",
       "      <th>ups</th>\n",
       "      <th>downs</th>\n",
       "      <th>date</th>\n",
       "      <th>created_utc</th>\n",
       "      <th>parent_comment</th>\n",
       "      <th>clean_comment</th>\n",
       "    </tr>\n",
       "  </thead>\n",
       "  <tbody>\n",
       "    <tr>\n",
       "      <th>0</th>\n",
       "      <td>1</td>\n",
       "      <td>Of course, just like 3.2 was the true Messiah.</td>\n",
       "      <td>ReticentHedgehog</td>\n",
       "      <td>ffxiv</td>\n",
       "      <td>1</td>\n",
       "      <td>1</td>\n",
       "      <td>0</td>\n",
       "      <td>2016-05</td>\n",
       "      <td>2016-05-02 20:20:37</td>\n",
       "      <td>Is patch 3.3 going to be our savior? Without t...</td>\n",
       "      <td>course like  true messiah</td>\n",
       "    </tr>\n",
       "    <tr>\n",
       "      <th>1</th>\n",
       "      <td>1</td>\n",
       "      <td>Yeah because Iran was 100% muslim prior to 197...</td>\n",
       "      <td>methmobile</td>\n",
       "      <td>worldnews</td>\n",
       "      <td>-3</td>\n",
       "      <td>-1</td>\n",
       "      <td>-1</td>\n",
       "      <td>2016-12</td>\n",
       "      <td>2016-12-30 10:21:31</td>\n",
       "      <td>I suggest you research Iran pre-1979 as well a...</td>\n",
       "      <td>yeah iran  muslim prior  still now</td>\n",
       "    </tr>\n",
       "    <tr>\n",
       "      <th>2</th>\n",
       "      <td>1</td>\n",
       "      <td>WELL YOU'RE JUST A BITCH...YOU HAVE TO GO AND ...</td>\n",
       "      <td>dillydelly</td>\n",
       "      <td>nba</td>\n",
       "      <td>1</td>\n",
       "      <td>1</td>\n",
       "      <td>0</td>\n",
       "      <td>2014-05</td>\n",
       "      <td>2014-05-04 08:02:30</td>\n",
       "      <td>Warriors / Clips game threads literally add ze...</td>\n",
       "      <td>well bitchyou go post take downvotes</td>\n",
       "    </tr>\n",
       "    <tr>\n",
       "      <th>3</th>\n",
       "      <td>1</td>\n",
       "      <td>Yeah, it's dumb to run background checks on po...</td>\n",
       "      <td>Krenolds</td>\n",
       "      <td>AskReddit</td>\n",
       "      <td>1</td>\n",
       "      <td>1</td>\n",
       "      <td>0</td>\n",
       "      <td>2014-09</td>\n",
       "      <td>2014-09-02 08:09:10</td>\n",
       "      <td>Oh i forgot.., you get to be finger printed wh...</td>\n",
       "      <td>yeah dumb run background checks potential teac...</td>\n",
       "    </tr>\n",
       "    <tr>\n",
       "      <th>4</th>\n",
       "      <td>1</td>\n",
       "      <td>Oh, it's not that bad once you get a handle on...</td>\n",
       "      <td>ericanderton</td>\n",
       "      <td>AskReddit</td>\n",
       "      <td>4</td>\n",
       "      <td>4</td>\n",
       "      <td>0</td>\n",
       "      <td>2011-08</td>\n",
       "      <td>2011-08-24 13:17:20</td>\n",
       "      <td>Haha oh. Definitely not an option than.</td>\n",
       "      <td>oh bad get handle crippling depression constan...</td>\n",
       "    </tr>\n",
       "    <tr>\n",
       "      <th>...</th>\n",
       "      <td>...</td>\n",
       "      <td>...</td>\n",
       "      <td>...</td>\n",
       "      <td>...</td>\n",
       "      <td>...</td>\n",
       "      <td>...</td>\n",
       "      <td>...</td>\n",
       "      <td>...</td>\n",
       "      <td>...</td>\n",
       "      <td>...</td>\n",
       "      <td>...</td>\n",
       "    </tr>\n",
       "    <tr>\n",
       "      <th>59995</th>\n",
       "      <td>0</td>\n",
       "      <td>room you mean like, dimension?</td>\n",
       "      <td>Tikikala</td>\n",
       "      <td>digimon</td>\n",
       "      <td>1</td>\n",
       "      <td>1</td>\n",
       "      <td>0</td>\n",
       "      <td>2016-03</td>\n",
       "      <td>2016-03-26 03:42:22</td>\n",
       "      <td>So as another guy pointed out. Huckmon might b...</td>\n",
       "      <td>room mean like dimension</td>\n",
       "    </tr>\n",
       "    <tr>\n",
       "      <th>59996</th>\n",
       "      <td>0</td>\n",
       "      <td>I wasn't too fond of grabner in 14 so I put Be...</td>\n",
       "      <td>mrhairybolo</td>\n",
       "      <td>hockey</td>\n",
       "      <td>1</td>\n",
       "      <td>1</td>\n",
       "      <td>0</td>\n",
       "      <td>2014-08</td>\n",
       "      <td>2014-08-10 05:57:31</td>\n",
       "      <td>Hall - Duchene - Grabner?</td>\n",
       "      <td>fond grabner put bergeron middle win draws set...</td>\n",
       "    </tr>\n",
       "    <tr>\n",
       "      <th>59997</th>\n",
       "      <td>0</td>\n",
       "      <td>he wasn't even at worlds in season 4!</td>\n",
       "      <td>Highstalker</td>\n",
       "      <td>leagueoflegends</td>\n",
       "      <td>-1</td>\n",
       "      <td>-1</td>\n",
       "      <td>0</td>\n",
       "      <td>2016-09</td>\n",
       "      <td>2016-09-19 14:41:23</td>\n",
       "      <td>Yeah he was.</td>\n",
       "      <td>even worlds season</td>\n",
       "    </tr>\n",
       "    <tr>\n",
       "      <th>59998</th>\n",
       "      <td>0</td>\n",
       "      <td>Right, but the Trump sign...</td>\n",
       "      <td>gcbeehler5</td>\n",
       "      <td>pics</td>\n",
       "      <td>2</td>\n",
       "      <td>2</td>\n",
       "      <td>0</td>\n",
       "      <td>2016-09</td>\n",
       "      <td>2016-09-01 02:14:54</td>\n",
       "      <td>I wouldn't say you have to be liberal to appre...</td>\n",
       "      <td>right trump sign</td>\n",
       "    </tr>\n",
       "    <tr>\n",
       "      <th>59999</th>\n",
       "      <td>0</td>\n",
       "      <td>Would be awesome, but it's one of those things...</td>\n",
       "      <td>ImKoncerned</td>\n",
       "      <td>2007scape</td>\n",
       "      <td>3</td>\n",
       "      <td>3</td>\n",
       "      <td>0</td>\n",
       "      <td>2015-03</td>\n",
       "      <td>2015-03-13 21:30:57</td>\n",
       "      <td>Unfortunately I think so too :'(</td>\n",
       "      <td>would awesome one things done flawlessly cant ...</td>\n",
       "    </tr>\n",
       "  </tbody>\n",
       "</table>\n",
       "<p>60000 rows × 11 columns</p>\n",
       "</div>"
      ],
      "text/plain": [
       "       label                                            comment  \\\n",
       "0          1     Of course, just like 3.2 was the true Messiah.   \n",
       "1          1  Yeah because Iran was 100% muslim prior to 197...   \n",
       "2          1  WELL YOU'RE JUST A BITCH...YOU HAVE TO GO AND ...   \n",
       "3          1  Yeah, it's dumb to run background checks on po...   \n",
       "4          1  Oh, it's not that bad once you get a handle on...   \n",
       "...      ...                                                ...   \n",
       "59995      0                     room you mean like, dimension?   \n",
       "59996      0  I wasn't too fond of grabner in 14 so I put Be...   \n",
       "59997      0              he wasn't even at worlds in season 4!   \n",
       "59998      0                       Right, but the Trump sign...   \n",
       "59999      0  Would be awesome, but it's one of those things...   \n",
       "\n",
       "                 author        subreddit  score  ups  downs     date  \\\n",
       "0      ReticentHedgehog            ffxiv      1    1      0  2016-05   \n",
       "1            methmobile        worldnews     -3   -1     -1  2016-12   \n",
       "2            dillydelly              nba      1    1      0  2014-05   \n",
       "3              Krenolds        AskReddit      1    1      0  2014-09   \n",
       "4          ericanderton        AskReddit      4    4      0  2011-08   \n",
       "...                 ...              ...    ...  ...    ...      ...   \n",
       "59995          Tikikala          digimon      1    1      0  2016-03   \n",
       "59996       mrhairybolo           hockey      1    1      0  2014-08   \n",
       "59997       Highstalker  leagueoflegends     -1   -1      0  2016-09   \n",
       "59998        gcbeehler5             pics      2    2      0  2016-09   \n",
       "59999       ImKoncerned        2007scape      3    3      0  2015-03   \n",
       "\n",
       "               created_utc                                     parent_comment  \\\n",
       "0      2016-05-02 20:20:37  Is patch 3.3 going to be our savior? Without t...   \n",
       "1      2016-12-30 10:21:31  I suggest you research Iran pre-1979 as well a...   \n",
       "2      2014-05-04 08:02:30  Warriors / Clips game threads literally add ze...   \n",
       "3      2014-09-02 08:09:10  Oh i forgot.., you get to be finger printed wh...   \n",
       "4      2011-08-24 13:17:20            Haha oh. Definitely not an option than.   \n",
       "...                    ...                                                ...   \n",
       "59995  2016-03-26 03:42:22  So as another guy pointed out. Huckmon might b...   \n",
       "59996  2014-08-10 05:57:31                          Hall - Duchene - Grabner?   \n",
       "59997  2016-09-19 14:41:23                                       Yeah he was.   \n",
       "59998  2016-09-01 02:14:54  I wouldn't say you have to be liberal to appre...   \n",
       "59999  2015-03-13 21:30:57                   Unfortunately I think so too :'(   \n",
       "\n",
       "                                           clean_comment  \n",
       "0                              course like  true messiah  \n",
       "1                     yeah iran  muslim prior  still now  \n",
       "2                   well bitchyou go post take downvotes  \n",
       "3      yeah dumb run background checks potential teac...  \n",
       "4      oh bad get handle crippling depression constan...  \n",
       "...                                                  ...  \n",
       "59995                           room mean like dimension  \n",
       "59996  fond grabner put bergeron middle win draws set...  \n",
       "59997                                even worlds season   \n",
       "59998                                   right trump sign  \n",
       "59999  would awesome one things done flawlessly cant ...  \n",
       "\n",
       "[60000 rows x 11 columns]"
      ]
     },
     "execution_count": 316,
     "metadata": {},
     "output_type": "execute_result"
    }
   ],
   "source": [
    "def preprocessamento(texto):\n",
    "        texto = remocao_numeros(texto)\n",
    "        texto = lowering(texto)\n",
    "        texto = remocao_stopwords(texto)\n",
    "        texto = remocao_pontuacao(texto)\n",
    "        return texto\n",
    "    \n",
    "pd.reset_option(\"display.max_colwidth\")\n",
    "\n",
    "df_sarc['comment'] = df_sarc['comment'].astype(str)\n",
    "# Criei uma nova coluna após o pré-processamento \n",
    "df_sarc['clean_comment']= df_sarc['comment'].apply(lambda x: preprocessamento(x))\n",
    "df_sarc"
   ]
  },
  {
   "cell_type": "markdown",
   "metadata": {},
   "source": [
    "### Gráficos 2 e 3 - Gráficos de Barras\n",
    "Apresentando os termos mais frequentes em cada classe. \n",
    "\n",
    "Isso só foi possível após o pré-processamento dos textos, para que por exemplo, pontuações, não fossem escolhidos como termos mais frequentes, por exemplo"
   ]
  },
  {
   "cell_type": "code",
   "execution_count": 317,
   "metadata": {},
   "outputs": [],
   "source": [
    "# sarc para classe 1 e nao_sarc para a classe 0\n",
    "sarc = df_sarc.loc[df_sarc['label'] == 1]\n",
    "nao_sarc = df_sarc.loc[df_sarc['label'] == 0]"
   ]
  },
  {
   "cell_type": "markdown",
   "metadata": {},
   "source": [
    "#### Gráfico de Termos Mais Frequentes da Classe 0 (Sem Sarcasmo)\n",
    "Abaixo está o gráfico com os termos mais frequentes dos textos que não são considerados sarcasmos, podemos perceber que o 'like' que no inglês pode ter vários contextos em várias situações, é o termo mais frequente. Da mesma forma é o 'would' que no caso, é o segundo termo mais usado."
   ]
  },
  {
   "cell_type": "code",
   "execution_count": 318,
   "metadata": {},
   "outputs": [
    {
     "data": {
      "image/png": "[encoded data removed]",
      "text/plain": [
       "<Figure size 432x288 with 1 Axes>"
      ]
     },
     "metadata": {},
     "output_type": "display_data"
    }
   ],
   "source": [
    "words0 = []\n",
    "\n",
    "#Pegando termo por termo -- classe 0\n",
    "for i in nao_sarc['clean_comment']:\n",
    "    for j in i.split():\n",
    "        words0.append(j)\n",
    "        \n",
    "dfp0 = pd.DataFrame (words0, columns = ['words0'])\n",
    "dfc = dfp0.groupby('words0').words0.count() \\\n",
    "                               .reset_index(name='count') \\\n",
    "                               .sort_values(['count'], ascending=False) \\\n",
    "                               .head(10).reset_index(drop=True)\n",
    "\n",
    "dfc.plot.bar(x='words0');"
   ]
  },
  {
   "cell_type": "markdown",
   "metadata": {},
   "source": [
    "#### Gráfico de Termos Mais Frequentes da Classe 1 (Com Sarcasmo)\n",
    "Abaixo está o gráfico com os termos mais frequentes dos textos que são considerados sarcasmos, podemos perceber que o 'yeah' que no inglês é uma variação do 'yes', que no português é sim, é o termo mais frequente. \n",
    "\n",
    "O interessante é perceber que este termo só tem grande denotação nos comentários sarcásticos. Em segundo está o 'like' que como na classe 0, é bastante utilizado por nativos do inglês em várias situações e com mais de um significado."
   ]
  },
  {
   "cell_type": "code",
   "execution_count": 319,
   "metadata": {
    "scrolled": true
   },
   "outputs": [
    {
     "data": {
      "image/png": "[encoded data removed]",
      "text/plain": [
       "<Figure size 432x288 with 1 Axes>"
      ]
     },
     "metadata": {},
     "output_type": "display_data"
    }
   ],
   "source": [
    "words1 = []\n",
    "\n",
    "#Pegando termo por termo -- classe 1\n",
    "for i in sarc['clean_comment']:\n",
    "    for j in i.split():\n",
    "        words1.append(j)\n",
    "\n",
    "dfp1 = pd.DataFrame(words1, columns = ['words1'])\n",
    "dfc = dfp1.groupby('words1').words1.count() \\\n",
    "                               .reset_index(name='count') \\\n",
    "                               .sort_values(['count'], ascending=False) \\\n",
    "                               .head(10).reset_index(drop=True)\n",
    "\n",
    "dfc.plot.bar(x='words1', color='orange');"
   ]
  },
  {
   "cell_type": "markdown",
   "metadata": {},
   "source": [
    "### Gráfico 4 e 5 -- Distribuição (Histograma e Kernel Density Estimation (KDE))\n",
    "### Finalizando a Análise Exploratória \n",
    "\n",
    "Histograma: Foi produzido um histograma para ver a quantidade de caracteres de uma forma distribúida empiricamente e discretizada.\n",
    "\n",
    "Kernel Density Estimation (KDE): Foi produzido um histograma para ver a quantidade de caracteres de uma forma distribúida continuamente, mostrando as curvas, como por exemplo, demosntrando que a classe 0 possui uma cauda longa, que são poucos comentários mas com uma grande quantidade de caracteres.\n",
    "\n",
    "#### Histograma de Caracteres"
   ]
  },
  {
   "cell_type": "code",
   "execution_count": 320,
   "metadata": {},
   "outputs": [
    {
     "data": {
      "image/png": "[encoded data removed]",
      "text/plain": [
       "<Figure size 648x504 with 1 Axes>"
      ]
     },
     "metadata": {},
     "output_type": "display_data"
    }
   ],
   "source": [
    "df_sarc['tamanho_texto'] = df_sarc['clean_comment'].apply(len)\n",
    "\n",
    "x0 = list(df_sarc[df_sarc['label']==0]['tamanho_texto'])\n",
    "x1 = list(df_sarc[df_sarc['label']==1]['tamanho_texto'])\n",
    "\n",
    "kwargs = dict(histtype='stepfilled',alpha=0.3, bins=40)\n",
    "plt.figure(figsize=(9,7))\n",
    "plt.hist(x0, **kwargs);\n",
    "plt.hist(x1, **kwargs);\n",
    "plt.xlabel('Quantidade de Caracteres');\n",
    "plt.ylabel('Quantidade de Comentários');\n",
    "plt.title('Histograma de Caracteres');"
   ]
  },
  {
   "cell_type": "markdown",
   "metadata": {},
   "source": [
    "#### Kernel Density Estimation (KDE)"
   ]
  },
  {
   "cell_type": "code",
   "execution_count": 321,
   "metadata": {},
   "outputs": [
    {
     "data": {
      "image/png": "[encoded data removed]",
      "text/plain": [
       "<Figure size 401.625x360 with 1 Axes>"
      ]
     },
     "metadata": {},
     "output_type": "display_data"
    }
   ],
   "source": [
    "sns.displot(df_sarc, x=\"tamanho_texto\", hue=\"label\", kind=\"kde\");"
   ]
  },
  {
   "cell_type": "markdown",
   "metadata": {},
   "source": [
    "## Etapa de Limpeza e Pré-Processamento dos Dados -- Continuação\n",
    "Aqui dará continuidade, o pré-processamento da coluna 'comment' e pré-processarei também a coluna 'parent_comment' para utilização futura, criando uma nova coluna pré-processada 'clean_parent_comment'.\n",
    "\n",
    "A continuação do pré-processamento ocorre após a análise exploratória pelo fato da continuidade ser importante para o resto do projeto e não para a etapa de análise exploratória. \n",
    "\n",
    "Associado a isso, acrescentei mais uma etapa pelo fato de quando for feito a vetorização, etapas como a de deixar as palavras em minúsculo também já são feitas. \n",
    "\n",
    "Serão aplicadas mais algumas etapas de pré-processamento na coluna 'comment'(lematização) e todas as etapas na coluna 'parent_comment', sendo essas:\n",
    "\n",
    "    - Lematização (Função: 'lemmatizacao'): Ela deriva a palavra, mas garante que ela não perca seu significado. A lematização possui um dicionário pré-definido que armazena o contexto das palavras e verifica a palavra no dicionário enquanto diminui.\n",
    "    - Função 'preprocessamento2': É chamada e aplicada todas as etapas de preprocessamento e tendo como acréscimo a chamada e aplicação da etapa de lematização."
   ]
  },
  {
   "cell_type": "code",
   "execution_count": 322,
   "metadata": {},
   "outputs": [],
   "source": [
    "wordnet_lemmatizer = WordNetLemmatizer()\n",
    "def lemmatizacao(texto):\n",
    "    lemm_texto = [wordnet_lemmatizer.lemmatize(word) for word in texto.split()]\n",
    "    frase = \" \".join(lemm_texto)\n",
    "    return frase"
   ]
  },
  {
   "cell_type": "code",
   "execution_count": 323,
   "metadata": {},
   "outputs": [],
   "source": [
    "# Fiz essa função preprocessamento2 porque estou trabalhando em mais uma etapa de pré-processamento além da lematização\n",
    "#Estou pensando em outra, lucas\n",
    "def preprocessamento2(texto):\n",
    "        texto = preprocessamento(texto)\n",
    "        texto = lemmatizacao(texto)\n",
    "        return texto\n",
    "\n",
    "df_sarc['clean_comment']= df_sarc['clean_comment'].apply(lambda x: lemmatizacao(x))\n",
    "df_sarc['clean_parent_comment']= df_sarc['parent_comment'].apply(lambda x: preprocessamento2(x))"
   ]
  },
  {
   "cell_type": "markdown",
   "metadata": {},
   "source": [
    "## Engenharia de Atributos\n",
    "## Conjunto de Atributos 1: \n",
    "\n",
    "No conjunto de atributos 1, o atributo de entrada será somente a coluna 'comment' já pré-processada como 'clean_comment'. Minha saída serão as classes 0 (Sem Sarcasmo) e classe 1 (Com Sarcasmo).\n",
    "\n",
    "O método para representação vetorial escolhido foi o Bag of Words (Saco de Palavras). Abaixo trarei uma definição e características deste método de vetorização.\n",
    "\n",
    "## Bag of Words\n",
    "Saco de palavras é uma técnica de processamento de linguagem natural de modelagem de texto. Em termos técnicos, podemos dizer que é um método de extração de recursos com dados de texto. Essa abordagem é uma maneira simples e flexível de extrair recursos de documentos.\n",
    "\n",
    "Um saco de palavras é uma representação de texto que descreve a ocorrência de palavras dentro de um documento. Nós apenas acompanhamos a contagem de palavras e desconsideramos os detalhes gramaticais e a ordem das palavras. É chamado de “saco” de palavras porque qualquer informação sobre a ordem ou estrutura das palavras no documento é descartada. O modelo se preocupa apenas com a ocorrência de palavras conhecidas no documento, e não com a localização do documento."
   ]
  },
  {
   "cell_type": "markdown",
   "metadata": {},
   "source": [
    "## Estabelecimento de Um Baseline\n",
    "O Baseline será utilizando o conjunto de atributos 1.\n",
    "### Modelo Escolhido para o Baseline: Multinomial Naive Bayes\n",
    "De forma resumida, o algoritmo Naive Bayes funciona como classificador e baseia-se na probabilidade de cada evento ocorrer, desconsiderando a correlação entre features. Por ter uma parte matemática relativamente simples, possui um bom desempenho e precisa de poucas observações para ter uma boa acurácia. Logo, o multinomial implementa o algoritmo Naive Bayes para dados multinomialmente distribuídos e é uma das duas variantes clássicas Naive Bayes usadas na classificação de texto (onde os dados são tipicamente representados como contagens de vetores de palavras, embora os vetores tf-idf também sejam conhecidos por funcionar bem na prática).\n",
    "\n",
    "O modelo Naive Bayes foi escolhido para ser o baseline por ser muito simples e rápido, possui um desempenho relativamente maior do que outros classificadores. Além disso, o Naive Bayes só precisa de um pequeno número de dados de teste para concluir classificações com uma boa precisão."
   ]
  },
  {
   "cell_type": "code",
   "execution_count": 324,
   "metadata": {},
   "outputs": [],
   "source": [
    "X = df_sarc[['clean_comment']]\n",
    "y = df_sarc['label']\n",
    "\n",
    "X_train, X_test, y_train, y_test = train_test_split(X, y, test_size=0.2, random_state=42, stratify=y)"
   ]
  },
  {
   "cell_type": "markdown",
   "metadata": {},
   "source": [
    "## Método de Vetorização \n",
    "\n",
    "Ressalta-se que os textos de entrada dos treinos e testes já foram pré-processadas anteriormente, como foi exposto.\n",
    "\n",
    "Na minha aplicação de vetorização, será definido previamente na mesma, os limites inferiores e superiores do intervalo de valores n para diferentes n-grams de palavras ou char n-grams a serem extraídos, ou seja, foi definido o 'ngram_range' = (1, 2), que significa que a vetorização irá extrair previamente unigramas e bigramas na vetorização.\n",
    "\n",
    "No sklearn pode ser utilizado através do método 'CountVectorizer'."
   ]
  },
  {
   "cell_type": "code",
   "execution_count": 367,
   "metadata": {},
   "outputs": [],
   "source": [
    "bagwords = CountVectorizer(ngram_range=(1,2))"
   ]
  },
  {
   "cell_type": "code",
   "execution_count": 368,
   "metadata": {},
   "outputs": [],
   "source": [
    "X_train_bag = bagwords.fit_transform(X_train['clean_comment'])\n",
    "X_test_bag = bagwords.transform(X_test['clean_comment'])"
   ]
  },
  {
   "cell_type": "markdown",
   "metadata": {},
   "source": [
    "##### Após aplicação de método de vetorização no treino e teste, continuamos a construção do baseline."
   ]
  },
  {
   "cell_type": "code",
   "execution_count": 369,
   "metadata": {},
   "outputs": [
    {
     "data": {
      "text/plain": [
       "MultinomialNB()"
      ]
     },
     "execution_count": 369,
     "metadata": {},
     "output_type": "execute_result"
    }
   ],
   "source": [
    "model = MultinomialNB()\n",
    "model.fit(X_train_bag, y_train)"
   ]
  },
  {
   "cell_type": "code",
   "execution_count": 370,
   "metadata": {},
   "outputs": [
    {
     "name": "stdout",
     "output_type": "stream",
     "text": [
      "========= F1-SCORE BASELINE ===========\n",
      "O F1-SCORE do Baseline, foi: 79.51\n"
     ]
    }
   ],
   "source": [
    "y_pred = model.predict(X_test_bag)\n",
    "f1_score_baseline = round(f1_score(y_test,y_pred)*100,2)\n",
    "print('========= F1-SCORE BASELINE ===========')\n",
    "print('O F1-SCORE do Baseline, foi:' ,f1_score_baseline)"
   ]
  },
  {
   "cell_type": "code",
   "execution_count": 371,
   "metadata": {},
   "outputs": [
    {
     "data": {
      "image/png": "[encoded data removed]",
      "text/plain": [
       "<Figure size 432x288 with 1 Axes>"
      ]
     },
     "metadata": {},
     "output_type": "display_data"
    }
   ],
   "source": [
    "#Curva ROC e AUC\n",
    "fpr, tpr, _ = metrics.roc_curve(y_test,y_pred)\n",
    "auc_baseline = metrics.roc_auc_score(y_test,y_pred)\n",
    "#Plotando a Curva Roc e AUC\n",
    "plt.plot(fpr,tpr,label=\"AUC=\"+str(auc_baseline))\n",
    "plt.ylabel('True Positive Rate')\n",
    "plt.xlabel('False Positive Rate')\n",
    "plt.legend(loc=4)\n",
    "plt.show()"
   ]
  },
  {
   "cell_type": "markdown",
   "metadata": {},
   "source": [
    "## Conjunto de Atributos 1\n",
    "## Seleção e Avaliação de Modelos \n",
    "No meu Conjunto 1, utilizo as mesmas características do baseline, por isso, irei dividir em treino e validação já com o X pré-processado e vetorizado. A única diferença é que no modelo 1,2 os dados de treino estarão balanceados e nos modelos 3 e 4 não estarão balanceados. Isso proporcionará uma visão mais ampla dos resultados dos modelos em várias situações. "
   ]
  },
  {
   "cell_type": "markdown",
   "metadata": {},
   "source": [
    "## Modelo 1 - Regressão Logística\n",
    "De forma resumida, a Regressão Logística é um algoritmo de aprendizagem de máquina supervisionado utilizado para classificação, apesar de ter a palavra regressão em seu nome. Essa nomenclatura está relacionada com o fato da Regressão Logística ser construída a partir da aplicação de uma transformação/função (denominada função logística ou sigmoide) sobre a Regressão Linear.\n",
    "\n",
    "O modelo de regressão logística foi escolhido por permitir: modelar a probabilidade de um evento ocorrer dependendo dos valores das variáveis independentes, que podem ser categóricas ou contínuas."
   ]
  },
  {
   "cell_type": "code",
   "execution_count": 330,
   "metadata": {},
   "outputs": [
    {
     "data": {
      "text/plain": [
       "dict_keys(['C', 'class_weight', 'dual', 'fit_intercept', 'intercept_scaling', 'l1_ratio', 'max_iter', 'multi_class', 'n_jobs', 'penalty', 'random_state', 'solver', 'tol', 'verbose', 'warm_start'])"
      ]
     },
     "execution_count": 330,
     "metadata": {},
     "output_type": "execute_result"
    }
   ],
   "source": [
    "model1 = LogisticRegression()\n",
    "model1.get_params().keys()"
   ]
  },
  {
   "cell_type": "markdown",
   "metadata": {},
   "source": [
    "### Balanceamento dos dados\n",
    "O balanceamento dos dados ocorreu através da utilização da biblioteca 'imbalanced learn', em que através da utilização do método 'RandomOverSample' objetiva o balanceamento de classes, fazendo uma maximização da classe que possue menos elementos, sendo que essa maximização é feita através da criação desses novos elementos para a classe desbalanceada. \n",
    "\n",
    "Isso faz com que ao construir um modelo de aprendizado com o dataframe, o modelo não seja influenciado pela classe com maior quantidade de dados. "
   ]
  },
  {
   "cell_type": "code",
   "execution_count": 331,
   "metadata": {},
   "outputs": [],
   "source": [
    "balance = RandomOverSampler(random_state=42)\n",
    "X_train_bal, y_train_bal = balance.fit_resample(X_train, y_train)"
   ]
  },
  {
   "cell_type": "markdown",
   "metadata": {},
   "source": [
    "### Vetorizando Novamente Após Balanceamento"
   ]
  },
  {
   "cell_type": "code",
   "execution_count": 332,
   "metadata": {},
   "outputs": [],
   "source": [
    "X_train_bag = bagwords.fit_transform(X_train_bal['clean_comment'])\n",
    "X_test_bag = bagwords.transform(X_test['clean_comment'])"
   ]
  },
  {
   "cell_type": "markdown",
   "metadata": {},
   "source": [
    "### Utilizando Técnicas de Otimização de Hiperparâmetros no Modelo de Regressão\n",
    "### Otimização --- RandomSearch CV\n",
    "\n",
    "A otimização feita no modelo de Regressão Logística foi utilizando o Random Search. Nesta pesquisa aleatória, se configura uma grade de valores de hiperparâmetros e seleciona combinações aleatórias para treinar o modelo e a pontuação. Isso permite controlar explicitamente o número de combinações de parâmetros que são tentadas. O número de iterações de pesquisa é definido com base no tempo ou nos recursos. O Scikit Learn oferece a função 'RandomizedSearchCV' para esse processo.\n",
    "\n",
    "Ressalta-se que através da 'RandomizedSearchCV',a mesma já faz a divisão dos dados de treino em treino e validação através do seu fit, não necessitando assim, fazer a divisão dos dados de treino previamente.\n",
    "\n",
    "Os hiperparâmetros otimizados, foram: \n",
    "    \n",
    "    - C: Inverso da força de regularização, quanto menor o seu valor, maior a força de regularização.\n",
    "    - Penalty: Tecnica de regularização que será utilizada.\n",
    "    - Solver: Algoritmo que será utilizado para o problema da otimização.\n",
    "    - Max_iter: Número máximo de iterações tomadas para os solucionadores convergirem.\n",
    "    - Tol: Tolerância para critérios de parada."
   ]
  },
  {
   "cell_type": "code",
   "execution_count": 333,
   "metadata": {},
   "outputs": [
    {
     "data": {
      "text/plain": [
       "RandomizedSearchCV(estimator=LogisticRegression(),\n",
       "                   param_distributions={'C': [0.001, 0.01, 0.1, 1],\n",
       "                                        'max_iter': [300, 600],\n",
       "                                        'penalty': ['l1', 'l2', 'elasticnet'],\n",
       "                                        'solver': ['newton-cg', 'liblinear',\n",
       "                                                   'sag', 'saga'],\n",
       "                                        'tol': [0.01, 0.001, 0.0001]},\n",
       "                   random_state=42)"
      ]
     },
     "execution_count": 333,
     "metadata": {},
     "output_type": "execute_result"
    }
   ],
   "source": [
    "warnings.filterwarnings(\"ignore\")\n",
    "# Definindo os parâmetros que serão utilizados no RandomSearchCV\n",
    "#C: Inverso da força de regularização; devendo ser um float positivo. Como em SVM, valores menores especificam uma regularização mais forte.\n",
    "model1_params = dict(\n",
    "    C= [0.001, 0.01, 0.1, 1],\n",
    "    penalty= ['l1', 'l2', 'elasticnet'],\n",
    "    max_iter= [300, 600],\n",
    "    solver = ['newton-cg', 'liblinear', 'sag', 'saga'],\n",
    "    tol= [0.01,0.001,0.0001]\n",
    ")\n",
    "meu_primeiro_random = RandomizedSearchCV(model1,model1_params,random_state=42)\n",
    "\n",
    "meu_primeiro_random.fit(X_train_bag,y_train_bal.ravel())"
   ]
  },
  {
   "cell_type": "code",
   "execution_count": 334,
   "metadata": {},
   "outputs": [
    {
     "data": {
      "text/plain": [
       "LogisticRegression(C=0.1, max_iter=300, solver='newton-cg', tol=0.001)"
      ]
     },
     "execution_count": 334,
     "metadata": {},
     "output_type": "execute_result"
    }
   ],
   "source": [
    "meu_primeiro_random.best_estimator_\n",
    "#Então os ajustes definidos para os hiperparâmetros após a aplicação do RandomSearch, foram esses:"
   ]
  },
  {
   "cell_type": "markdown",
   "metadata": {},
   "source": [
    "##### Após aplicação do método de otimização de hiperparâmetros, continuamos com a construção do modelo otimizado."
   ]
  },
  {
   "cell_type": "code",
   "execution_count": 335,
   "metadata": {},
   "outputs": [
    {
     "name": "stdout",
     "output_type": "stream",
     "text": [
      "========= F1-SCORE REGRESSÃO LOGÍSTICA ===========\n",
      "O F1-SCORE do Modelo Regressão Logística Otimizado, do Conjunto 1, foi: 71.99\n"
     ]
    }
   ],
   "source": [
    "y_pred1 = meu_primeiro_random.predict(X_test_bag)\n",
    "f1_score_2 = round(f1_score(y_test,y_pred1)*100,2)\n",
    "print('========= F1-SCORE REGRESSÃO LOGÍSTICA ===========')\n",
    "print('O F1-SCORE do Modelo Regressão Logística Otimizado, do Conjunto 1, foi:' ,f1_score_2)"
   ]
  },
  {
   "cell_type": "code",
   "execution_count": 336,
   "metadata": {},
   "outputs": [
    {
     "data": {
      "image/png": "[encoded data removed]",
      "text/plain": [
       "<Figure size 432x288 with 1 Axes>"
      ]
     },
     "metadata": {},
     "output_type": "display_data"
    }
   ],
   "source": [
    "#Curva ROC e AUC\n",
    "fpr, tpr, _ = metrics.roc_curve(y_test,y_pred1)\n",
    "auc_rl = metrics.roc_auc_score(y_test,y_pred1)\n",
    "#Plotando a Curva Roc e AUC\n",
    "plt.plot(fpr,tpr,label=\"AUC=\"+str(auc_rl))\n",
    "plt.ylabel('True Positive Rate')\n",
    "plt.xlabel('False Positive Rate')\n",
    "plt.legend(loc=4)\n",
    "plt.show()"
   ]
  },
  {
   "cell_type": "markdown",
   "metadata": {},
   "source": [
    "## Modelo 2  - Multinomial Naive Bayes Otimizado\n",
    "De forma resumida, o algoritmo Naive Bayes funciona como classificador e baseia-se na probabilidade de cada evento ocorrer, desconsiderando a correlação entre features. Por ter uma parte matemática relativamente simples, possui um bom desempenho e precisa de poucas observações para ter uma boa acurácia. \n",
    "\n",
    "Logo, o multinomial implementa o algoritmo Naive Bayes para dados multinomialmente distribuídos e é uma das duas variantes clássicas Naive Bayes usadas na classificação de texto (onde os dados são tipicamente representados como contagens de vetores de palavras, embora os vetores tf-idf também sejam conhecidos por funcionar bem na prática).\n",
    "\n",
    "Foi escolhido para se analisar seu resultado também após a tentativa de otimização dos seus parâmetros."
   ]
  },
  {
   "cell_type": "code",
   "execution_count": 337,
   "metadata": {},
   "outputs": [
    {
     "data": {
      "text/plain": [
       "dict_keys(['alpha', 'class_prior', 'fit_prior'])"
      ]
     },
     "execution_count": 337,
     "metadata": {},
     "output_type": "execute_result"
    }
   ],
   "source": [
    "model2 = MultinomialNB()\n",
    "model2.get_params().keys()"
   ]
  },
  {
   "cell_type": "markdown",
   "metadata": {},
   "source": [
    "### Utilizando Técnicas de Otimização de Hiperparâmetros no Modelo Naive Bayes\n",
    "### Otimização --- GridSearch CV\n",
    "A otimização feita no modelo Naive Bayes foi utilizando o Grid Search. A pesquisa de grade pode ser pensada como uma pesquisa exaustiva para selecionar um modelo. Na pesquisa de grade, o cientista de dados configura uma grade de valores de hiperparâmetros e, para cada combinação, treina um modelo e pontua nos dados de teste. Nesta abordagem, todas as combinações de valores de hiperparâmetros são tentadas, o que pode ser muito ineficiente, pela questão do tempo e custo computacional. O Scikit Learn oferece a função 'GridSearchCV' para esse processo. \n",
    "\n",
    "Ressalta-se que através do 'GridSearchCV',a mesma já faz a divisão dos dados de treino em treino e validação através do seu fit, não necessitando assim, fazer a divisão dos dados de treino previamente.\n",
    "\n",
    "Os hiperparâmetros otimizados, foram: \n",
    "    \n",
    "    - Alpha: É o \"Smoothing parameter\" utilizado na equação \"Laplace Smoothing\" para resolver o problema da probabilidade zero no algoritmo Naive Bayes\n",
    "    - Fit_prior: Define se o algoritmo deve aprender a \"Prior probability\"(probabilidade de um evento ocorrer antes de novos dados serem coletados) dos dados."
   ]
  },
  {
   "cell_type": "code",
   "execution_count": 338,
   "metadata": {},
   "outputs": [
    {
     "data": {
      "text/plain": [
       "GridSearchCV(estimator=MultinomialNB(),\n",
       "             param_grid={'alpha': [0.5, 1.0, 1.5, 2.0, 2.5, 3],\n",
       "                         'fit_prior': [True, False]})"
      ]
     },
     "execution_count": 338,
     "metadata": {},
     "output_type": "execute_result"
    }
   ],
   "source": [
    "warnings.filterwarnings(\"ignore\")\n",
    "model2_params = {'alpha':[0.5,1.0,1.5, 2.0,2.5,3],\n",
    "                 'fit_prior': [True, False]}\n",
    "\n",
    "meu_primeiro_grid = GridSearchCV(model2,model2_params)\n",
    "\n",
    "meu_primeiro_grid.fit(X_train_bag,y_train_bal.ravel())"
   ]
  },
  {
   "cell_type": "code",
   "execution_count": 339,
   "metadata": {},
   "outputs": [
    {
     "data": {
      "text/plain": [
       "MultinomialNB(alpha=0.5)"
      ]
     },
     "execution_count": 339,
     "metadata": {},
     "output_type": "execute_result"
    }
   ],
   "source": [
    "meu_primeiro_grid.best_estimator_\n",
    "#Então os ajustes definidos para os hiperparâmetros após a aplicação do GridSearch, foram esses:"
   ]
  },
  {
   "cell_type": "markdown",
   "metadata": {},
   "source": [
    "##### Após aplicação de método de otimização de hiperparâmetros, continuamos com a construção do modelo."
   ]
  },
  {
   "cell_type": "code",
   "execution_count": 340,
   "metadata": {},
   "outputs": [
    {
     "name": "stdout",
     "output_type": "stream",
     "text": [
      "========= F1-SCORE NAIVE BAYES OTIMIZADO ===========\n",
      "O F1-SCORE do Modelo Naive Bayes Otimizado, do Conjunto 1, foi: 73.6\n"
     ]
    }
   ],
   "source": [
    "y_pred2 = meu_primeiro_grid.predict(X_test_bag)\n",
    "f1_score_2 = round(f1_score(y_test,y_pred2)*100,2)\n",
    "print('========= F1-SCORE NAIVE BAYES OTIMIZADO ===========')\n",
    "print('O F1-SCORE do Modelo Naive Bayes Otimizado, do Conjunto 1, foi:' ,f1_score_2)"
   ]
  },
  {
   "cell_type": "code",
   "execution_count": 341,
   "metadata": {},
   "outputs": [
    {
     "data": {
      "image/png": "[encoded data removed]",
      "text/plain": [
       "<Figure size 432x288 with 1 Axes>"
      ]
     },
     "metadata": {},
     "output_type": "display_data"
    }
   ],
   "source": [
    "#Curva ROC e AUC\n",
    "fpr, tpr, _ = metrics.roc_curve(y_test,y_pred2)\n",
    "auc_nv = metrics.roc_auc_score(y_test,y_pred2)\n",
    "#Plotando a Curva Roc e AUC\n",
    "plt.plot(fpr,tpr,label=\"AUC=\"+str(auc_nv))\n",
    "plt.ylabel('True Positive Rate')\n",
    "plt.xlabel('False Positive Rate')\n",
    "plt.legend(loc=4)\n",
    "plt.show()"
   ]
  },
  {
   "cell_type": "markdown",
   "metadata": {},
   "source": [
    "## Modelo 3 - Stochastic Gradient Descendent Classifier (SGDClassifier)\n",
    "SGDClassifier é de fato uma técnica que é usada para encontrar os mínimos de uma função. SGDClassifier é um classificador (por padrão no sklearn é um SVM) que usa SGD para treinamento (ou seja, procurando os mínimos da perda usando SGD). De acordo com a documentação:\n",
    "\n",
    "Este estimador implementa modelos lineares regularizados com aprendizado estocástico de gradiente descendente (SGD): o gradiente da perda é estimado em cada amostra de cada vez e o modelo é atualizado ao longo do caminho com um cronograma de força decrescente (também conhecido como taxa de aprendizado). Para obter melhores resultados usando a programação de taxa de aprendizado padrão, os dados devem ter média zero e variância unitária.\n",
    "\n",
    "Essa implementação funciona com dados representados como matrizes densas ou esparsas de valores de ponto flutuante para os recursos. O modelo que ele se ajusta pode ser controlado com o parâmetro de perda; por padrão, ele se encaixa em uma máquina de vetor de suporte linear (SVM).\n",
    "\n",
    "Foi escolhido pelo fato de ser um classificador (por padrão no sklearn é um SVM) que usa SGD para treinamento (ou seja, procurando os mínimos da perda usando SGD)."
   ]
  },
  {
   "cell_type": "code",
   "execution_count": 342,
   "metadata": {},
   "outputs": [
    {
     "data": {
      "text/plain": [
       "dict_keys(['alpha', 'average', 'class_weight', 'early_stopping', 'epsilon', 'eta0', 'fit_intercept', 'l1_ratio', 'learning_rate', 'loss', 'max_iter', 'n_iter_no_change', 'n_jobs', 'penalty', 'power_t', 'random_state', 'shuffle', 'tol', 'validation_fraction', 'verbose', 'warm_start'])"
      ]
     },
     "execution_count": 342,
     "metadata": {},
     "output_type": "execute_result"
    }
   ],
   "source": [
    "model3 = SGDClassifier()\n",
    "model3.get_params().keys()"
   ]
  },
  {
   "cell_type": "markdown",
   "metadata": {},
   "source": [
    "### Vetorizando sem Utilizar Balanceamento\n",
    "No modelo SGDClassifier, não utilizarei o balaceamento das classes no treino."
   ]
  },
  {
   "cell_type": "code",
   "execution_count": 343,
   "metadata": {},
   "outputs": [],
   "source": [
    "X_train_bag = bagwords.fit_transform(X_train['clean_comment'])\n",
    "X_test_bag = bagwords.transform(X_test['clean_comment'])"
   ]
  },
  {
   "cell_type": "markdown",
   "metadata": {},
   "source": [
    "### Utilizando Técnicas de Otimização de Hiperparâmetros no Modelo SGDClassifier\n",
    "### Otimização --- RandomSearch CV\n",
    "A otimização feita no modelo SGDClassifier foi utilizando o Random Search. Nesta pesquisa aleatória, se configura uma grade de valores de hiperparâmetros e seleciona combinações aleatórias para treinar o modelo e a pontuação. Isso permite controlar explicitamente o número de combinações de parâmetros que são tentadas. O número de iterações de pesquisa é definido com base no tempo ou nos recursos. O Scikit Learn oferece a função 'RandomizedSearchCV' para esse processo.\n",
    "\n",
    "Ressalta-se que através da 'RandomizedSearchCV',a mesma já faz a divisão dos dados de treino em treino e validação através do seu fit, não necessitando assim, fazer a divisão dos dados de treino previamente.\n",
    "\n",
    "Os hiperparâmetros otimizados, foram: \n",
    "    \n",
    "    - Alpha: Constante que multiplica o prazo de regularização. Quanto maior o valor, mais forte a regularização. Também usado para calcular a taxa de aprendizado quando definido como learning_rate é definido como 'ótimo'.\n",
    "    - Penalty: Tecnica de regularização que será utilizada. \n",
    "    - Max_iter: Número máximo de iterações tomadas para os solucionadores convergirem.\n",
    "    - Tol: Tolerância para critérios de parada."
   ]
  },
  {
   "cell_type": "code",
   "execution_count": 344,
   "metadata": {},
   "outputs": [
    {
     "data": {
      "text/plain": [
       "RandomizedSearchCV(cv=5, estimator=SGDClassifier(),\n",
       "                   param_distributions={'alpha': [0.0001, 0.001, 0.01, 0.1, 1,\n",
       "                                                  10, 100],\n",
       "                                        'max_iter': [100, 300, 600],\n",
       "                                        'penalty': ['none', 'l1', 'l2'],\n",
       "                                        'tol': [0.01, 0.001, 0.0001]})"
      ]
     },
     "execution_count": 344,
     "metadata": {},
     "output_type": "execute_result"
    }
   ],
   "source": [
    "model3_params = {\n",
    "              'tol': [0.01,0.001,0.0001],\n",
    "              'max_iter': [100,300,600],\n",
    "              'alpha': [0.0001, 0.001, 0.01, 0.1, 1, 10, 100],\n",
    "              'penalty': [\"none\", \"l1\", \"l2\"]}\n",
    "\n",
    "meu_segundo_random = RandomizedSearchCV(model3,model3_params,cv=5)\n",
    "\n",
    "meu_segundo_random.fit(X_train_bag,y_train.ravel())"
   ]
  },
  {
   "cell_type": "code",
   "execution_count": 345,
   "metadata": {},
   "outputs": [
    {
     "data": {
      "text/plain": [
       "SGDClassifier(alpha=0.001, max_iter=100)"
      ]
     },
     "execution_count": 345,
     "metadata": {},
     "output_type": "execute_result"
    }
   ],
   "source": [
    "meu_segundo_random.best_estimator_\n",
    "#Então os ajustes definidos para os hiperparâmetros após a aplicação do RandomSearch, foram esses:"
   ]
  },
  {
   "cell_type": "markdown",
   "metadata": {},
   "source": [
    "#### Após aplicação de método de otimização de hiperparâmetros, continuamos com a construção do modelo."
   ]
  },
  {
   "cell_type": "code",
   "execution_count": 346,
   "metadata": {},
   "outputs": [
    {
     "name": "stdout",
     "output_type": "stream",
     "text": [
      "========= F1-SCORE SGDCLASSIFIER OTIMIZADO ===========\n",
      "O F1-SCORE do SGDClassifier Otimizado, do Conjunto 1, foi: 73.6\n"
     ]
    }
   ],
   "source": [
    "y_pred3 = meu_segundo_random.predict(X_test_bag)\n",
    "f1_score_3 = round(f1_score(y_test,y_pred3)*100,2)\n",
    "print('========= F1-SCORE SGDCLASSIFIER OTIMIZADO ===========')\n",
    "print('O F1-SCORE do SGDClassifier Otimizado, do Conjunto 1, foi:' ,f1_score_3)"
   ]
  },
  {
   "cell_type": "code",
   "execution_count": 347,
   "metadata": {},
   "outputs": [
    {
     "data": {
      "image/png": "[encoded data removed]",
      "text/plain": [
       "<Figure size 432x288 with 1 Axes>"
      ]
     },
     "metadata": {},
     "output_type": "display_data"
    }
   ],
   "source": [
    "#Curva ROC e AUC\n",
    "fpr, tpr, _ = metrics.roc_curve(y_test,y_pred3)\n",
    "auc_sgd = metrics.roc_auc_score(y_test,y_pred3)\n",
    "#Plotando a Curva Roc e AUC\n",
    "plt.plot(fpr,tpr,label=\"AUC=\"+str(auc_sgd))\n",
    "plt.ylabel('True Positive Rate')\n",
    "plt.xlabel('False Positive Rate')\n",
    "plt.legend(loc=4)\n",
    "plt.show()"
   ]
  },
  {
   "cell_type": "markdown",
   "metadata": {},
   "source": [
    "## Modelo 4 - XGBoosting (Modelo Novo)\n",
    "O XGBoost significa eXtreme Gradient Boosting, que é um algoritmo de aumento baseado no algoritmo de árvores de decisão com aumento de gradiente. O XGBoost aplica uma técnica de regularização melhor para reduzir o overfitting, e é uma das diferenças do aumento de gradiente. O 'xgboost' é uma biblioteca de código aberto que fornece algoritmos de aprendizado de máquina sob os métodos de aumento de gradiente.\n",
    "\n",
    "Já o xgboost.XGBClassifier é uma classe compatível com a API scikit-learn para classificação.\n",
    "\n",
    "Outra definição: 'Pense no XGBoost como um aumento de gradiente em 'esteróides' (bem, é chamado de 'Extremo Gradient Boosting' por um motivo!). É uma combinação perfeita de técnicas de otimização de software e hardware para produzir resultados superiores usando menos recursos de computação no menor tempo possível.'\n",
    "\n",
    "Foi escolhido pelo fato de ser um método que está sendo bastante utilizado e além disso, gostaria de ver como seria o comportamento e o resultado  de uma algoritmo baseado em árvores.\n",
    "### Utilizando Técnicas de Otimização de Hiperparâmetros no Modelo XGBoosting"
   ]
  },
  {
   "cell_type": "code",
   "execution_count": 348,
   "metadata": {},
   "outputs": [
    {
     "data": {
      "text/plain": [
       "dict_keys(['objective', 'use_label_encoder', 'base_score', 'booster', 'colsample_bylevel', 'colsample_bynode', 'colsample_bytree', 'enable_categorical', 'gamma', 'gpu_id', 'importance_type', 'interaction_constraints', 'learning_rate', 'max_delta_step', 'max_depth', 'min_child_weight', 'missing', 'monotone_constraints', 'n_estimators', 'n_jobs', 'num_parallel_tree', 'predictor', 'random_state', 'reg_alpha', 'reg_lambda', 'scale_pos_weight', 'subsample', 'tree_method', 'validate_parameters', 'verbosity'])"
      ]
     },
     "execution_count": 348,
     "metadata": {},
     "output_type": "execute_result"
    }
   ],
   "source": [
    "model4 = xgb.XGBClassifier()\n",
    "model4.get_params().keys()"
   ]
  },
  {
   "cell_type": "markdown",
   "metadata": {},
   "source": [
    "### Construindo o Modelo Sem Balanceamento"
   ]
  },
  {
   "cell_type": "markdown",
   "metadata": {},
   "source": [
    "### Otimização --- RandomSearch CV\n",
    "A otimização feita no modelo XGBoosting foi utilizando o Random Search. Nesta pesquisa aleatória, se configura uma grade de valores de hiperparâmetros e seleciona combinações aleatórias para treinar o modelo e a pontuação. Isso permite controlar explicitamente o número de combinações de parâmetros que são tentadas. O número de iterações de pesquisa é definido com base no tempo ou nos recursos. O Scikit Learn oferece a função 'RandomizedSearchCV' para esse processo.\n",
    "\n",
    "Ressalta-se que através da 'RandomizedSearchCV',a mesma já faz a divisão dos dados de treino em treino e validação através do seu fit, não necessitando assim, fazer a divisão dos dados de treino previamente.\n",
    "\n",
    "Os hiperparâmetros otimizados, foram: \n",
    "\n",
    "    - n_estimators: especifica o número de árvores de decisão a serem impulsionadas. Se n_estimator = 1, significa que apenas 1 árvore é gerada, portanto, nenhum aumento está funcionando.\n",
    "    - max_depth: Indica a altura máxima das árvores usadas pelo modelo, ou seja: a quantidade máxima de Nodes que podem haver da raiz até uma folha. Quanto maior, mais complexo será o modelo, portanto deve haver um equilíbrio para evitar tanto um overfitting (complexo demais) quanto underfitting (simples demais).\n",
    "    - learning_rate: é um parâmetro de regularização que reduz os pesos dos recursos em cada etapa de reforço.\n",
    "    - colsample_bytree: é a razão de subamostra de colunas ao construir cada árvore. A subamostragem ocorre uma vez para cada árvore construída.\n",
    "    - gamma: é outro parâmetro de regularização para poda de árvores. Especifica a redução mínima de perda necessária para cultivar uma árvore.\n",
    "    - scale_pos_weight: Este parâmetro é útil caso você tenha um conjunto de dados desequilibrado, principalmente em problemas de classificação, onde a proporção de uma classe é uma pequena fração do total de observações (por exemplo, fraude de cartão de crédito)\n",
    "    - min_child_weight: O peso mínimo, ou quantidade mínima de amostras se todas tiverem peso 1, necessário para cada árvore criar um novo Node. Um valor pequeno vai permitir o algoritmo criar Nodes que correspondem a uma quantidade menor de amostras, fazendo assim o modelo ficar mais complexo."
   ]
  },
  {
   "cell_type": "code",
   "execution_count": 374,
   "metadata": {},
   "outputs": [
    {
     "data": {
      "text/plain": [
       "RandomizedSearchCV(estimator=XGBClassifier(base_score=None, booster=None,\n",
       "                                           colsample_bylevel=None,\n",
       "                                           colsample_bynode=None,\n",
       "                                           colsample_bytree=None,\n",
       "                                           enable_categorical=False, gamma=None,\n",
       "                                           gpu_id=None, importance_type=None,\n",
       "                                           interaction_constraints=None,\n",
       "                                           learning_rate=None,\n",
       "                                           max_delta_step=None, max_depth=None,\n",
       "                                           min_child_weight=None, missing=nan,\n",
       "                                           monotone_constraints=None...\n",
       "                                        'min_child_weight': <scipy.stats._distn_infrastructure.rv_frozen object at 0x0000024F1E52E1F0>,\n",
       "                                        'n_estimators': <scipy.stats._distn_infrastructure.rv_frozen object at 0x0000024F8AA77340>,\n",
       "                                        'scale_pos_weight': <scipy.stats._distn_infrastructure.rv_frozen object at 0x0000024F366CE670>,\n",
       "                                        'subsample': <scipy.stats._distn_infrastructure.rv_frozen object at 0x0000024F1F1CD130>},\n",
       "                   random_state=42)"
      ]
     },
     "execution_count": 374,
     "metadata": {},
     "output_type": "execute_result"
    }
   ],
   "source": [
    "warnings.filterwarnings(\"ignore\")\n",
    "model4_params = {\n",
    "            \"n_estimators\": st.randint(3, 40),\n",
    "            \"max_depth\": st.randint(3, 40),\n",
    "            \"learning_rate\": st.uniform(0.05, 0.4),\n",
    "            \"colsample_bytree\": st.beta(10, 1),\n",
    "            \"subsample\": st.beta(10, 1),\n",
    "            \"gamma\": st.uniform(0, 10),\n",
    "            'scale_pos_weight': st.randint(0, 2),\n",
    "            \"min_child_weight\": st.expon(0, 50)\n",
    "}\n",
    "              \n",
    "\n",
    "meu_terceiro_random = RandomizedSearchCV(model4,model4_params,random_state=42)\n",
    "\n",
    "meu_terceiro_random.fit(X_train_bag,y_train.ravel(),eval_metric='logloss')"
   ]
  },
  {
   "cell_type": "code",
   "execution_count": 375,
   "metadata": {},
   "outputs": [
    {
     "data": {
      "text/plain": [
       "XGBClassifier(base_score=0.5, booster='gbtree', colsample_bylevel=1,\n",
       "              colsample_bynode=1, colsample_bytree=0.9054534062500171,\n",
       "              enable_categorical=False, gamma=2.030612247347694, gpu_id=-1,\n",
       "              importance_type=None, interaction_constraints='',\n",
       "              learning_rate=0.4271414282231924, max_delta_step=0, max_depth=9,\n",
       "              min_child_weight=17.107015194352854, missing=nan,\n",
       "              monotone_constraints='()', n_estimators=24, n_jobs=8,\n",
       "              num_parallel_tree=1, predictor='auto', random_state=0,\n",
       "              reg_alpha=0, reg_lambda=1, scale_pos_weight=1,\n",
       "              subsample=0.8699726803633051, tree_method='exact',\n",
       "              validate_parameters=1, verbosity=None)"
      ]
     },
     "execution_count": 375,
     "metadata": {},
     "output_type": "execute_result"
    }
   ],
   "source": [
    "meu_terceiro_random.best_estimator_\n",
    "#Então os ajustes definidos para os hiperparâmetros após a aplicação do RandomSearch, foram esses:"
   ]
  },
  {
   "cell_type": "markdown",
   "metadata": {},
   "source": [
    "##### Após aplicação de método de otimização de hiperparâmetros, continuamos com a construção do modelo."
   ]
  },
  {
   "cell_type": "code",
   "execution_count": 376,
   "metadata": {},
   "outputs": [
    {
     "name": "stdout",
     "output_type": "stream",
     "text": [
      "========= F1-SCORE XGBOOSTING OTIMIZADO ===========\n",
      "O F1-SCORE Modelo XGBoosting Otimizado, do Conjunto 1, foi: 80.09\n"
     ]
    }
   ],
   "source": [
    "y_pred4 = meu_terceiro_random.predict(X_test_bag)\n",
    "f1_score_4 = round(f1_score(y_test,y_pred4)*100,2)\n",
    "print('========= F1-SCORE XGBOOSTING OTIMIZADO ===========')\n",
    "print('O F1-SCORE Modelo XGBoosting Otimizado, do Conjunto 1, foi:' ,f1_score_4)"
   ]
  },
  {
   "cell_type": "code",
   "execution_count": 378,
   "metadata": {},
   "outputs": [
    {
     "data": {
      "image/png": "[encoded data removed]",
      "text/plain": [
       "<Figure size 432x288 with 1 Axes>"
      ]
     },
     "metadata": {},
     "output_type": "display_data"
    }
   ],
   "source": [
    "#Curva ROC e AUC\n",
    "fpr, tpr, _ = metrics.roc_curve(y_test,y_pred4)\n",
    "auc_xgboost = metrics.roc_auc_score(y_test,y_pred4)\n",
    "#Plotando a Curva Roc e AUC\n",
    "plt.plot(fpr,tpr,label=\"AUC=\"+str(auc_xgboost))\n",
    "plt.ylabel('True Positive Rate')\n",
    "plt.xlabel('False Positive Rate')\n",
    "plt.legend(loc=4)\n",
    "plt.show()"
   ]
  },
  {
   "cell_type": "markdown",
   "metadata": {},
   "source": [
    "## Conjunto de Atributos 2\n",
    "## Seleção e Avaliação de Modelos\n",
    "No conjunto de atributos 2, que será usado para a construção de mais 4 modelos, o atributo de entrada será somente a coluna 'comment' já pré-processada como 'clean_comment'. Minha saída serão as classes 0 (Sem Sarcasmo) e classe 1 (Com Sarcasmo). Porquê a escolha de manter a mesmas entradas de atributos? Isso ocorre pelo fato de que vou mudar meu método de vetorização. No meu Conjunto 2, meu método de vetorização será o TF-IDF.\n",
    "\n",
    "Logo, como explanado acima, o método para representação vetorial escolhido para o Conjunto de Atributos 2, foi o TF-IDF.\n",
    "\n",
    "## TF-IDF\n",
    "\n",
    "TF-IDF ('term frequency'-'inverse document frequency') é uma medida estatística que avalia a relevância de uma palavra para um documento em uma coleção de documentos.\n",
    "\n",
    "Isso é feito multiplicando duas métricas: quantas vezes uma palavra aparece em um documento e a frequência inversa do documento da palavra em um conjunto de documentos.\n",
    "\n",
    "Ele tem muitos usos, principalmente na análise automatizada de texto, e é muito útil para pontuar palavras em algoritmos de aprendizado de máquina para processamento de linguagem natural (NLP).\n",
    "\n",
    "O TF-IDF foi inventado para busca de documentos e recuperação de informações. Ele funciona aumentando proporcionalmente ao número de vezes que uma palavra aparece em um documento, mas é compensado pelo número de documentos que contêm a palavra. Portanto, palavras comuns em todos os documentos, como este, o que e se, têm uma classificação baixa, embora possam aparecer muitas vezes, pois não significam muito para esse documento em particular.\n",
    "\n"
   ]
  },
  {
   "cell_type": "markdown",
   "metadata": {},
   "source": [
    "#### Nos modelos 1 e 2, será mantido o balanceamento das classes no treino"
   ]
  },
  {
   "cell_type": "code",
   "execution_count": 381,
   "metadata": {},
   "outputs": [],
   "source": [
    "balance = RandomOverSampler(random_state=42)\n",
    "X_train_bal, y_train_bal = balance.fit_resample(X_train, y_train)"
   ]
  },
  {
   "cell_type": "markdown",
   "metadata": {},
   "source": [
    "## Método de Vetorização -- Conjunto de Atributos 2\n",
    "No sklearn pode ser utilizado através do método 'TfidfVectorizer'.\n",
    "\n",
    "Ressalta-se que os textos de entrada dos treinos e testes já foram pré-processadas que eu construí anteriormente, como foi exposto. \n",
    "\n",
    "Na minha aplicação de vetorização, será definido previamente na mesma, os limites inferiores e superiores do intervalo de valores n para diferentes n-grams de palavras ou char n-grams a serem extraídos, ou seja, foi definido o 'ngram_range' = (1, 2), que significa que a vetorização irá extrair previamente unigramas e bigramas na vetorização.\n"
   ]
  },
  {
   "cell_type": "code",
   "execution_count": 382,
   "metadata": {},
   "outputs": [],
   "source": [
    "tfidf = TfidfVectorizer(ngram_range=(1,2))"
   ]
  },
  {
   "cell_type": "code",
   "execution_count": 383,
   "metadata": {},
   "outputs": [],
   "source": [
    "X_train_tfidf = tfidf.fit_transform(X_train_bal['clean_comment'])\n",
    "X_test_tfidf = tfidf.transform(X_test['clean_comment'])"
   ]
  },
  {
   "cell_type": "markdown",
   "metadata": {},
   "source": [
    "## Modelo 1  - Multinomial Naive Bayes Otimizado\n",
    "De forma resumida, o algoritmo Naive Bayes funciona como classificador e baseia-se na probabilidade de cada evento ocorrer, desconsiderando a correlação entre features. Por ter uma parte matemática relativamente simples, possui um bom desempenho e precisa de poucas observações para ter uma boa acurácia. \n",
    "\n",
    "Logo, o multinomial implementa o algoritmo Naive Bayes para dados multinomialmente distribuídos e é uma das duas variantes clássicas Naive Bayes usadas na classificação de texto (onde os dados são tipicamente representados como contagens de vetores de palavras, embora os vetores tf-idf também sejam conhecidos por funcionar bem na prática).\n"
   ]
  },
  {
   "cell_type": "code",
   "execution_count": 384,
   "metadata": {},
   "outputs": [
    {
     "data": {
      "text/plain": [
       "dict_keys(['alpha', 'class_prior', 'fit_prior'])"
      ]
     },
     "execution_count": 384,
     "metadata": {},
     "output_type": "execute_result"
    }
   ],
   "source": [
    "model1_2 = MultinomialNB()\n",
    "model1_2.get_params().keys()"
   ]
  },
  {
   "cell_type": "markdown",
   "metadata": {},
   "source": [
    "### Utilizando Técnicas de Otimização de Hiperparâmetros no Modelo Naive Bayes\n",
    "### Otimização --- GridSearch CV\n",
    "A otimização feita no modelo Naive Bayes foi utilizando o Grid Search. A pesquisa de grade pode ser pensada como uma pesquisa exaustiva para selecionar um modelo. Na pesquisa de grade, o cientista de dados configura uma grade de valores de hiperparâmetros e, para cada combinação, treina um modelo e pontua nos dados de teste. Nesta abordagem, todas as combinações de valores de hiperparâmetros são tentadas, o que pode ser muito ineficiente, pela questão do tempo e custo computacional. O Scikit Learn oferece a função 'GridSearchCV' para esse processo. \n",
    "\n",
    "Ressalta-se que através do 'GridSearchCV',a mesma já faz a divisão dos dados de treino em treino e validação através do seu fit, não necessitando assim, fazer a divisão dos dados de treino previamente.\n",
    "\n",
    "Os hiperparâmetros otimizados, foram: \n",
    "    \n",
    "    - Alpha: É o \"Smoothing parameter\" utilizado na equação \"Laplace Smoothing\" para resolver o problema da probabilidade zero no algoritmo Naive Bayes\n",
    "    - Fit_prior: Define se o algoritmo deve aprender a \"Prior probability\"(probabilidade de um evento ocorrer antes de novos dados serem coletados) dos dados."
   ]
  },
  {
   "cell_type": "code",
   "execution_count": 385,
   "metadata": {},
   "outputs": [
    {
     "data": {
      "text/plain": [
       "GridSearchCV(estimator=MultinomialNB(),\n",
       "             param_grid={'alpha': [0.5, 1.0, 1.5, 2.0, 2.5, 3],\n",
       "                         'fit_prior': [True, False]})"
      ]
     },
     "execution_count": 385,
     "metadata": {},
     "output_type": "execute_result"
    }
   ],
   "source": [
    "warnings.filterwarnings(\"ignore\")\n",
    "model1_2_params = {'alpha':[0.5,1.0,1.5, 2.0,2.5,3],\n",
    "                 'fit_prior': [True, False]}\n",
    "\n",
    "meu_segundo_grid = GridSearchCV(model1_2,model1_2_params)\n",
    "\n",
    "meu_segundo_grid.fit(X_train_tfidf,y_train_bal.ravel())"
   ]
  },
  {
   "cell_type": "code",
   "execution_count": 386,
   "metadata": {},
   "outputs": [
    {
     "data": {
      "text/plain": [
       "MultinomialNB(alpha=0.5)"
      ]
     },
     "execution_count": 386,
     "metadata": {},
     "output_type": "execute_result"
    }
   ],
   "source": [
    "meu_segundo_grid.best_estimator_\n",
    "#Então os ajustes definidos para os hiperparâmetros após a aplicação do GridSearch, foram esses:"
   ]
  },
  {
   "cell_type": "markdown",
   "metadata": {},
   "source": [
    "##### Após aplicação de método de otimização de hiperparâmetros, continuamos com a construção do modelo."
   ]
  },
  {
   "cell_type": "code",
   "execution_count": 387,
   "metadata": {},
   "outputs": [
    {
     "name": "stdout",
     "output_type": "stream",
     "text": [
      "========= F1-SCORE NAIVE BAYES OTIMIZADO ===========\n",
      "O F1-SCORE do Modelo Naive Bayes Otimizado, do Conjunto 2, foi: 72.82\n"
     ]
    }
   ],
   "source": [
    "pred_y1 = meu_segundo_grid.predict(X_test_tfidf)\n",
    "f1_score_2_1 = round(f1_score(y_test,pred_y1)*100,2)\n",
    "print('========= F1-SCORE NAIVE BAYES OTIMIZADO ===========')\n",
    "print('O F1-SCORE do Modelo Naive Bayes Otimizado, do Conjunto 2, foi:' ,f1_score_2_1)"
   ]
  },
  {
   "cell_type": "code",
   "execution_count": 388,
   "metadata": {},
   "outputs": [
    {
     "data": {
      "image/png": "[encoded data removed]",
      "text/plain": [
       "<Figure size 432x288 with 1 Axes>"
      ]
     },
     "metadata": {},
     "output_type": "display_data"
    }
   ],
   "source": [
    "#Curva ROC e AUC\n",
    "fpr, tpr, _ = metrics.roc_curve(y_test,pred_y1)\n",
    "auc_nv_2 = metrics.roc_auc_score(y_test,pred_y1)\n",
    "#Plotando a Curva Roc e AUC\n",
    "plt.plot(fpr,tpr,label=\"AUC=\"+str(auc_nv_2))\n",
    "plt.ylabel('True Positive Rate')\n",
    "plt.xlabel('False Positive Rate')\n",
    "plt.legend(loc=4)\n",
    "plt.show()"
   ]
  },
  {
   "cell_type": "markdown",
   "metadata": {},
   "source": [
    "## Modelo 2 -- Rede Neural Multilayer Perceptron (MLP)"
   ]
  },
  {
   "cell_type": "code",
   "execution_count": 389,
   "metadata": {},
   "outputs": [
    {
     "data": {
      "text/plain": [
       "dict_keys(['activation', 'alpha', 'batch_size', 'beta_1', 'beta_2', 'early_stopping', 'epsilon', 'hidden_layer_sizes', 'learning_rate', 'learning_rate_init', 'max_fun', 'max_iter', 'momentum', 'n_iter_no_change', 'nesterovs_momentum', 'power_t', 'random_state', 'shuffle', 'solver', 'tol', 'validation_fraction', 'verbose', 'warm_start'])"
      ]
     },
     "execution_count": 389,
     "metadata": {},
     "output_type": "execute_result"
    }
   ],
   "source": [
    "from sklearn.neural_network import MLPClassifier\n",
    "model2_2 = MLPClassifier()\n",
    "model2_2.get_params().keys()"
   ]
  },
  {
   "cell_type": "markdown",
   "metadata": {},
   "source": [
    "### Otimização --- RandomSearch CV\n",
    "A otimização feita na Rede Neural Multilayer Perceptron foi utilizando o Random Search. Nesta pesquisa aleatória, se configura uma grade de valores de hiperparâmetros e seleciona combinações aleatórias para treinar o modelo e a pontuação. Isso permite controlar explicitamente o número de combinações de parâmetros que são tentadas. O número de iterações de pesquisa é definido com base no tempo ou nos recursos. O Scikit Learn oferece a função 'RandomizedSearchCV' para esse processo.\n",
    "\n",
    "Ressalta-se que através da 'RandomizedSearchCV',a mesma já faz a divisão dos dados de treino em treino e validação através do seu fit, não necessitando assim, fazer a divisão dos dados de treino previamente.\n",
    "\n",
    "Os hiperparâmetros otimizados, foram: \n",
    "\n",
    "    - n_estimators: especifica o número de árvores de decisão a serem impulsionadas. Se n_estimator = 1, significa que apenas 1 árvore é gerada, portanto, nenhum aumento está funcionando.\n",
    "    - max_depth: Indica a altura máxima das árvores usadas pelo modelo, ou seja: a quantidade máxima de Nodes que podem haver da raiz até uma folha. Quanto maior, mais complexo será o modelo, portanto deve haver um equilíbrio para evitar tanto um overfitting (complexo demais) quanto underfitting (simples demais).\n",
    "    - learning_rate: é um parâmetro de regularização que reduz os pesos dos recursos em cada etapa de reforço.\n",
    "    - colsample_bytree: é a razão de subamostra de colunas ao construir cada árvore. A subamostragem ocorre uma vez para cada árvore construída.\n",
    "    - gamma: é outro parâmetro de regularização para poda de árvores. Especifica a redução mínima de perda necessária para cultivar uma árvore.\n",
    "    - scale_pos_weight: Este parâmetro é útil caso você tenha um conjunto de dados desequilibrado, principalmente em problemas de classificação, onde a proporção de uma classe é uma pequena fração do total de observações (por exemplo, fraude de cartão de crédito)\n",
    "    - min_child_weight: O peso mínimo, ou quantidade mínima de amostras se todas tiverem peso 1, necessário para cada árvore criar um novo Node. Um valor pequeno vai permitir o algoritmo criar Nodes que correspondem a uma quantidade menor de amostras, fazendo assim o modelo ficar mais complexo."
   ]
  },
  {
   "cell_type": "code",
   "execution_count": 393,
   "metadata": {},
   "outputs": [
    {
     "data": {
      "text/plain": [
       "\"from scipy.stats import uniform \\nmodel2_2_params = dict(\\n    alpha = [10**uniform.rvs(loc=-5, scale=4)],\\n    activation=['relu','logistic','tanh'],\\n    hidden_layer_sizes=[(200),(200,100),(250,350,450)],\\n    max_iter= [100, 300, 600]\\n)\\nmeu_quarto_random = RandomizedSearchCV(model2_2, model2_2_params, random_state=42)\\nmeu_quarto_random.fit(X_train_tfidf,y_train_bal.ravel())\""
      ]
     },
     "execution_count": 393,
     "metadata": {},
     "output_type": "execute_result"
    }
   ],
   "source": [
    "'''from scipy.stats import uniform \n",
    "model2_2_params = dict(\n",
    "    alpha = [10**uniform.rvs(loc=-5, scale=4)],\n",
    "    activation=['relu','logistic','tanh'],\n",
    "    hidden_layer_sizes=[(200),(200,100),(250,350,450)],\n",
    "    max_iter= [100, 300, 600]\n",
    ")\n",
    "meu_quarto_random = RandomizedSearchCV(model2_2, model2_2_params, random_state=42)\n",
    "meu_quarto_random.fit(X_train_tfidf,y_train_bal.ravel())'''"
   ]
  },
  {
   "cell_type": "code",
   "execution_count": null,
   "metadata": {},
   "outputs": [],
   "source": [
    "meu_quarto_random.best_estimator_\n",
    "#Então os ajustes definidos para os hiperparâmetros após a aplicação do RandomSearch, foram esses:"
   ]
  },
  {
   "cell_type": "code",
   "execution_count": null,
   "metadata": {},
   "outputs": [],
   "source": [
    "pred_y2 = meu_quarto_random.predict(X_test_tfidf)\n",
    "f1_score_2_2 = round(f1_score(y_test,pred_y2)*100,2)\n",
    "print('========= F1-SCORE MLP ===========')\n",
    "print('O F1-SCORE do Modelo Rede Neural Multilayer Perceptron Otimizada, do Conjunto 2, foi:' ,f1_score_2_2)"
   ]
  },
  {
   "cell_type": "code",
   "execution_count": null,
   "metadata": {},
   "outputs": [],
   "source": [
    "#Curva ROC e AUC\n",
    "fpr, tpr, _ = metrics.roc_curve(y_test,pred_y2)\n",
    "auc_mlp = metrics.roc_auc_score(y_test,pred_y2)\n",
    "#Plotando a Curva Roc e AUC\n",
    "plt.plot(fpr,tpr,label=\"AUC=\"+str(auc_mlp))\n",
    "plt.ylabel('True Positive Rate')\n",
    "plt.xlabel('False Positive Rate')\n",
    "plt.legend(loc=4)\n",
    "plt.show()"
   ]
  },
  {
   "cell_type": "code",
   "execution_count": null,
   "metadata": {},
   "outputs": [],
   "source": []
  }
 ],
 "metadata": {
  "kernelspec": {
   "display_name": "Python 3",
   "language": "python",
   "name": "python3"
  },
  "language_info": {
   "codemirror_mode": {
    "name": "ipython",
    "version": 3
   },
   "file_extension": ".py",
   "mimetype": "text/x-python",
   "name": "python",
   "nbconvert_exporter": "python",
   "pygments_lexer": "ipython3",
   "version": "3.9.1"
  }
 },
 "nbformat": 4,
 "nbformat_minor": 4
}
